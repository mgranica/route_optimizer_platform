{
 "cells": [
  {
   "cell_type": "code",
   "execution_count": 1,
   "id": "56c89e4f-9ce3-4858-bc57-8582541d4e55",
   "metadata": {},
   "outputs": [],
   "source": [
    "import geopandas as gpd\n",
    "import numpy as np\n",
    "import pandas as pd\n",
    "import json\n",
    "import pyproj\n",
    "from shapely.geometry import Point, Polygon"
   ]
  },
  {
   "cell_type": "code",
   "execution_count": 2,
   "id": "901de779-7c08-4645-ad9b-029854136934",
   "metadata": {},
   "outputs": [],
   "source": [
    "filename = \"client_data.json\""
   ]
  },
  {
   "cell_type": "code",
   "execution_count": 3,
   "id": "4adeda9d-1539-4f20-bdee-3424886559ef",
   "metadata": {},
   "outputs": [],
   "source": [
    "with open(filename, 'r') as file:\n",
    "    client_data = json.load(file)"
   ]
  },
  {
   "cell_type": "code",
   "execution_count": 4,
   "id": "20260eb7-bfa7-4421-ab78-3293ab58edb8",
   "metadata": {},
   "outputs": [],
   "source": [
    "df_clients = pd.DataFrame(client_data)"
   ]
  },
  {
   "cell_type": "code",
   "execution_count": 5,
   "id": "81195ca5-4fbd-43f4-8e8f-6bae6e61fb85",
   "metadata": {},
   "outputs": [
    {
     "name": "stdout",
     "output_type": "stream",
     "text": [
      "<class 'pandas.core.frame.DataFrame'>\n",
      "RangeIndex: 1000 entries, 0 to 999\n",
      "Data columns (total 16 columns):\n",
      " #   Column             Non-Null Count  Dtype \n",
      "---  ------             --------------  ----- \n",
      " 0   id                 1000 non-null   object\n",
      " 1   name               1000 non-null   object\n",
      " 2   email              1000 non-null   object\n",
      " 3   phone              1000 non-null   object\n",
      " 4   address            1000 non-null   object\n",
      " 5   city               1000 non-null   object\n",
      " 6   neighborhood       1000 non-null   object\n",
      " 7   country            1000 non-null   object\n",
      " 8   date_of_birth      1000 non-null   object\n",
      " 9   gender             1000 non-null   object\n",
      " 10  occupation         1000 non-null   object\n",
      " 11  company            1000 non-null   object\n",
      " 12  website            1000 non-null   object\n",
      " 13  registration_date  1000 non-null   object\n",
      " 14  last_login         1000 non-null   object\n",
      " 15  customer_since     1000 non-null   object\n",
      "dtypes: object(16)\n",
      "memory usage: 125.1+ KB\n"
     ]
    }
   ],
   "source": [
    "df_clients.info()"
   ]
  },
  {
   "cell_type": "code",
   "execution_count": 6,
   "id": "c837d4e3-8659-448e-b290-5e99afba4e0e",
   "metadata": {},
   "outputs": [],
   "source": [
    "df_distritos = gpd.read_file('Distritos/Distritos.shp')"
   ]
  },
  {
   "cell_type": "code",
   "execution_count": 7,
   "id": "270c6dec-b920-4f1f-bfaa-6d934013b9c1",
   "metadata": {},
   "outputs": [
    {
     "data": {
      "text/html": [
       "<div>\n",
       "<style scoped>\n",
       "    .dataframe tbody tr th:only-of-type {\n",
       "        vertical-align: middle;\n",
       "    }\n",
       "\n",
       "    .dataframe tbody tr th {\n",
       "        vertical-align: top;\n",
       "    }\n",
       "\n",
       "    .dataframe thead th {\n",
       "        text-align: right;\n",
       "    }\n",
       "</style>\n",
       "<table border=\"1\" class=\"dataframe\">\n",
       "  <thead>\n",
       "    <tr style=\"text-align: right;\">\n",
       "      <th></th>\n",
       "      <th>Shape_Leng</th>\n",
       "      <th>COD_DIS</th>\n",
       "      <th>COD_DIS_TX</th>\n",
       "      <th>NOMBRE</th>\n",
       "      <th>DISTRI_MAY</th>\n",
       "      <th>DISTRI_MT</th>\n",
       "      <th>geometry</th>\n",
       "    </tr>\n",
       "  </thead>\n",
       "  <tbody>\n",
       "    <tr>\n",
       "      <th>0</th>\n",
       "      <td>0.0</td>\n",
       "      <td>1</td>\n",
       "      <td>01</td>\n",
       "      <td>Centro</td>\n",
       "      <td>CENTRO</td>\n",
       "      <td>CENTRO</td>\n",
       "      <td>POLYGON ((441184.784 4473200.780, 441181.244 4...</td>\n",
       "    </tr>\n",
       "    <tr>\n",
       "      <th>1</th>\n",
       "      <td>0.0</td>\n",
       "      <td>2</td>\n",
       "      <td>02</td>\n",
       "      <td>Arganzuela</td>\n",
       "      <td>ARGANZUELA</td>\n",
       "      <td>ARGANZUELA</td>\n",
       "      <td>POLYGON ((440272.919 4472969.567, 440350.318 4...</td>\n",
       "    </tr>\n",
       "    <tr>\n",
       "      <th>2</th>\n",
       "      <td>0.0</td>\n",
       "      <td>3</td>\n",
       "      <td>03</td>\n",
       "      <td>Retiro</td>\n",
       "      <td>RETIRO</td>\n",
       "      <td>RETIRO</td>\n",
       "      <td>POLYGON ((443652.149 4473312.600, 443560.739 4...</td>\n",
       "    </tr>\n",
       "    <tr>\n",
       "      <th>3</th>\n",
       "      <td>0.0</td>\n",
       "      <td>4</td>\n",
       "      <td>04</td>\n",
       "      <td>Salamanca</td>\n",
       "      <td>SALAMANCA</td>\n",
       "      <td>SALAMANCA</td>\n",
       "      <td>POLYGON ((444075.178 4476611.827, 444057.808 4...</td>\n",
       "    </tr>\n",
       "    <tr>\n",
       "      <th>4</th>\n",
       "      <td>0.0</td>\n",
       "      <td>5</td>\n",
       "      <td>05</td>\n",
       "      <td>Chamartín</td>\n",
       "      <td>CHAMARTIN</td>\n",
       "      <td>CHAMARTÍN</td>\n",
       "      <td>POLYGON ((442904.114 4481525.212, 442901.020 4...</td>\n",
       "    </tr>\n",
       "  </tbody>\n",
       "</table>\n",
       "</div>"
      ],
      "text/plain": [
       "   Shape_Leng COD_DIS COD_DIS_TX      NOMBRE  DISTRI_MAY   DISTRI_MT  \\\n",
       "0         0.0       1         01      Centro      CENTRO      CENTRO   \n",
       "1         0.0       2         02  Arganzuela  ARGANZUELA  ARGANZUELA   \n",
       "2         0.0       3         03      Retiro      RETIRO      RETIRO   \n",
       "3         0.0       4         04   Salamanca   SALAMANCA   SALAMANCA   \n",
       "4         0.0       5         05   Chamartín   CHAMARTIN   CHAMARTÍN   \n",
       "\n",
       "                                            geometry  \n",
       "0  POLYGON ((441184.784 4473200.780, 441181.244 4...  \n",
       "1  POLYGON ((440272.919 4472969.567, 440350.318 4...  \n",
       "2  POLYGON ((443652.149 4473312.600, 443560.739 4...  \n",
       "3  POLYGON ((444075.178 4476611.827, 444057.808 4...  \n",
       "4  POLYGON ((442904.114 4481525.212, 442901.020 4...  "
      ]
     },
     "execution_count": 7,
     "metadata": {},
     "output_type": "execute_result"
    }
   ],
   "source": [
    "df_distritos.head()"
   ]
  },
  {
   "cell_type": "code",
   "execution_count": 58,
   "id": "ca91b5e4",
   "metadata": {},
   "outputs": [
    {
     "data": {
      "text/plain": [
       "<Projected CRS: EPSG:25830>\n",
       "Name: ETRS89 / UTM zone 30N\n",
       "Axis Info [cartesian]:\n",
       "- E[east]: Easting (metre)\n",
       "- N[north]: Northing (metre)\n",
       "Area of Use:\n",
       "- name: Europe between 6°W and 0°W: Faroe Islands offshore; Ireland - offshore; Jan Mayen - offshore; Norway including Svalbard - offshore; Spain - onshore and offshore.\n",
       "- bounds: (-6.0, 35.26, 0.01, 80.49)\n",
       "Coordinate Operation:\n",
       "- name: UTM zone 30N\n",
       "- method: Transverse Mercator\n",
       "Datum: European Terrestrial Reference System 1989 ensemble\n",
       "- Ellipsoid: GRS 1980\n",
       "- Prime Meridian: Greenwich"
      ]
     },
     "execution_count": 58,
     "metadata": {},
     "output_type": "execute_result"
    }
   ],
   "source": [
    "df_distritos.crs"
   ]
  },
  {
   "cell_type": "code",
   "execution_count": 56,
   "id": "5bf5d161",
   "metadata": {},
   "outputs": [
    {
     "name": "stdout",
     "output_type": "stream",
     "text": [
      "POLYGON ((441184.78419999965 4473200.7798999995, 441181.2441999996 4473184.229900001, 441178.8841000004 4473160.9098000005, 441140.8543999996 4473176.9202, 441126.35450000037 4473191.3303, 441121.81460000016 4473194.600400001, 441116.50459999964 4473195.610400001, 441104.6847000001 4473193.340500001, 441003.9352000002 4473158.5813, 440993.6052000001 4473163.6214000005, 440783.9763000002 4473093.142899999, 440778.21630000044 4473091.0030000005, 440656.12689999957 4473047.614, 440596.2271999996 4473026.5044, 440519.37760000024 4473001.3049, 440517.9288999997 4473000.7947, 440385.94820000045 4472954.316, 440350.3184000002 4472954.0163, 440272.91889999993 4472969.5669, 440050.9003999997 4473024.6888, 440000.9519999996 4473038.5801, 439890.40139999986 4473069.3301, 439794.2921000002 4473093.231000001, 439762.43230000045 4473099.351299999, 439646.44299999997 4473126.032299999, 439613.03330000024 4473137.672599999, 439581.69350000005 4473146.7828, 439442.74450000003 4473225.554099999, 439312.77550000045 4473297.5153, 439182.75650000013 4473366.866599999, 439051.92819999997 4473636.018200001, 439094.0683000004 4473742.7782000005, 439173.11840000004 4473946.2281, 438961.6596999997 4473950.0298, 438944.19990000036 4473950.699999999, 438871.4502999997 4473952.7206, 438662.90160000045 4473958.512499999, 438672.9221000001 4474107.4428, 438714.5525000002 4474311.722999999, 438733.8627000004 4474407.153100001, 438743.3728 4474454.1131, 438761.33270000014 4474467.353, 438789.74260000046 4474488.2728, 438827.6624999996 4474526.5626, 438859.13239999954 4474565.2424, 438884.9223999996 4474612.2623, 438893.69240000006 4474631.452199999, 438902.6124 4474650.952199999, 438903.12239999976 4474652.0722, 439083.75129999965 4474654.1757, 439190.54059999995 4474659.4296, 439260.3602 4474660.108999999, 439300.6699000001 4474665.2586, 439300.7298999997 4474665.2786, 439438.08939999994 4474783.487600001, 439482.0493000001 4474821.317299999, 439486.35929999966 4474830.4673, 439499.8191999998 4474847.4372000005, 439511.1191999996 4474861.677200001, 439623.86870000046 4474946.9363, 439671.5985000003 4474983.026000001, 439692.56850000005 4474997.265799999, 439694.5083999997 4474998.5858, 439626.27919999976 4475095.6766, 439563.63999999966 4475213.4673999995, 439503.7906999998 4475330.1482, 439443.4014999997 4475447.869100001, 439423.71169999987 4475483.609300001, 439390.68209999986 4475543.5198, 439301.37320000026 4475705.5309999995, 439251.22389999963 4475797.921800001, 439248.5038999999 4475802.9418, 439383.9637000002 4475782.8628, 439477.7122999998 4475769.239399999, 439618.50129999965 4475749.618100001, 439733.56039999984 4475733.256899999, 439875.6897999998 4475713.206599999, 439969.7890999997 4475701.1247000005, 439995.41860000044 4475697.832800001, 440131.62760000024 4475680.153000001, 440314.61620000005 4475638.211100001, 440419.51549999975 4475617.1701, 440458.4352000002 4475607.5296, 440673.0636 4475544.897500001, 440866.05179999955 4475489.986300001, 440981.89130000025 4475455.444399999, 441035.9408 4475421.923900001, 441143.33210000023 4475350.443, 441350.62820000015 4475213.1907, 441429.97759999987 4475187.7699, 441406.7720999997 4475099.557399999, 441355.3981999997 4474953.251499999, 441201.3674999997 4474531.621300001, 441210.8872999996 4474481.0611000005, 441194.0673000002 4474436.451199999, 441166.0769999996 4474266.1712, 441155.08690000046 4474200.0013, 441151.7067999998 4474148.7213, 441167.82650000043 4474065.581, 441187.21609999985 4473943.250700001, 441211.81549999956 4473788.010299999, 441231.81510000024 4473658.09, 441254.74459999986 4473517.2097, 441266.9243999999 4473462.319499999, 441289.95409999974 4473392.7491999995, 441282.3839999996 4473350.0692, 441296.56379999965 4473320.9791, 441236.32409999985 4473273.3695, 441212.8641999997 4473248.299699999, 441201.3842000002 4473231.0298, 441201.34420000017 4473230.969799999, 441197.80420000013 4473225.639799999, 441184.78419999965 4473200.7798999995))\n"
     ]
    }
   ],
   "source": [
    "print(df_distritos.iloc[0,-1])"
   ]
  },
  {
   "cell_type": "code",
   "execution_count": 60,
   "id": "ad08d173",
   "metadata": {},
   "outputs": [],
   "source": [
    "original_crs = 'EPSG:25830'\n",
    "target_crs = 'EPSG:4326'"
   ]
  },
  {
   "cell_type": "code",
   "execution_count": 62,
   "id": "1b748121",
   "metadata": {},
   "outputs": [],
   "source": [
    "df_distritos = df_distritos.to_crs(target_crs)"
   ]
  },
  {
   "cell_type": "code",
   "execution_count": 63,
   "id": "61bcddd3-b4f0-471c-9e6e-60253d62644d",
   "metadata": {},
   "outputs": [],
   "source": [
    "df_freq = (\n",
    "    df_clients\n",
    "    .groupby(\"neighborhood\", as_index=False)\n",
    "    .agg({\"id\": \"count\"})\n",
    "    .rename(columns={\n",
    "        \"neighborhood\": \"NOMBRE\", \"id\": \"num_clientes\"\n",
    "    })\n",
    "    .merge(df_distritos, on=[\"NOMBRE\"])\n",
    ")"
   ]
  },
  {
   "cell_type": "code",
   "execution_count": 64,
   "id": "32b2ccbe-9d45-45aa-bfce-3fc2040c8f8b",
   "metadata": {},
   "outputs": [
    {
     "data": {
      "text/plain": [
       "1000"
      ]
     },
     "execution_count": 64,
     "metadata": {},
     "output_type": "execute_result"
    }
   ],
   "source": [
    "df_freq[\"num_clientes\"].sum()"
   ]
  },
  {
   "cell_type": "code",
   "execution_count": 95,
   "id": "47e41221-a32c-4fcf-a4e3-0c8e1dab6abb",
   "metadata": {},
   "outputs": [],
   "source": [
    "def generate_points_within_polygon(polygon, num_points):\n",
    "    minx, miny, maxx, maxy = polygon.bounds\n",
    "    points = []\n",
    "    while len(points) < num_points:\n",
    "        x = np.random.uniform(minx, maxx)\n",
    "        y = np.random.uniform(miny, maxy)\n",
    "        point = Point(x, y)\n",
    "        if polygon.contains(point):\n",
    "            points.append((y, x))\n",
    "    return points"
   ]
  },
  {
   "cell_type": "code",
   "execution_count": 96,
   "id": "d1ba6060-6fc1-43b3-8606-594870c541b4",
   "metadata": {},
   "outputs": [],
   "source": [
    "df_freq[\"points\"] = df_freq.apply(lambda x: generate_points_within_polygon(x[\"geometry\"], x[\"num_clientes\"]), axis=1)"
   ]
  },
  {
   "cell_type": "code",
   "execution_count": 125,
   "id": "a16ae9dd-a8ac-42a4-b9a7-ab818636ea90",
   "metadata": {},
   "outputs": [
    {
     "data": {
      "text/html": [
       "<div>\n",
       "<style scoped>\n",
       "    .dataframe tbody tr th:only-of-type {\n",
       "        vertical-align: middle;\n",
       "    }\n",
       "\n",
       "    .dataframe tbody tr th {\n",
       "        vertical-align: top;\n",
       "    }\n",
       "\n",
       "    .dataframe thead th {\n",
       "        text-align: right;\n",
       "    }\n",
       "</style>\n",
       "<table border=\"1\" class=\"dataframe\">\n",
       "  <thead>\n",
       "    <tr style=\"text-align: right;\">\n",
       "      <th></th>\n",
       "      <th>NOMBRE</th>\n",
       "      <th>num_clientes</th>\n",
       "      <th>Shape_Leng</th>\n",
       "      <th>COD_DIS</th>\n",
       "      <th>COD_DIS_TX</th>\n",
       "      <th>DISTRI_MAY</th>\n",
       "      <th>DISTRI_MT</th>\n",
       "      <th>geometry</th>\n",
       "      <th>points</th>\n",
       "    </tr>\n",
       "  </thead>\n",
       "  <tbody>\n",
       "    <tr>\n",
       "      <th>0</th>\n",
       "      <td>Arganzuela</td>\n",
       "      <td>36</td>\n",
       "      <td>0.0</td>\n",
       "      <td>2</td>\n",
       "      <td>02</td>\n",
       "      <td>ARGANZUELA</td>\n",
       "      <td>ARGANZUELA</td>\n",
       "      <td>POLYGON ((-3.70389 40.40520, -3.70297 40.40506...</td>\n",
       "      <td>(40.403096403315075, -3.6944630183803495)</td>\n",
       "    </tr>\n",
       "    <tr>\n",
       "      <th>0</th>\n",
       "      <td>Arganzuela</td>\n",
       "      <td>36</td>\n",
       "      <td>0.0</td>\n",
       "      <td>2</td>\n",
       "      <td>02</td>\n",
       "      <td>ARGANZUELA</td>\n",
       "      <td>ARGANZUELA</td>\n",
       "      <td>POLYGON ((-3.70389 40.40520, -3.70297 40.40506...</td>\n",
       "      <td>(40.39262784617288, -3.6866321231431445)</td>\n",
       "    </tr>\n",
       "    <tr>\n",
       "      <th>0</th>\n",
       "      <td>Arganzuela</td>\n",
       "      <td>36</td>\n",
       "      <td>0.0</td>\n",
       "      <td>2</td>\n",
       "      <td>02</td>\n",
       "      <td>ARGANZUELA</td>\n",
       "      <td>ARGANZUELA</td>\n",
       "      <td>POLYGON ((-3.70389 40.40520, -3.70297 40.40506...</td>\n",
       "      <td>(40.39739032269834, -3.6785676909074594)</td>\n",
       "    </tr>\n",
       "    <tr>\n",
       "      <th>0</th>\n",
       "      <td>Arganzuela</td>\n",
       "      <td>36</td>\n",
       "      <td>0.0</td>\n",
       "      <td>2</td>\n",
       "      <td>02</td>\n",
       "      <td>ARGANZUELA</td>\n",
       "      <td>ARGANZUELA</td>\n",
       "      <td>POLYGON ((-3.70389 40.40520, -3.70297 40.40506...</td>\n",
       "      <td>(40.39623069062191, -3.687501478420444)</td>\n",
       "    </tr>\n",
       "    <tr>\n",
       "      <th>0</th>\n",
       "      <td>Arganzuela</td>\n",
       "      <td>36</td>\n",
       "      <td>0.0</td>\n",
       "      <td>2</td>\n",
       "      <td>02</td>\n",
       "      <td>ARGANZUELA</td>\n",
       "      <td>ARGANZUELA</td>\n",
       "      <td>POLYGON ((-3.70389 40.40520, -3.70297 40.40506...</td>\n",
       "      <td>(40.40016093985922, -3.7112325145509453)</td>\n",
       "    </tr>\n",
       "    <tr>\n",
       "      <th>...</th>\n",
       "      <td>...</td>\n",
       "      <td>...</td>\n",
       "      <td>...</td>\n",
       "      <td>...</td>\n",
       "      <td>...</td>\n",
       "      <td>...</td>\n",
       "      <td>...</td>\n",
       "      <td>...</td>\n",
       "      <td>...</td>\n",
       "    </tr>\n",
       "    <tr>\n",
       "      <th>20</th>\n",
       "      <td>Villaverde</td>\n",
       "      <td>50</td>\n",
       "      <td>0.0</td>\n",
       "      <td>17</td>\n",
       "      <td>17</td>\n",
       "      <td>VILLAVERDE</td>\n",
       "      <td>VILLAVERDE</td>\n",
       "      <td>POLYGON ((-3.70366 40.36356, -3.70324 40.36356...</td>\n",
       "      <td>(40.34763586084796, -3.673041875362317)</td>\n",
       "    </tr>\n",
       "    <tr>\n",
       "      <th>20</th>\n",
       "      <td>Villaverde</td>\n",
       "      <td>50</td>\n",
       "      <td>0.0</td>\n",
       "      <td>17</td>\n",
       "      <td>17</td>\n",
       "      <td>VILLAVERDE</td>\n",
       "      <td>VILLAVERDE</td>\n",
       "      <td>POLYGON ((-3.70366 40.36356, -3.70324 40.36356...</td>\n",
       "      <td>(40.32630844405838, -3.6812612545515133)</td>\n",
       "    </tr>\n",
       "    <tr>\n",
       "      <th>20</th>\n",
       "      <td>Villaverde</td>\n",
       "      <td>50</td>\n",
       "      <td>0.0</td>\n",
       "      <td>17</td>\n",
       "      <td>17</td>\n",
       "      <td>VILLAVERDE</td>\n",
       "      <td>VILLAVERDE</td>\n",
       "      <td>POLYGON ((-3.70366 40.36356, -3.70324 40.36356...</td>\n",
       "      <td>(40.33338336342195, -3.6963161688237127)</td>\n",
       "    </tr>\n",
       "    <tr>\n",
       "      <th>20</th>\n",
       "      <td>Villaverde</td>\n",
       "      <td>50</td>\n",
       "      <td>0.0</td>\n",
       "      <td>17</td>\n",
       "      <td>17</td>\n",
       "      <td>VILLAVERDE</td>\n",
       "      <td>VILLAVERDE</td>\n",
       "      <td>POLYGON ((-3.70366 40.36356, -3.70324 40.36356...</td>\n",
       "      <td>(40.33644238195856, -3.668359544181401)</td>\n",
       "    </tr>\n",
       "    <tr>\n",
       "      <th>20</th>\n",
       "      <td>Villaverde</td>\n",
       "      <td>50</td>\n",
       "      <td>0.0</td>\n",
       "      <td>17</td>\n",
       "      <td>17</td>\n",
       "      <td>VILLAVERDE</td>\n",
       "      <td>VILLAVERDE</td>\n",
       "      <td>POLYGON ((-3.70366 40.36356, -3.70324 40.36356...</td>\n",
       "      <td>(40.337725515750755, -3.6853279917324513)</td>\n",
       "    </tr>\n",
       "  </tbody>\n",
       "</table>\n",
       "<p>1000 rows × 9 columns</p>\n",
       "</div>"
      ],
      "text/plain": [
       "        NOMBRE  num_clientes  Shape_Leng COD_DIS COD_DIS_TX  DISTRI_MAY  \\\n",
       "0   Arganzuela            36         0.0       2         02  ARGANZUELA   \n",
       "0   Arganzuela            36         0.0       2         02  ARGANZUELA   \n",
       "0   Arganzuela            36         0.0       2         02  ARGANZUELA   \n",
       "0   Arganzuela            36         0.0       2         02  ARGANZUELA   \n",
       "0   Arganzuela            36         0.0       2         02  ARGANZUELA   \n",
       "..         ...           ...         ...     ...        ...         ...   \n",
       "20  Villaverde            50         0.0      17         17  VILLAVERDE   \n",
       "20  Villaverde            50         0.0      17         17  VILLAVERDE   \n",
       "20  Villaverde            50         0.0      17         17  VILLAVERDE   \n",
       "20  Villaverde            50         0.0      17         17  VILLAVERDE   \n",
       "20  Villaverde            50         0.0      17         17  VILLAVERDE   \n",
       "\n",
       "     DISTRI_MT                                           geometry  \\\n",
       "0   ARGANZUELA  POLYGON ((-3.70389 40.40520, -3.70297 40.40506...   \n",
       "0   ARGANZUELA  POLYGON ((-3.70389 40.40520, -3.70297 40.40506...   \n",
       "0   ARGANZUELA  POLYGON ((-3.70389 40.40520, -3.70297 40.40506...   \n",
       "0   ARGANZUELA  POLYGON ((-3.70389 40.40520, -3.70297 40.40506...   \n",
       "0   ARGANZUELA  POLYGON ((-3.70389 40.40520, -3.70297 40.40506...   \n",
       "..         ...                                                ...   \n",
       "20  VILLAVERDE  POLYGON ((-3.70366 40.36356, -3.70324 40.36356...   \n",
       "20  VILLAVERDE  POLYGON ((-3.70366 40.36356, -3.70324 40.36356...   \n",
       "20  VILLAVERDE  POLYGON ((-3.70366 40.36356, -3.70324 40.36356...   \n",
       "20  VILLAVERDE  POLYGON ((-3.70366 40.36356, -3.70324 40.36356...   \n",
       "20  VILLAVERDE  POLYGON ((-3.70366 40.36356, -3.70324 40.36356...   \n",
       "\n",
       "                                       points  \n",
       "0   (40.403096403315075, -3.6944630183803495)  \n",
       "0    (40.39262784617288, -3.6866321231431445)  \n",
       "0    (40.39739032269834, -3.6785676909074594)  \n",
       "0     (40.39623069062191, -3.687501478420444)  \n",
       "0    (40.40016093985922, -3.7112325145509453)  \n",
       "..                                        ...  \n",
       "20    (40.34763586084796, -3.673041875362317)  \n",
       "20   (40.32630844405838, -3.6812612545515133)  \n",
       "20   (40.33338336342195, -3.6963161688237127)  \n",
       "20    (40.33644238195856, -3.668359544181401)  \n",
       "20  (40.337725515750755, -3.6853279917324513)  \n",
       "\n",
       "[1000 rows x 9 columns]"
      ]
     },
     "execution_count": 125,
     "metadata": {},
     "output_type": "execute_result"
    }
   ],
   "source": [
    "df_explode = df_freq.explode(\"points\")\n",
    "df_explode"
   ]
  },
  {
   "cell_type": "code",
   "execution_count": 98,
   "id": "3fecc3ff-bb3b-438c-9324-9eb461535ca1",
   "metadata": {},
   "outputs": [],
   "source": [
    "from geopy.geocoders import Nominatim\n",
    "from shapely.geometry import Point\n"
   ]
  },
  {
   "cell_type": "code",
   "execution_count": 146,
   "id": "5617359b-c6a0-4ce7-9e65-db62a5c26fcc",
   "metadata": {},
   "outputs": [],
   "source": [
    "# Initialize a geocoder (Nominatim in this case)\n",
    "geolocator = Nominatim(user_agent=\"geo_reverse\")\n",
    "\n",
    "# Function to get address from coordinates\n",
    "def get_address(point):\n",
    "    #x,y = point\n",
    "    #print(point)\n",
    "    address = geolocator.reverse(point, timeout=10).raw[\"address\"]  # Reverse geocoding with latitude and longitude\n",
    "    print(address)\n",
    "    return (\n",
    "        address.get(\"road\", \"\"), address.get(\"house_number\", \"\"), address.get(\"suburb\", \"\"), address.get(\"state\", \"\"), address.get(\"postcode\", \"\"), address.get(\"country\", \"\")\n",
    "    )"
   ]
  },
  {
   "cell_type": "code",
   "execution_count": 138,
   "id": "8e42f6d3",
   "metadata": {},
   "outputs": [
    {
     "data": {
      "text/plain": [
       "(40.403096403315075, -3.6944630183803495)"
      ]
     },
     "execution_count": 138,
     "metadata": {},
     "output_type": "execute_result"
    }
   ],
   "source": [
    "df_freq.iloc[0,-1][0]"
   ]
  },
  {
   "cell_type": "code",
   "execution_count": 139,
   "id": "3288e0c0-7f19-44ec-a62d-3e5a1045cd4c",
   "metadata": {},
   "outputs": [
    {
     "data": {
      "text/plain": [
       "(40.403096403315075, -3.6944630183803495)"
      ]
     },
     "execution_count": 139,
     "metadata": {},
     "output_type": "execute_result"
    }
   ],
   "source": [
    "\n",
    "point = df_freq.iloc[0,-1][0]\n",
    "point"
   ]
  },
  {
   "cell_type": "code",
   "execution_count": 130,
   "id": "700564ae",
   "metadata": {},
   "outputs": [],
   "source": [
    "loc = geolocator.reverse(point, timeout=10) # Lat, Long to reverse geocode # (40.7484284, -73.9856546198733)"
   ]
  },
  {
   "cell_type": "code",
   "execution_count": 145,
   "id": "15c227e3",
   "metadata": {},
   "outputs": [
    {
     "data": {
      "text/plain": [
       "'Calle de Palos de la Frontera'"
      ]
     },
     "execution_count": 145,
     "metadata": {},
     "output_type": "execute_result"
    }
   ],
   "source": [
    "loc.raw[\"address\"].get(\"road\", \"\")"
   ]
  },
  {
   "cell_type": "code",
   "execution_count": 147,
   "id": "eb4136be",
   "metadata": {},
   "outputs": [
    {
     "name": "stdout",
     "output_type": "stream",
     "text": [
      "{'house_number': '29', 'road': 'Calle de Palos de la Frontera', 'quarter': 'Palos de Moguer', 'suburb': 'Arganzuela', 'city': 'Madrid', 'state': 'Comunidad de Madrid', 'ISO3166-2-lvl4': 'ES-MD', 'postcode': '28045', 'country': 'España', 'country_code': 'es'}\n"
     ]
    },
    {
     "data": {
      "text/plain": [
       "('Calle de Palos de la Frontera',\n",
       " '29',\n",
       " 'Arganzuela',\n",
       " 'Comunidad de Madrid',\n",
       " '28045',\n",
       " 'España')"
      ]
     },
     "execution_count": 147,
     "metadata": {},
     "output_type": "execute_result"
    }
   ],
   "source": [
    "get_address(point)"
   ]
  },
  {
   "cell_type": "code",
   "execution_count": null,
   "id": "c2d503b4",
   "metadata": {},
   "outputs": [],
   "source": [
    "df_explode"
   ]
  },
  {
   "cell_type": "code",
   "execution_count": 148,
   "id": "6b0f3cb6-1b9f-43d0-8b6d-4fb6c1451a25",
   "metadata": {},
   "outputs": [
    {
     "name": "stdout",
     "output_type": "stream",
     "text": [
      "{'house_number': '29', 'road': 'Calle de Palos de la Frontera', 'quarter': 'Palos de Moguer', 'suburb': 'Arganzuela', 'city': 'Madrid', 'state': 'Comunidad de Madrid', 'ISO3166-2-lvl4': 'ES-MD', 'postcode': '28045', 'country': 'España', 'country_code': 'es'}\n",
      "{'road': 'Calle de la Antracita', 'quarter': 'Legazpi', 'suburb': 'Arganzuela', 'city': 'Madrid', 'state': 'Comunidad de Madrid', 'ISO3166-2-lvl4': 'ES-MD', 'postcode': '28045', 'country': 'España', 'country_code': 'es'}\n",
      "{'road': 'Calle del Almez', 'quarter': 'Atocha', 'suburb': 'Arganzuela', 'city': 'Madrid', 'state': 'Comunidad de Madrid', 'ISO3166-2-lvl4': 'ES-MD', 'postcode': '28045', 'country': 'España', 'country_code': 'es'}\n",
      "{'road': 'Calle Nebulosas', 'quarter': 'Delicias', 'suburb': 'Arganzuela', 'city': 'Madrid', 'state': 'Comunidad de Madrid', 'ISO3166-2-lvl4': 'ES-MD', 'postcode': '28045', 'country': 'España', 'country_code': 'es'}\n",
      "{'house_number': '11', 'road': 'Paseo de Yeserías', 'quarter': 'Las Acacias', 'suburb': 'Arganzuela', 'city': 'Madrid', 'state': 'Comunidad de Madrid', 'ISO3166-2-lvl4': 'ES-MD', 'postcode': '28005', 'country': 'España', 'country_code': 'es'}\n",
      "{'road': 'Bypass Sur', 'quarter': 'Legazpi', 'suburb': 'Arganzuela', 'city': 'Madrid', 'state': 'Comunidad de Madrid', 'ISO3166-2-lvl4': 'ES-MD', 'postcode': '28019', 'country': 'España', 'country_code': 'es'}\n",
      "{'road': 'Calle del Laurel', 'quarter': 'Las Acacias', 'suburb': 'Arganzuela', 'city': 'Madrid', 'state': 'Comunidad de Madrid', 'ISO3166-2-lvl4': 'ES-MD', 'postcode': '28005', 'country': 'España', 'country_code': 'es'}\n",
      "{'road': 'Calle de la Estrella Hadar', 'quarter': 'Legazpi', 'suburb': 'Arganzuela', 'city': 'Madrid', 'state': 'Comunidad de Madrid', 'ISO3166-2-lvl4': 'ES-MD', 'postcode': '28045', 'country': 'España', 'country_code': 'es'}\n",
      "{'road': 'Cruce de peatones', 'quarter': 'Legazpi', 'suburb': 'Arganzuela', 'city': 'Madrid', 'state': 'Comunidad de Madrid', 'ISO3166-2-lvl4': 'ES-MD', 'postcode': '28053', 'country': 'España', 'country_code': 'es'}\n",
      "{'house_number': '6', 'road': 'Calle del General Lacy', 'quarter': 'Palos de Moguer', 'suburb': 'Arganzuela', 'city': 'Madrid', 'state': 'Comunidad de Madrid', 'ISO3166-2-lvl4': 'ES-MD', 'postcode': '28045', 'country': 'España', 'country_code': 'es'}\n",
      "{'amenity': 'Flowbird', 'road': 'Calle de la Estrella Hadar', 'quarter': 'Legazpi', 'suburb': 'Arganzuela', 'city': 'Madrid', 'state': 'Comunidad de Madrid', 'ISO3166-2-lvl4': 'ES-MD', 'postcode': '28045', 'country': 'España', 'country_code': 'es'}\n",
      "{'amenity': 'Cinesa Méndez Álvaro', 'road': 'Calle Acanto', 'quarter': 'Atocha', 'suburb': 'Arganzuela', 'city': 'Madrid', 'state': 'Comunidad de Madrid', 'ISO3166-2-lvl4': 'ES-MD', 'postcode': '28045', 'country': 'España', 'country_code': 'es'}\n",
      "{'house_number': '18', 'road': 'Calle del Labrador', 'quarter': 'Las Acacias', 'suburb': 'Arganzuela', 'city': 'Madrid', 'state': 'Comunidad de Madrid', 'ISO3166-2-lvl4': 'ES-MD', 'postcode': '28005', 'country': 'España', 'country_code': 'es'}\n",
      "{'road': 'Calle Alberche', 'quarter': 'Atocha', 'suburb': 'Arganzuela', 'city': 'Madrid', 'state': 'Comunidad de Madrid', 'ISO3166-2-lvl4': 'ES-MD', 'postcode': '28045', 'country': 'España', 'country_code': 'es'}\n",
      "{'man_made': 'Planetario de Madrid', 'house_number': '16', 'road': 'Avenida del Planetario', 'quarter': 'Legazpi', 'suburb': 'Arganzuela', 'city': 'Madrid', 'state': 'Comunidad de Madrid', 'ISO3166-2-lvl4': 'ES-MD', 'postcode': '28045', 'country': 'España', 'country_code': 'es'}\n",
      "{'building': 'Parque Automovilístico del Ayuntamiento de Madrid', 'house_number': '41', 'road': 'Paseo de la Chopera', 'quarter': 'Chopera', 'suburb': 'Arganzuela', 'city': 'Madrid', 'state': 'Comunidad de Madrid', 'ISO3166-2-lvl4': 'ES-MD', 'postcode': '28045', 'country': 'España', 'country_code': 'es'}\n",
      "{'road': 'Calle Tomás Borrás', 'quarter': 'Chopera', 'suburb': 'Arganzuela', 'city': 'Madrid', 'state': 'Comunidad de Madrid', 'ISO3166-2-lvl4': 'ES-MD', 'postcode': '28045', 'country': 'España', 'country_code': 'es'}\n",
      "{'house_number': '10', 'road': 'Calle del Labrador', 'quarter': 'Las Acacias', 'suburb': 'Arganzuela', 'city': 'Madrid', 'state': 'Comunidad de Madrid', 'ISO3166-2-lvl4': 'ES-MD', 'postcode': '28005', 'country': 'España', 'country_code': 'es'}\n",
      "{'house_number': '10', 'road': 'Calle del Comercio', 'quarter': 'Pacífico', 'suburb': 'Retiro', 'city': 'Madrid', 'state': 'Comunidad de Madrid', 'ISO3166-2-lvl4': 'ES-MD', 'postcode': '28007', 'country': 'España', 'country_code': 'es'}\n",
      "{'road': 'Bypass Sur', 'quarter': 'Legazpi', 'suburb': 'Arganzuela', 'city': 'Madrid', 'state': 'Comunidad de Madrid', 'ISO3166-2-lvl4': 'ES-MD', 'postcode': '28053', 'country': 'España', 'country_code': 'es'}\n",
      "{'leisure': 'Centro Deportivo Municipal Circuito BMX', 'road': 'Calle 30', 'quarter': 'Legazpi', 'suburb': 'Arganzuela', 'city': 'Madrid', 'state': 'Comunidad de Madrid', 'ISO3166-2-lvl4': 'ES-MD', 'postcode': '28045', 'country': 'España', 'country_code': 'es'}\n",
      "{'amenity': 'Auditorio del Parque de Enrique Tierno Galván', 'road': 'Bypass Sur', 'quarter': 'Legazpi', 'suburb': 'Arganzuela', 'city': 'Madrid', 'state': 'Comunidad de Madrid', 'ISO3166-2-lvl4': 'ES-MD', 'postcode': '28045', 'country': 'España', 'country_code': 'es'}\n",
      "{'road': 'Calle Sabal', 'quarter': 'Delicias', 'suburb': 'Arganzuela', 'city': 'Madrid', 'state': 'Comunidad de Madrid', 'ISO3166-2-lvl4': 'ES-MD', 'postcode': '28045', 'country': 'España', 'country_code': 'es'}\n",
      "{'house_number': '6', 'road': 'Calle del Teniente Coronel Noreña', 'quarter': 'Legazpi', 'suburb': 'Arganzuela', 'city': 'Madrid', 'state': 'Comunidad de Madrid', 'ISO3166-2-lvl4': 'ES-MD', 'postcode': '28045', 'country': 'España', 'country_code': 'es'}\n",
      "{'house_number': '35', 'road': 'Calle del Ferrocarril', 'quarter': 'Delicias', 'suburb': 'Arganzuela', 'city': 'Madrid', 'state': 'Comunidad de Madrid', 'ISO3166-2-lvl4': 'ES-MD', 'postcode': '28045', 'country': 'España', 'country_code': 'es'}\n",
      "{'quarter': 'Imperial', 'suburb': 'Arganzuela', 'city': 'Madrid', 'state': 'Comunidad de Madrid', 'ISO3166-2-lvl4': 'ES-MD', 'postcode': '28005', 'country': 'España', 'country_code': 'es'}\n",
      "{'amenity': 'Centro de Inserción Social \"Victoria Kent\"', 'house_number': '8-10', 'road': 'Calle Juan de Vera', 'quarter': 'Delicias', 'suburb': 'Arganzuela', 'city': 'Madrid', 'state': 'Comunidad de Madrid', 'ISO3166-2-lvl4': 'ES-MD', 'postcode': '28045', 'country': 'España', 'country_code': 'es'}\n",
      "{'road': 'Paseo de Tilos asiáticos', 'quarter': 'Las Acacias', 'suburb': 'Arganzuela', 'city': 'Madrid', 'state': 'Comunidad de Madrid', 'ISO3166-2-lvl4': 'ES-MD', 'postcode': '28005', 'country': 'España', 'country_code': 'es'}\n",
      "{'road': 'Calle Puerto Serrano', 'quarter': 'Legazpi', 'suburb': 'Arganzuela', 'city': 'Madrid', 'state': 'Comunidad de Madrid', 'ISO3166-2-lvl4': 'ES-MD', 'postcode': '28045', 'country': 'España', 'country_code': 'es'}\n",
      "{'road': 'Calle de Méndez Álvaro', 'quarter': 'Legazpi', 'suburb': 'Arganzuela', 'city': 'Madrid', 'state': 'Comunidad de Madrid', 'ISO3166-2-lvl4': 'ES-MD', 'postcode': '28045', 'country': 'España', 'country_code': 'es'}\n",
      "{'amenity': 'Policía Municipal - Unidad Especial de Tráfico', 'road': 'Calle de Eros', 'quarter': 'Legazpi', 'suburb': 'Arganzuela', 'city': 'Madrid', 'state': 'Comunidad de Madrid', 'ISO3166-2-lvl4': 'ES-MD', 'postcode': '28045', 'country': 'España', 'country_code': 'es'}\n",
      "{'office': 'Oficina SER Madrid', 'house_number': '16', 'road': 'Calle de Bustamante', 'quarter': 'Delicias', 'suburb': 'Arganzuela', 'city': 'Madrid', 'state': 'Comunidad de Madrid', 'ISO3166-2-lvl4': 'ES-MD', 'postcode': '28015', 'country': 'España', 'country_code': 'es'}\n",
      "{'amenity': 'Instituto de Educación Secundaria Juan de la Cierva', 'house_number': '1', 'road': 'Calle de la Caoba', 'quarter': 'Las Acacias', 'suburb': 'Arganzuela', 'city': 'Madrid', 'state': 'Comunidad de Madrid', 'ISO3166-2-lvl4': 'ES-MD', 'postcode': '28005', 'country': 'España', 'country_code': 'es'}\n",
      "{'house_number': '13', 'road': 'Paseo de las Delicias', 'quarter': 'Palos de Moguer', 'suburb': 'Arganzuela', 'city': 'Madrid', 'state': 'Comunidad de Madrid', 'ISO3166-2-lvl4': 'ES-MD', 'postcode': '28045', 'country': 'España', 'country_code': 'es'}\n",
      "{'house_number': '33, 35, 37', 'road': 'Calle del Bronce', 'quarter': 'Legazpi', 'suburb': 'Arganzuela', 'city': 'Madrid', 'state': 'Comunidad de Madrid', 'ISO3166-2-lvl4': 'ES-MD', 'postcode': '28045', 'country': 'España', 'country_code': 'es'}\n",
      "{'house_number': '16', 'road': 'Calle de las Delicias', 'quarter': 'Palos de Moguer', 'suburb': 'Arganzuela', 'city': 'Madrid', 'state': 'Comunidad de Madrid', 'ISO3166-2-lvl4': 'ES-MD', 'postcode': '28045', 'country': 'España', 'country_code': 'es'}\n",
      "{'suburb': 'Barajas', 'city': 'Madrid', 'state': 'Comunidad de Madrid', 'ISO3166-2-lvl4': 'ES-MD', 'country': 'España', 'country_code': 'es'}\n",
      "{'aeroway': '175', 'road': 'M-10', 'suburb': 'Barajas', 'city': 'Madrid', 'state': 'Comunidad de Madrid', 'ISO3166-2-lvl4': 'ES-MD', 'postcode': '28042', 'country': 'España', 'country_code': 'es'}\n",
      "{'amenity': 'Farmacía Isabel García Gonzalez', 'house_number': '1', 'road': 'Avenida General', 'suburb': 'Barajas', 'city': 'Madrid', 'state': 'Comunidad de Madrid', 'ISO3166-2-lvl4': 'ES-MD', 'postcode': '28042', 'country': 'España', 'country_code': 'es'}\n",
      "{'road': 'Arco Verde', 'suburb': 'Barajas', 'city': 'Madrid', 'state': 'Comunidad de Madrid', 'ISO3166-2-lvl4': 'ES-MD', 'postcode': '28860', 'country': 'España', 'country_code': 'es'}\n",
      "{'road': 'M-13', 'suburb': 'Barajas', 'city': 'Madrid', 'state': 'Comunidad de Madrid', 'ISO3166-2-lvl4': 'ES-MD', 'postcode': '28042', 'country': 'España', 'country_code': 'es'}\n",
      "{'highway': '0A', 'road': 'M-13', 'suburb': 'Barajas', 'city': 'Madrid', 'state': 'Comunidad de Madrid', 'ISO3166-2-lvl4': 'ES-MD', 'postcode': '28042', 'country': 'España', 'country_code': 'es'}\n",
      "{'aeroway': 'E80', 'road': 'Avenida de la Hispanidad', 'suburb': 'Barajas', 'city': 'Madrid', 'state': 'Comunidad de Madrid', 'ISO3166-2-lvl4': 'ES-MD', 'postcode': '28042', 'country': 'España', 'country_code': 'es'}\n",
      "{'aeroway': 'APRON T4S', 'road': 'M-111', 'suburb': 'Barajas', 'city': 'Madrid', 'state': 'Comunidad de Madrid', 'ISO3166-2-lvl4': 'ES-MD', 'postcode': '28042', 'country': 'España', 'country_code': 'es'}\n",
      "{'road': 'Paseo Central', 'suburb': 'Barajas', 'city': 'Madrid', 'state': 'Comunidad de Madrid', 'ISO3166-2-lvl4': 'ES-MD', 'postcode': '28042', 'country': 'España', 'country_code': 'es'}\n",
      "{'road': 'Arco Verde', 'suburb': 'Barajas', 'city': 'Madrid', 'state': 'Comunidad de Madrid', 'ISO3166-2-lvl4': 'ES-MD', 'postcode': '28860', 'country': 'España', 'country_code': 'es'}\n",
      "{'aeroway': 'R-0', 'road': 'Avenida de la Hispanidad', 'suburb': 'Barajas', 'city': 'Madrid', 'state': 'Comunidad de Madrid', 'ISO3166-2-lvl4': 'ES-MD', 'postcode': '28042', 'country': 'España', 'country_code': 'es'}\n",
      "{'amenity': 'Parking de Larga Estancia', 'road': 'Avenida de Logroño', 'suburb': 'Barajas', 'city': 'Madrid', 'state': 'Comunidad de Madrid', 'ISO3166-2-lvl4': 'ES-MD', 'postcode': '28042', 'country': 'España', 'country_code': 'es'}\n",
      "{'road': 'M-10', 'suburb': 'Barajas', 'city': 'Madrid', 'state': 'Comunidad de Madrid', 'ISO3166-2-lvl4': 'ES-MD', 'postcode': '28042', 'country': 'España', 'country_code': 'es'}\n",
      "{'road': 'Calle de Ribera del Sena', 'suburb': 'Barajas', 'city': 'Madrid', 'state': 'Comunidad de Madrid', 'ISO3166-2-lvl4': 'ES-MD', 'postcode': '28043', 'country': 'España', 'country_code': 'es'}\n",
      "{'road': 'Arco Verde', 'suburb': 'Barajas', 'city': 'Madrid', 'state': 'Comunidad de Madrid', 'ISO3166-2-lvl4': 'ES-MD', 'postcode': '28860', 'country': 'España', 'country_code': 'es'}\n",
      "{'aeroway': 'APRON T4S', 'road': 'M-111', 'suburb': 'Barajas', 'city': 'Madrid', 'state': 'Comunidad de Madrid', 'ISO3166-2-lvl4': 'ES-MD', 'postcode': '28042', 'country': 'España', 'country_code': 'es'}\n",
      "{'amenity': 'Recinto Ferial de IFEMA', 'road': 'Vía de Dublín', 'suburb': 'Barajas', 'city': 'Madrid', 'state': 'Comunidad de Madrid', 'ISO3166-2-lvl4': 'ES-MD', 'postcode': '28042', 'country': 'España', 'country_code': 'es'}\n",
      "{'road': 'Calle Ariadna', 'suburb': 'Barajas', 'city': 'Madrid', 'state': 'Comunidad de Madrid', 'ISO3166-2-lvl4': 'ES-MD', 'postcode': '28042', 'country': 'España', 'country_code': 'es'}\n",
      "{'aeroway': '32L', 'road': 'Calle Quebec', 'suburb': 'Barajas', 'city': 'Madrid', 'state': 'Comunidad de Madrid', 'ISO3166-2-lvl4': 'ES-MD', 'postcode': '28820', 'country': 'España', 'country_code': 'es'}\n",
      "{'road': 'Calle del Atlético de Madrid', 'neighbourhood': 'Colonia de la Prensa', 'quarter': 'Puerta Bonita', 'suburb': 'Carabanchel', 'city': 'Madrid', 'state': 'Comunidad de Madrid', 'ISO3166-2-lvl4': 'ES-MD', 'postcode': '28025', 'country': 'España', 'country_code': 'es'}\n",
      "{'road': 'Calle Carrero Juan Ramón', 'quarter': 'Abrantes', 'suburb': 'Carabanchel', 'city': 'Madrid', 'state': 'Comunidad de Madrid', 'ISO3166-2-lvl4': 'ES-MD', 'postcode': '28025', 'country': 'España', 'country_code': 'es'}\n",
      "{'shop': 'Mercadona', 'road': 'Calle Juan Mieg', 'quarter': 'Buenavista', 'suburb': 'Carabanchel', 'city': 'Madrid', 'state': 'Comunidad de Madrid', 'ISO3166-2-lvl4': 'ES-MD', 'postcode': '28025', 'country': 'España', 'country_code': 'es'}\n",
      "{'road': 'Calle de Eduardo Rivas', 'neighbourhood': 'Mancomunidad Inmaculada Concepción', 'quarter': 'Comillas', 'suburb': 'Carabanchel', 'city': 'Madrid', 'state': 'Comunidad de Madrid', 'ISO3166-2-lvl4': 'ES-MD', 'postcode': '28019', 'country': 'España', 'country_code': 'es'}\n",
      "{'road': 'Calle Halconero del Rey', 'quarter': 'Buenavista', 'suburb': 'Carabanchel', 'city': 'Madrid', 'state': 'Comunidad de Madrid', 'ISO3166-2-lvl4': 'ES-MD', 'postcode': '28054', 'country': 'España', 'country_code': 'es'}\n",
      "{'amenity': 'La Madreña', 'house_number': '10', 'road': 'Calle Santa Lucrecia', 'quarter': 'Opañel', 'suburb': 'Carabanchel', 'city': 'Madrid', 'state': 'Comunidad de Madrid', 'ISO3166-2-lvl4': 'ES-MD', 'postcode': '28019', 'country': 'España', 'country_code': 'es'}\n",
      "{'house_number': '13', 'road': 'Calle de Antolina Merino', 'quarter': 'Vista Alegre', 'suburb': 'Carabanchel', 'city': 'Madrid', 'state': 'Comunidad de Madrid', 'ISO3166-2-lvl4': 'ES-MD', 'postcode': '28025', 'country': 'España', 'country_code': 'es'}\n",
      "{'road': 'Avenida de los Poblados', 'quarter': 'Buenavista', 'suburb': 'Carabanchel', 'city': 'Madrid', 'state': 'Comunidad de Madrid', 'ISO3166-2-lvl4': 'ES-MD', 'postcode': '28025', 'country': 'España', 'country_code': 'es'}\n",
      "{'leisure': 'Campo de Fútbol San Martín de Porres', 'road': 'Calle Carlos Dabán', 'quarter': 'San Isidro', 'suburb': 'Carabanchel', 'city': 'Madrid', 'state': 'Comunidad de Madrid', 'ISO3166-2-lvl4': 'ES-MD', 'postcode': '28019', 'country': 'España', 'country_code': 'es'}\n",
      "{'amenity': 'Instituto de Educación Secundaria Vista Alegre (aula de compensación educativa)', 'house_number': '23', 'road': 'Calle de Carcastillo', 'quarter': 'Abrantes', 'suburb': 'Carabanchel', 'city': 'Madrid', 'state': 'Comunidad de Madrid', 'ISO3166-2-lvl4': 'ES-MD', 'postcode': '28025', 'country': 'España', 'country_code': 'es'}\n",
      "{'road': 'Calle Erica', 'quarter': 'Vista Alegre', 'suburb': 'Carabanchel', 'city': 'Madrid', 'state': 'Comunidad de Madrid', 'ISO3166-2-lvl4': 'ES-MD', 'postcode': '28044', 'country': 'España', 'country_code': 'es'}\n",
      "{'house_number': '184', 'road': 'Calle del General Ricardos', 'quarter': 'Vista Alegre', 'suburb': 'Carabanchel', 'city': 'Madrid', 'state': 'Comunidad de Madrid', 'ISO3166-2-lvl4': 'ES-MD', 'postcode': '28025', 'country': 'España', 'country_code': 'es'}\n",
      "{'amenity': 'Centro Sociocultural Blasco Ibáñez', 'house_number': '44', 'road': 'Calle Soldado José María Rey', 'quarter': 'San Isidro', 'suburb': 'Carabanchel', 'city': 'Madrid', 'state': 'Comunidad de Madrid', 'ISO3166-2-lvl4': 'ES-MD', 'postcode': '28019', 'country': 'España', 'country_code': 'es'}\n",
      "{'highway': 'Cementerio Sur-Sección 19G', 'road': 'Calle Halconero del Rey', 'quarter': 'Buenavista', 'suburb': 'Carabanchel', 'city': 'Madrid', 'state': 'Comunidad de Madrid', 'ISO3166-2-lvl4': 'ES-MD', 'postcode': '28054', 'country': 'España', 'country_code': 'es'}\n",
      "{'road': 'Calle de Ricardo Bellver', 'quarter': 'Buenavista', 'suburb': 'Carabanchel', 'city': 'Madrid', 'state': 'Comunidad de Madrid', 'ISO3166-2-lvl4': 'ES-MD', 'postcode': '28044', 'country': 'España', 'country_code': 'es'}\n",
      "{'amenity': 'Parroquia San Benito Menni', 'house_number': '2', 'road': 'Calle Catorce Olivas', 'quarter': 'Buenavista', 'suburb': 'Carabanchel', 'city': 'Madrid', 'state': 'Comunidad de Madrid', 'ISO3166-2-lvl4': 'ES-MD', 'postcode': '28054', 'country': 'España', 'country_code': 'es'}\n",
      "{'leisure': 'Instalación Deportiva Municipal Básica Parque Eugenia de Montijo', 'road': 'Calle del Parque Eugenia de Montijo', 'quarter': 'Vista Alegre', 'suburb': 'Carabanchel', 'city': 'Madrid', 'state': 'Comunidad de Madrid', 'ISO3166-2-lvl4': 'ES-MD', 'postcode': '28044', 'country': 'España', 'country_code': 'es'}\n",
      "{'tourism': 'Palacio Nuevo', 'road': 'Parque Vista Alegre', 'neighbourhood': 'Colonia de la Prensa', 'quarter': 'Puerta Bonita', 'suburb': 'Carabanchel', 'city': 'Madrid', 'state': 'Comunidad de Madrid', 'ISO3166-2-lvl4': 'ES-MD', 'postcode': '28025', 'country': 'España', 'country_code': 'es'}\n",
      "{'road': 'Avenida de la Peseta', 'quarter': 'Buenavista', 'suburb': 'Carabanchel', 'city': 'Madrid', 'state': 'Comunidad de Madrid', 'ISO3166-2-lvl4': 'ES-MD', 'postcode': '28054', 'country': 'España', 'country_code': 'es'}\n",
      "{'road': 'Calle de la Duquesa de Tamames', 'quarter': 'Buenavista', 'suburb': 'Carabanchel', 'city': 'Madrid', 'state': 'Comunidad de Madrid', 'ISO3166-2-lvl4': 'ES-MD', 'postcode': '28044', 'country': 'España', 'country_code': 'es'}\n",
      "{'road': 'Calle de los Morales', 'quarter': 'Buenavista', 'suburb': 'Carabanchel', 'city': 'Madrid', 'state': 'Comunidad de Madrid', 'ISO3166-2-lvl4': 'ES-MD', 'postcode': '28054', 'country': 'España', 'country_code': 'es'}\n",
      "{'road': 'Calle Erica', 'quarter': 'Vista Alegre', 'suburb': 'Carabanchel', 'city': 'Madrid', 'state': 'Comunidad de Madrid', 'ISO3166-2-lvl4': 'ES-MD', 'postcode': '28044', 'country': 'España', 'country_code': 'es'}\n",
      "{'road': 'Avenida de Carabanchel Alto', 'quarter': 'Buenavista', 'suburb': 'Carabanchel', 'city': 'Madrid', 'state': 'Comunidad de Madrid', 'ISO3166-2-lvl4': 'ES-MD', 'postcode': '28054', 'country': 'España', 'country_code': 'es'}\n",
      "{'house_number': '5', 'road': 'Glorieta del Valle de Oro', 'quarter': 'Opañel', 'suburb': 'Carabanchel', 'city': 'Madrid', 'state': 'Comunidad de Madrid', 'ISO3166-2-lvl4': 'ES-MD', 'postcode': '28025', 'country': 'España', 'country_code': 'es'}\n",
      "{'road': 'R-5', 'quarter': 'Buenavista', 'suburb': 'Carabanchel', 'city': 'Madrid', 'state': 'Comunidad de Madrid', 'ISO3166-2-lvl4': 'ES-MD', 'postcode': '28054', 'country': 'España', 'country_code': 'es'}\n",
      "{'road': 'Calle del Diario de la Nación', 'neighbourhood': 'Colonia de la Prensa', 'quarter': 'Puerta Bonita', 'suburb': 'Carabanchel', 'city': 'Madrid', 'state': 'Comunidad de Madrid', 'ISO3166-2-lvl4': 'ES-MD', 'postcode': '28025', 'country': 'España', 'country_code': 'es'}\n",
      "{'house_number': '52', 'road': 'Avenida del Manzanares', 'quarter': 'Cármenes', 'suburb': 'Latina', 'city': 'Madrid', 'state': 'Comunidad de Madrid', 'ISO3166-2-lvl4': 'ES-MD', 'postcode': '28011', 'country': 'España', 'country_code': 'es'}\n",
      "{'road': 'Calle Domingo de Alboraya', 'neighbourhood': 'Colonia de la Prensa', 'quarter': 'Puerta Bonita', 'suburb': 'Carabanchel', 'city': 'Madrid', 'state': 'Comunidad de Madrid', 'ISO3166-2-lvl4': 'ES-MD', 'postcode': '28025', 'country': 'España', 'country_code': 'es'}\n",
      "{'house_number': '25', 'road': 'Calle de Ramón Serrano', 'quarter': 'Vista Alegre', 'suburb': 'Carabanchel', 'city': 'Madrid', 'state': 'Comunidad de Madrid', 'ISO3166-2-lvl4': 'ES-MD', 'postcode': '28025', 'country': 'España', 'country_code': 'es'}\n",
      "{'house_number': '114', 'road': 'Calle de Eugenia de Montijo', 'quarter': 'Buenavista', 'suburb': 'Carabanchel', 'city': 'Madrid', 'state': 'Comunidad de Madrid', 'ISO3166-2-lvl4': 'ES-MD', 'postcode': '28044', 'country': 'España', 'country_code': 'es'}\n",
      "{'road': 'Calle Comuneros de Castilla', 'quarter': 'San Isidro', 'suburb': 'Carabanchel', 'city': 'Madrid', 'state': 'Comunidad de Madrid', 'ISO3166-2-lvl4': 'ES-MD', 'postcode': '28019', 'country': 'España', 'country_code': 'es'}\n",
      "{'amenity': 'Salesianos Carabanchel', 'road': 'Ronda de Don Bosco', 'quarter': 'Buenavista', 'suburb': 'Carabanchel', 'city': 'Madrid', 'state': 'Comunidad de Madrid', 'ISO3166-2-lvl4': 'ES-MD', 'postcode': '28044', 'country': 'España', 'country_code': 'es'}\n",
      "{'house_number': '1', 'road': 'Calle de Albatros', 'quarter': 'Vista Alegre', 'suburb': 'Carabanchel', 'city': 'Madrid', 'state': 'Comunidad de Madrid', 'ISO3166-2-lvl4': 'ES-MD', 'postcode': '28047', 'country': 'España', 'country_code': 'es'}\n",
      "{'road': 'Calle de Albox', 'neighbourhood': 'Colonia de la Prensa', 'quarter': 'Puerta Bonita', 'suburb': 'Carabanchel', 'city': 'Madrid', 'state': 'Comunidad de Madrid', 'ISO3166-2-lvl4': 'ES-MD', 'postcode': '28025', 'country': 'España', 'country_code': 'es'}\n",
      "{'amenity': 'Cepsa', 'road': 'Anillo Verde Ciclista', 'quarter': 'Buenavista', 'suburb': 'Carabanchel', 'city': 'Madrid', 'state': 'Comunidad de Madrid', 'ISO3166-2-lvl4': 'ES-MD', 'postcode': '28026', 'country': 'España', 'country_code': 'es'}\n",
      "{'road': 'Autovía de Toledo', 'quarter': 'Abrantes', 'suburb': 'Carabanchel', 'city': 'Madrid', 'state': 'Comunidad de Madrid', 'ISO3166-2-lvl4': 'ES-MD', 'postcode': '28019', 'country': 'España', 'country_code': 'es'}\n",
      "{'road': 'R-5', 'quarter': 'Buenavista', 'hamlet': 'Butarque', 'city': 'Leganés', 'state': 'Comunidad de Madrid', 'ISO3166-2-lvl4': 'ES-MD', 'postcode': '28054', 'country': 'España', 'country_code': 'es'}\n",
      "{'house_number': '9,11,13,15,17,19', 'road': 'Calle Teodoredo', 'quarter': 'San Isidro', 'suburb': 'Carabanchel', 'city': 'Madrid', 'state': 'Comunidad de Madrid', 'ISO3166-2-lvl4': 'ES-MD', 'postcode': '28019', 'country': 'España', 'country_code': 'es'}\n",
      "{'amenity': 'EMT - Depósito de Carabanchel.', 'road': 'Anillo Verde Ciclista', 'quarter': 'Buenavista', 'suburb': 'Carabanchel', 'city': 'Madrid', 'state': 'Comunidad de Madrid', 'ISO3166-2-lvl4': 'ES-MD', 'postcode': '28026', 'country': 'España', 'country_code': 'es'}\n",
      "{'road': 'Calle del Thaler', 'quarter': 'Buenavista', 'suburb': 'Carabanchel', 'city': 'Madrid', 'state': 'Comunidad de Madrid', 'ISO3166-2-lvl4': 'ES-MD', 'postcode': '28919', 'country': 'España', 'country_code': 'es'}\n",
      "{'leisure': 'Telaraña infantil', 'road': 'Carril bici Parquesur', 'quarter': 'Abrantes', 'suburb': 'Carabanchel', 'city': 'Madrid', 'state': 'Comunidad de Madrid', 'ISO3166-2-lvl4': 'ES-MD', 'postcode': '28025', 'country': 'España', 'country_code': 'es'}\n",
      "{'road': 'Calle de la Vía Carpetana', 'quarter': 'Cármenes', 'suburb': 'Latina', 'city': 'Madrid', 'state': 'Comunidad de Madrid', 'ISO3166-2-lvl4': 'ES-MD', 'postcode': '28047', 'country': 'España', 'country_code': 'es'}\n",
      "{'road': 'Calle de Clara Campoamor', 'quarter': 'Puerta Bonita', 'suburb': 'Carabanchel', 'city': 'Madrid', 'state': 'Comunidad de Madrid', 'ISO3166-2-lvl4': 'ES-MD', 'postcode': '28025', 'country': 'España', 'country_code': 'es'}\n",
      "{'shop': 'Frutas Jalal', 'road': 'Calle del Parque Eugenia de Montijo', 'quarter': 'Vista Alegre', 'suburb': 'Carabanchel', 'city': 'Madrid', 'state': 'Comunidad de Madrid', 'ISO3166-2-lvl4': 'ES-MD', 'postcode': '28044', 'country': 'España', 'country_code': 'es'}\n",
      "{'road': 'Calle de Quindemaro', 'quarter': 'San Isidro', 'suburb': 'Carabanchel', 'city': 'Madrid', 'state': 'Comunidad de Madrid', 'ISO3166-2-lvl4': 'ES-MD', 'postcode': '28019', 'country': 'España', 'country_code': 'es'}\n",
      "{'house_number': '11', 'road': 'Calle de Guabairo', 'quarter': 'Vista Alegre', 'suburb': 'Carabanchel', 'city': 'Madrid', 'state': 'Comunidad de Madrid', 'ISO3166-2-lvl4': 'ES-MD', 'postcode': '28047', 'country': 'España', 'country_code': 'es'}\n",
      "{'amenity': 'Colegio Ártica', 'road': 'Calle de los Morales', 'quarter': 'Buenavista', 'suburb': 'Carabanchel', 'city': 'Madrid', 'state': 'Comunidad de Madrid', 'ISO3166-2-lvl4': 'ES-MD', 'postcode': '28054', 'country': 'España', 'country_code': 'es'}\n",
      "{'road': 'Puente Monumental Parque Arganzuela', 'quarter': 'Comillas', 'suburb': 'Carabanchel', 'city': 'Madrid', 'state': 'Comunidad de Madrid', 'ISO3166-2-lvl4': 'ES-MD', 'postcode': '28019', 'country': 'España', 'country_code': 'es'}\n",
      "{'historic': 'Panteón marqués Amboage', 'road': 'Paseo de la Ermita del Santo', 'quarter': 'San Isidro', 'suburb': 'Carabanchel', 'city': 'Madrid', 'state': 'Comunidad de Madrid', 'ISO3166-2-lvl4': 'ES-MD', 'postcode': '28019', 'country': 'España', 'country_code': 'es'}\n",
      "{'road': 'Calle Halconero del Rey', 'quarter': 'Buenavista', 'suburb': 'Carabanchel', 'city': 'Madrid', 'state': 'Comunidad de Madrid', 'ISO3166-2-lvl4': 'ES-MD', 'postcode': '28054', 'country': 'España', 'country_code': 'es'}\n",
      "{'house_number': '4', 'road': 'Calle de Aguilar del Río', 'quarter': 'Buenavista', 'suburb': 'Carabanchel', 'city': 'Madrid', 'state': 'Comunidad de Madrid', 'ISO3166-2-lvl4': 'ES-MD', 'postcode': '28044', 'country': 'España', 'country_code': 'es'}\n",
      "{'amenity': 'Colegio de Educación Infantil y Primaria República de Colombia', 'house_number': '3', 'road': 'Plaza de Alloz', 'quarter': 'Puerta Bonita', 'suburb': 'Carabanchel', 'city': 'Madrid', 'state': 'Comunidad de Madrid', 'ISO3166-2-lvl4': 'ES-MD', 'postcode': '28025', 'country': 'España', 'country_code': 'es'}\n",
      "{'road': 'Calle de Manuel Canales', 'quarter': 'Opañel', 'suburb': 'Carabanchel', 'city': 'Madrid', 'state': 'Comunidad de Madrid', 'ISO3166-2-lvl4': 'ES-MD', 'postcode': '28019', 'country': 'España', 'country_code': 'es'}\n",
      "{'road': 'Calle de Luis Claudio', 'quarter': 'Buenavista', 'suburb': 'Carabanchel', 'city': 'Madrid', 'state': 'Comunidad de Madrid', 'ISO3166-2-lvl4': 'ES-MD', 'postcode': '28044', 'country': 'España', 'country_code': 'es'}\n",
      "{'shop': 'Promoman', 'road': 'Calle de Marina Lavandeira', 'quarter': 'Vista Alegre', 'suburb': 'Carabanchel', 'city': 'Madrid', 'state': 'Comunidad de Madrid', 'ISO3166-2-lvl4': 'ES-MD', 'postcode': '28025', 'country': 'España', 'country_code': 'es'}\n",
      "{'road': 'Calle del Busaco', 'quarter': 'Abrantes', 'suburb': 'Carabanchel', 'city': 'Madrid', 'state': 'Comunidad de Madrid', 'ISO3166-2-lvl4': 'ES-MD', 'postcode': '28025', 'country': 'España', 'country_code': 'es'}\n",
      "{'house_number': '15', 'road': 'Calle de Rodríguez Vega', 'quarter': 'Abrantes', 'suburb': 'Carabanchel', 'city': 'Madrid', 'state': 'Comunidad de Madrid', 'ISO3166-2-lvl4': 'ES-MD', 'postcode': '28025', 'country': 'España', 'country_code': 'es'}\n",
      "{'house_number': '19', 'road': 'Calle de Atocha', 'neighbourhood': 'Lavapiés', 'quarter': 'Cortes', 'city_district': 'Centro', 'city': 'Madrid', 'state': 'Comunidad de Madrid', 'ISO3166-2-lvl4': 'ES-MD', 'postcode': '28014', 'country': 'España', 'country_code': 'es'}\n",
      "{'amenity': 'Grupo Cero', 'house_number': '4', 'road': 'Calle del Duque de Osuna', 'neighbourhood': 'Malasaña', 'quarter': 'Universidad', 'city_district': 'Centro', 'city': 'Madrid', 'state': 'Comunidad de Madrid', 'ISO3166-2-lvl4': 'ES-MD', 'postcode': '28015', 'country': 'España', 'country_code': 'es'}\n",
      "{'house_number': '62', 'road': 'Calle de Pelayo', 'neighbourhood': 'Chueca', 'quarter': 'Justicia', 'city_district': 'Centro', 'city': 'Madrid', 'state': 'Comunidad de Madrid', 'ISO3166-2-lvl4': 'ES-MD', 'postcode': '28004', 'country': 'España', 'country_code': 'es'}\n",
      "{'amenity': 'Parking Mercadona San Antón', 'road': 'Calle de la Libertad', 'neighbourhood': 'Chueca', 'quarter': 'Justicia', 'city_district': 'Centro', 'city': 'Madrid', 'state': 'Comunidad de Madrid', 'ISO3166-2-lvl4': 'ES-MD', 'postcode': '28004', 'country': 'España', 'country_code': 'es'}\n",
      "{'house_number': '18', 'road': 'Calle del Gobernador', 'neighbourhood': 'Barrio de las Letras', 'quarter': 'Cortes', 'city_district': 'Centro', 'city': 'Madrid', 'state': 'Comunidad de Madrid', 'ISO3166-2-lvl4': 'ES-MD', 'postcode': '28014', 'country': 'España', 'country_code': 'es'}\n",
      "{'house_number': '10', 'road': 'Plaza de Herradores', 'neighbourhood': 'Barrio de los Austrias', 'quarter': 'Sol', 'city_district': 'Centro', 'city': 'Madrid', 'state': 'Comunidad de Madrid', 'ISO3166-2-lvl4': 'ES-MD', 'postcode': '28013', 'country': 'España', 'country_code': 'es'}\n",
      "{'house_number': '9', 'road': 'Calle de Santiago', 'neighbourhood': 'Barrio de la Latina', 'quarter': 'Palacio', 'city_district': 'Centro', 'city': 'Madrid', 'state': 'Comunidad de Madrid', 'ISO3166-2-lvl4': 'ES-MD', 'postcode': '28013', 'country': 'España', 'country_code': 'es'}\n",
      "{'house_number': '8', 'road': 'Plaza del Dos de Mayo', 'neighbourhood': 'Malasaña', 'quarter': 'Universidad', 'city_district': 'Centro', 'city': 'Madrid', 'state': 'Comunidad de Madrid', 'ISO3166-2-lvl4': 'ES-MD', 'postcode': '28004', 'country': 'España', 'country_code': 'es'}\n",
      "{'house_number': '15', 'road': 'Plaza de Tirso de Molina', 'neighbourhood': 'Lavapiés', 'quarter': 'Embajadores', 'city_district': 'Centro', 'city': 'Madrid', 'state': 'Comunidad de Madrid', 'ISO3166-2-lvl4': 'ES-MD', 'postcode': '28012', 'country': 'España', 'country_code': 'es'}\n",
      "{'amenity': 'Café del Monaguillo', 'house_number': '3', 'road': 'Calle del Rollo', 'neighbourhood': 'Barrio de la Latina', 'quarter': 'Palacio', 'city_district': 'Centro', 'city': 'Madrid', 'state': 'Comunidad de Madrid', 'ISO3166-2-lvl4': 'ES-MD', 'postcode': '28005', 'country': 'España', 'country_code': 'es'}\n",
      "{'road': 'Calle de la Farmacia', 'neighbourhood': 'Chueca', 'quarter': 'Justicia', 'city_district': 'Centro', 'city': 'Madrid', 'state': 'Comunidad de Madrid', 'ISO3166-2-lvl4': 'ES-MD', 'postcode': '28004', 'country': 'España', 'country_code': 'es'}\n",
      "{'road': 'Plaza de Santo Domingo', 'quarter': 'Palacio', 'city_district': 'Centro', 'city': 'Madrid', 'state': 'Comunidad de Madrid', 'ISO3166-2-lvl4': 'ES-MD', 'postcode': '28013', 'country': 'España', 'country_code': 'es'}\n",
      "{'house_number': '2', 'road': 'Calle de Argensola', 'neighbourhood': 'Chueca', 'quarter': 'Justicia', 'suburb': 'Chamberí', 'city_district': 'Centro', 'city': 'Madrid', 'state': 'Comunidad de Madrid', 'ISO3166-2-lvl4': 'ES-MD', 'postcode': '28004', 'country': 'España', 'country_code': 'es'}\n",
      "{'house_number': '7', 'road': 'Calle de Santiago', 'neighbourhood': 'Barrio de la Latina', 'quarter': 'Palacio', 'city_district': 'Centro', 'city': 'Madrid', 'state': 'Comunidad de Madrid', 'ISO3166-2-lvl4': 'ES-MD', 'postcode': '28013', 'country': 'España', 'country_code': 'es'}\n",
      "{'office': 'Tribunal de Cuentas', 'house_number': '81', 'road': 'Calle de Fuencarral', 'neighbourhood': 'Chueca', 'quarter': 'Universidad', 'city_district': 'Centro', 'city': 'Madrid', 'state': 'Comunidad de Madrid', 'ISO3166-2-lvl4': 'ES-MD', 'postcode': '28004', 'country': 'España', 'country_code': 'es'}\n",
      "{'road': 'Cuesta de la Vega', 'neighbourhood': 'Barrio de la Latina', 'quarter': 'Palacio', 'city_district': 'Centro', 'city': 'Madrid', 'state': 'Comunidad de Madrid', 'ISO3166-2-lvl4': 'ES-MD', 'postcode': '28013', 'country': 'España', 'country_code': 'es'}\n",
      "{'office': 'Instituto Nacional de Administración Pública', 'road': 'Plaza de Juan Goytisolo', 'neighbourhood': 'Lavapiés', 'quarter': 'Embajadores', 'city_district': 'Centro', 'city': 'Madrid', 'state': 'Comunidad de Madrid', 'ISO3166-2-lvl4': 'ES-MD', 'postcode': '28012', 'country': 'España', 'country_code': 'es'}\n",
      "{'amenity': 'Centro Privado de Formación Profesional Específica Instituto Vox', 'house_number': '59', 'road': 'Gran Vía', 'neighbourhood': 'Malasaña', 'quarter': 'Palacio', 'city_district': 'Centro', 'city': 'Madrid', 'state': 'Comunidad de Madrid', 'ISO3166-2-lvl4': 'ES-MD', 'postcode': '28013', 'country': 'España', 'country_code': 'es'}\n",
      "{'road': 'Calle del Casino', 'neighbourhood': 'Lavapiés', 'quarter': 'Embajadores', 'city_district': 'Centro', 'city': 'Madrid', 'state': 'Comunidad de Madrid', 'ISO3166-2-lvl4': 'ES-MD', 'postcode': '28005', 'country': 'España', 'country_code': 'es'}\n",
      "{'military': 'Cuartel General del Ejército', 'road': 'Paseo de Recoletos', 'neighbourhood': 'Chueca', 'quarter': 'Justicia', 'city_district': 'Centro', 'city': 'Madrid', 'state': 'Comunidad de Madrid', 'ISO3166-2-lvl4': 'ES-MD', 'postcode': '28014', 'country': 'España', 'country_code': 'es'}\n",
      "{'house_number': '21', 'road': 'Calle del Mesón de Paredes', 'neighbourhood': 'Lavapiés', 'quarter': 'Embajadores', 'city_district': 'Centro', 'city': 'Madrid', 'state': 'Comunidad de Madrid', 'ISO3166-2-lvl4': 'ES-MD', 'postcode': '28012', 'country': 'España', 'country_code': 'es'}\n",
      "{'amenity': 'Lamian', 'house_number': '4', 'road': 'Plaza de los Mostenses', 'neighbourhood': 'Malasaña', 'quarter': 'Universidad', 'city_district': 'Centro', 'city': 'Madrid', 'state': 'Comunidad de Madrid', 'ISO3166-2-lvl4': 'ES-MD', 'postcode': '28015', 'country': 'España', 'country_code': 'es'}\n",
      "{'road': 'Calle del Rosario', 'neighbourhood': 'Barrio de la Latina', 'quarter': 'Palacio', 'city_district': 'Centro', 'city': 'Madrid', 'state': 'Comunidad de Madrid', 'ISO3166-2-lvl4': 'ES-MD', 'postcode': '28005', 'country': 'España', 'country_code': 'es'}\n",
      "{'house_number': '18', 'road': 'Calle del Amparo', 'neighbourhood': 'Lavapiés', 'quarter': 'Embajadores', 'city_district': 'Centro', 'city': 'Madrid', 'state': 'Comunidad de Madrid', 'ISO3166-2-lvl4': 'ES-MD', 'postcode': '28012', 'country': 'España', 'country_code': 'es'}\n",
      "{'road': 'Calle de Prim', 'neighbourhood': 'Chueca', 'quarter': 'Justicia', 'city_district': 'Centro', 'city': 'Madrid', 'state': 'Comunidad de Madrid', 'ISO3166-2-lvl4': 'ES-MD', 'postcode': '28004', 'country': 'España', 'country_code': 'es'}\n",
      "{'house_number': '9', 'road': 'Calle de los Abades', 'neighbourhood': 'Lavapiés', 'quarter': 'Embajadores', 'city_district': 'Centro', 'city': 'Madrid', 'state': 'Comunidad de Madrid', 'ISO3166-2-lvl4': 'ES-MD', 'postcode': '28012', 'country': 'España', 'country_code': 'es'}\n",
      "{'amenity': 'Iglesia de Santiago y San Juan Bautista', 'house_number': '24', 'road': 'Plaza de Santiago', 'neighbourhood': 'Barrio de la Latina', 'quarter': 'Palacio', 'city_district': 'Centro', 'city': 'Madrid', 'state': 'Comunidad de Madrid', 'ISO3166-2-lvl4': 'ES-MD', 'postcode': '28013', 'country': 'España', 'country_code': 'es'}\n",
      "{'amenity': 'Fuente de Ramón Gómez de la Serna', 'road': 'Calle de Beatriz Galindo', 'neighbourhood': 'Barrio de la Latina', 'quarter': 'Palacio', 'city_district': 'Centro', 'city': 'Madrid', 'state': 'Comunidad de Madrid', 'ISO3166-2-lvl4': 'ES-MD', 'postcode': '28005', 'country': 'España', 'country_code': 'es'}\n",
      "{'road': 'Cuesta de Javalquinto', 'neighbourhood': 'Barrio de la Latina', 'quarter': 'Palacio', 'city_district': 'Centro', 'city': 'Madrid', 'state': 'Comunidad de Madrid', 'ISO3166-2-lvl4': 'ES-MD', 'postcode': '28005', 'country': 'España', 'country_code': 'es'}\n",
      "{'tourism': 'Atocha by Meliá', 'road': 'Calle de Atocha', 'neighbourhood': 'Barrio de las Letras', 'quarter': 'Cortes', 'city_district': 'Centro', 'city': 'Madrid', 'state': 'Comunidad de Madrid', 'ISO3166-2-lvl4': 'ES-MD', 'postcode': '28012', 'country': 'España', 'country_code': 'es'}\n",
      "{'amenity': 'Picnic', 'house_number': '1', 'road': 'Calle de Minas', 'neighbourhood': 'Malasaña', 'quarter': 'Universidad', 'city_district': 'Centro', 'city': 'Madrid', 'state': 'Comunidad de Madrid', 'ISO3166-2-lvl4': 'ES-MD', 'postcode': '28004', 'country': 'España', 'country_code': 'es'}\n",
      "{'office': 'Colegio Oficial de Arquitectos de Madrid', 'road': 'Calle de Santa Brígida', 'neighbourhood': 'Chueca', 'quarter': 'Justicia', 'city_district': 'Centro', 'city': 'Madrid', 'state': 'Comunidad de Madrid', 'ISO3166-2-lvl4': 'ES-MD', 'postcode': '28004', 'country': 'España', 'country_code': 'es'}\n",
      "{'amenity': 'Aiò', 'house_number': '25', 'road': 'Corredera Baja de San Pablo', 'neighbourhood': 'Malasaña', 'quarter': 'Universidad', 'city_district': 'Centro', 'city': 'Madrid', 'state': 'Comunidad de Madrid', 'ISO3166-2-lvl4': 'ES-MD', 'postcode': '28004', 'country': 'España', 'country_code': 'es'}\n",
      "{'tourism': 'Bastardo Hostel', 'house_number': '3', 'road': 'Calle de San Mateo', 'neighbourhood': 'Chueca', 'quarter': 'Justicia', 'city_district': 'Centro', 'city': 'Madrid', 'state': 'Comunidad de Madrid', 'ISO3166-2-lvl4': 'ES-MD', 'postcode': '28004', 'country': 'España', 'country_code': 'es'}\n",
      "{'amenity': 'Alma Llanera', 'house_number': '27', 'road': 'Calle del Barco', 'neighbourhood': 'Malasaña', 'quarter': 'Universidad', 'city_district': 'Centro', 'city': 'Madrid', 'state': 'Comunidad de Madrid', 'ISO3166-2-lvl4': 'ES-MD', 'postcode': '28004', 'country': 'España', 'country_code': 'es'}\n",
      "{'house_number': '51', 'road': 'Calle de la Palma', 'neighbourhood': 'Malasaña', 'quarter': 'Universidad', 'city_district': 'Centro', 'city': 'Madrid', 'state': 'Comunidad de Madrid', 'ISO3166-2-lvl4': 'ES-MD', 'postcode': '28004', 'country': 'España', 'country_code': 'es'}\n",
      "{'tourism': 'Hotel Villa Real 5', 'house_number': '10', 'road': 'Plaza de las Cortes', 'neighbourhood': 'Barrio de las Letras', 'quarter': 'Cortes', 'city_district': 'Centro', 'city': 'Madrid', 'state': 'Comunidad de Madrid', 'ISO3166-2-lvl4': 'ES-MD', 'postcode': '28014', 'country': 'España', 'country_code': 'es'}\n",
      "{'house_number': '20', 'road': 'Calle de la Libertad', 'neighbourhood': 'Chueca', 'quarter': 'Justicia', 'city_district': 'Centro', 'city': 'Madrid', 'state': 'Comunidad de Madrid', 'ISO3166-2-lvl4': 'ES-MD', 'postcode': '28004', 'country': 'España', 'country_code': 'es'}\n",
      "{'house_number': '13', 'road': 'Calle del Norte', 'neighbourhood': 'Malasaña', 'quarter': 'Universidad', 'city_district': 'Centro', 'city': 'Madrid', 'state': 'Comunidad de Madrid', 'ISO3166-2-lvl4': 'ES-MD', 'postcode': '28015', 'country': 'España', 'country_code': 'es'}\n",
      "{'house_number': '7', 'road': 'Calle del Príncipe de Anglona', 'neighbourhood': 'Barrio de la Latina', 'quarter': 'Palacio', 'city_district': 'Centro', 'city': 'Madrid', 'state': 'Comunidad de Madrid', 'ISO3166-2-lvl4': 'ES-MD', 'postcode': '28005', 'country': 'España', 'country_code': 'es'}\n",
      "{'house_number': '3', 'road': 'Calle del Sacramento', 'neighbourhood': 'Barrio de la Latina', 'quarter': 'Palacio', 'city_district': 'Centro', 'city': 'Madrid', 'state': 'Comunidad de Madrid', 'ISO3166-2-lvl4': 'ES-MD', 'postcode': '28005', 'country': 'España', 'country_code': 'es'}\n",
      "{'road': 'Paseo del Prado', 'quarter': 'Jerónimos', 'suburb': 'Retiro', 'city': 'Madrid', 'state': 'Comunidad de Madrid', 'ISO3166-2-lvl4': 'ES-MD', 'postcode': '28014', 'country': 'España', 'country_code': 'es'}\n",
      "{'road': 'Calle de Embajadores', 'neighbourhood': 'Lavapiés', 'quarter': 'Embajadores', 'city_district': 'Centro', 'city': 'Madrid', 'state': 'Comunidad de Madrid', 'ISO3166-2-lvl4': 'ES-MD', 'postcode': '28012', 'country': 'España', 'country_code': 'es'}\n",
      "{'amenity': 'Seminario Conciliar de la Inmaculada y San Dámaso', 'road': 'Calle San Buenaventura', 'neighbourhood': 'Barrio de la Latina', 'quarter': 'Palacio', 'city_district': 'Centro', 'city': 'Madrid', 'state': 'Comunidad de Madrid', 'ISO3166-2-lvl4': 'ES-MD', 'postcode': '28005', 'country': 'España', 'country_code': 'es'}\n",
      "{'house_number': '2', 'road': 'Calle de Carlos Arniches', 'neighbourhood': 'Lavapiés', 'quarter': 'Embajadores', 'city_district': 'Centro', 'city': 'Madrid', 'state': 'Comunidad de Madrid', 'ISO3166-2-lvl4': 'ES-MD', 'postcode': '28005', 'country': 'España', 'country_code': 'es'}\n",
      "{'tourism': 'Jardines del Campo del Moro', 'road': 'Glorieta de San Vicente', 'quarter': 'Casa de Campo', 'city_district': 'Moncloa-Aravaca', 'city': 'Madrid', 'state': 'Comunidad de Madrid', 'ISO3166-2-lvl4': 'ES-MD', 'postcode': '28008', 'country': 'España', 'country_code': 'es'}\n",
      "{'amenity': 'El Flaco', 'house_number': '8', 'road': 'Calle de Javier Ferrero', 'quarter': 'Ciudad Jardín', 'suburb': 'Chamartín', 'city': 'Madrid', 'state': 'Comunidad de Madrid', 'ISO3166-2-lvl4': 'ES-MD', 'postcode': '28002', 'country': 'España', 'country_code': 'es'}\n",
      "{'shop': 'Toyota Hersamotor', 'house_number': '31', 'road': 'Avenida de Alberto Alcocer', 'neighbourhood': 'Costa Fleming', 'quarter': 'Nueva España', 'suburb': 'Chamartín', 'city': 'Madrid', 'state': 'Comunidad de Madrid', 'ISO3166-2-lvl4': 'ES-MD', 'postcode': '28046', 'country': 'España', 'country_code': 'es'}\n",
      "{'highway': 'Paquete Exprés - Est. Chamartín', 'road': 'Calle de la Hiedra', 'neighbourhood': 'Colonia de San Cristóbal', 'quarter': 'Castilla', 'suburb': 'Chamartín', 'city': 'Madrid', 'state': 'Comunidad de Madrid', 'ISO3166-2-lvl4': 'ES-MD', 'postcode': '28046', 'country': 'España', 'country_code': 'es'}\n",
      "{'house_number': '8', 'road': 'Calle de Cabeza Grande', 'quarter': 'Ciudad Jardín', 'suburb': 'Chamartín', 'city': 'Madrid', 'state': 'Comunidad de Madrid', 'ISO3166-2-lvl4': 'ES-MD', 'postcode': '28002', 'country': 'España', 'country_code': 'es'}\n"
     ]
    },
    {
     "ename": "KeyboardInterrupt",
     "evalue": "",
     "output_type": "error",
     "traceback": [
      "\u001b[0;31m---------------------------------------------------------------------------\u001b[0m",
      "\u001b[0;31mKeyboardInterrupt\u001b[0m                         Traceback (most recent call last)",
      "Cell \u001b[0;32mIn[148], line 1\u001b[0m\n\u001b[0;32m----> 1\u001b[0m \u001b[43mdf_explode\u001b[49m\u001b[38;5;241;43m.\u001b[39;49m\u001b[43mapply\u001b[49m\u001b[43m(\u001b[49m\u001b[38;5;28;43;01mlambda\u001b[39;49;00m\u001b[43m \u001b[49m\u001b[43mx\u001b[49m\u001b[43m:\u001b[49m\u001b[43m \u001b[49m\u001b[43mget_address\u001b[49m\u001b[43m(\u001b[49m\u001b[43mx\u001b[49m\u001b[43m[\u001b[49m\u001b[38;5;124;43m\"\u001b[39;49m\u001b[38;5;124;43mpoints\u001b[39;49m\u001b[38;5;124;43m\"\u001b[39;49m\u001b[43m]\u001b[49m\u001b[43m)\u001b[49m\u001b[43m,\u001b[49m\u001b[43m \u001b[49m\u001b[43maxis\u001b[49m\u001b[38;5;241;43m=\u001b[39;49m\u001b[38;5;241;43m1\u001b[39;49m\u001b[43m)\u001b[49m\n",
      "File \u001b[0;32m~/.local/share/virtualenvs/TFM-_kMYitn2/lib/python3.10/site-packages/pandas/core/frame.py:10374\u001b[0m, in \u001b[0;36mDataFrame.apply\u001b[0;34m(self, func, axis, raw, result_type, args, by_row, engine, engine_kwargs, **kwargs)\u001b[0m\n\u001b[1;32m  10360\u001b[0m \u001b[38;5;28;01mfrom\u001b[39;00m \u001b[38;5;21;01mpandas\u001b[39;00m\u001b[38;5;21;01m.\u001b[39;00m\u001b[38;5;21;01mcore\u001b[39;00m\u001b[38;5;21;01m.\u001b[39;00m\u001b[38;5;21;01mapply\u001b[39;00m \u001b[38;5;28;01mimport\u001b[39;00m frame_apply\n\u001b[1;32m  10362\u001b[0m op \u001b[38;5;241m=\u001b[39m frame_apply(\n\u001b[1;32m  10363\u001b[0m     \u001b[38;5;28mself\u001b[39m,\n\u001b[1;32m  10364\u001b[0m     func\u001b[38;5;241m=\u001b[39mfunc,\n\u001b[0;32m   (...)\u001b[0m\n\u001b[1;32m  10372\u001b[0m     kwargs\u001b[38;5;241m=\u001b[39mkwargs,\n\u001b[1;32m  10373\u001b[0m )\n\u001b[0;32m> 10374\u001b[0m \u001b[38;5;28;01mreturn\u001b[39;00m \u001b[43mop\u001b[49m\u001b[38;5;241;43m.\u001b[39;49m\u001b[43mapply\u001b[49m\u001b[43m(\u001b[49m\u001b[43m)\u001b[49m\u001b[38;5;241m.\u001b[39m__finalize__(\u001b[38;5;28mself\u001b[39m, method\u001b[38;5;241m=\u001b[39m\u001b[38;5;124m\"\u001b[39m\u001b[38;5;124mapply\u001b[39m\u001b[38;5;124m\"\u001b[39m)\n",
      "File \u001b[0;32m~/.local/share/virtualenvs/TFM-_kMYitn2/lib/python3.10/site-packages/pandas/core/apply.py:916\u001b[0m, in \u001b[0;36mFrameApply.apply\u001b[0;34m(self)\u001b[0m\n\u001b[1;32m    913\u001b[0m \u001b[38;5;28;01melif\u001b[39;00m \u001b[38;5;28mself\u001b[39m\u001b[38;5;241m.\u001b[39mraw:\n\u001b[1;32m    914\u001b[0m     \u001b[38;5;28;01mreturn\u001b[39;00m \u001b[38;5;28mself\u001b[39m\u001b[38;5;241m.\u001b[39mapply_raw(engine\u001b[38;5;241m=\u001b[39m\u001b[38;5;28mself\u001b[39m\u001b[38;5;241m.\u001b[39mengine, engine_kwargs\u001b[38;5;241m=\u001b[39m\u001b[38;5;28mself\u001b[39m\u001b[38;5;241m.\u001b[39mengine_kwargs)\n\u001b[0;32m--> 916\u001b[0m \u001b[38;5;28;01mreturn\u001b[39;00m \u001b[38;5;28;43mself\u001b[39;49m\u001b[38;5;241;43m.\u001b[39;49m\u001b[43mapply_standard\u001b[49m\u001b[43m(\u001b[49m\u001b[43m)\u001b[49m\n",
      "File \u001b[0;32m~/.local/share/virtualenvs/TFM-_kMYitn2/lib/python3.10/site-packages/pandas/core/apply.py:1063\u001b[0m, in \u001b[0;36mFrameApply.apply_standard\u001b[0;34m(self)\u001b[0m\n\u001b[1;32m   1061\u001b[0m \u001b[38;5;28;01mdef\u001b[39;00m \u001b[38;5;21mapply_standard\u001b[39m(\u001b[38;5;28mself\u001b[39m):\n\u001b[1;32m   1062\u001b[0m     \u001b[38;5;28;01mif\u001b[39;00m \u001b[38;5;28mself\u001b[39m\u001b[38;5;241m.\u001b[39mengine \u001b[38;5;241m==\u001b[39m \u001b[38;5;124m\"\u001b[39m\u001b[38;5;124mpython\u001b[39m\u001b[38;5;124m\"\u001b[39m:\n\u001b[0;32m-> 1063\u001b[0m         results, res_index \u001b[38;5;241m=\u001b[39m \u001b[38;5;28;43mself\u001b[39;49m\u001b[38;5;241;43m.\u001b[39;49m\u001b[43mapply_series_generator\u001b[49m\u001b[43m(\u001b[49m\u001b[43m)\u001b[49m\n\u001b[1;32m   1064\u001b[0m     \u001b[38;5;28;01melse\u001b[39;00m:\n\u001b[1;32m   1065\u001b[0m         results, res_index \u001b[38;5;241m=\u001b[39m \u001b[38;5;28mself\u001b[39m\u001b[38;5;241m.\u001b[39mapply_series_numba()\n",
      "File \u001b[0;32m~/.local/share/virtualenvs/TFM-_kMYitn2/lib/python3.10/site-packages/pandas/core/apply.py:1081\u001b[0m, in \u001b[0;36mFrameApply.apply_series_generator\u001b[0;34m(self)\u001b[0m\n\u001b[1;32m   1078\u001b[0m \u001b[38;5;28;01mwith\u001b[39;00m option_context(\u001b[38;5;124m\"\u001b[39m\u001b[38;5;124mmode.chained_assignment\u001b[39m\u001b[38;5;124m\"\u001b[39m, \u001b[38;5;28;01mNone\u001b[39;00m):\n\u001b[1;32m   1079\u001b[0m     \u001b[38;5;28;01mfor\u001b[39;00m i, v \u001b[38;5;129;01min\u001b[39;00m \u001b[38;5;28menumerate\u001b[39m(series_gen):\n\u001b[1;32m   1080\u001b[0m         \u001b[38;5;66;03m# ignore SettingWithCopy here in case the user mutates\u001b[39;00m\n\u001b[0;32m-> 1081\u001b[0m         results[i] \u001b[38;5;241m=\u001b[39m \u001b[38;5;28;43mself\u001b[39;49m\u001b[38;5;241;43m.\u001b[39;49m\u001b[43mfunc\u001b[49m\u001b[43m(\u001b[49m\u001b[43mv\u001b[49m\u001b[43m,\u001b[49m\u001b[43m \u001b[49m\u001b[38;5;241;43m*\u001b[39;49m\u001b[38;5;28;43mself\u001b[39;49m\u001b[38;5;241;43m.\u001b[39;49m\u001b[43margs\u001b[49m\u001b[43m,\u001b[49m\u001b[43m \u001b[49m\u001b[38;5;241;43m*\u001b[39;49m\u001b[38;5;241;43m*\u001b[39;49m\u001b[38;5;28;43mself\u001b[39;49m\u001b[38;5;241;43m.\u001b[39;49m\u001b[43mkwargs\u001b[49m\u001b[43m)\u001b[49m\n\u001b[1;32m   1082\u001b[0m         \u001b[38;5;28;01mif\u001b[39;00m \u001b[38;5;28misinstance\u001b[39m(results[i], ABCSeries):\n\u001b[1;32m   1083\u001b[0m             \u001b[38;5;66;03m# If we have a view on v, we need to make a copy because\u001b[39;00m\n\u001b[1;32m   1084\u001b[0m             \u001b[38;5;66;03m#  series_generator will swap out the underlying data\u001b[39;00m\n\u001b[1;32m   1085\u001b[0m             results[i] \u001b[38;5;241m=\u001b[39m results[i]\u001b[38;5;241m.\u001b[39mcopy(deep\u001b[38;5;241m=\u001b[39m\u001b[38;5;28;01mFalse\u001b[39;00m)\n",
      "Cell \u001b[0;32mIn[148], line 1\u001b[0m, in \u001b[0;36m<lambda>\u001b[0;34m(x)\u001b[0m\n\u001b[0;32m----> 1\u001b[0m df_explode\u001b[38;5;241m.\u001b[39mapply(\u001b[38;5;28;01mlambda\u001b[39;00m x: \u001b[43mget_address\u001b[49m\u001b[43m(\u001b[49m\u001b[43mx\u001b[49m\u001b[43m[\u001b[49m\u001b[38;5;124;43m\"\u001b[39;49m\u001b[38;5;124;43mpoints\u001b[39;49m\u001b[38;5;124;43m\"\u001b[39;49m\u001b[43m]\u001b[49m\u001b[43m)\u001b[49m, axis\u001b[38;5;241m=\u001b[39m\u001b[38;5;241m1\u001b[39m)\n",
      "Cell \u001b[0;32mIn[146], line 8\u001b[0m, in \u001b[0;36mget_address\u001b[0;34m(point)\u001b[0m\n\u001b[1;32m      5\u001b[0m \u001b[38;5;28;01mdef\u001b[39;00m \u001b[38;5;21mget_address\u001b[39m(point):\n\u001b[1;32m      6\u001b[0m     \u001b[38;5;66;03m#x,y = point\u001b[39;00m\n\u001b[1;32m      7\u001b[0m     \u001b[38;5;66;03m#print(point)\u001b[39;00m\n\u001b[0;32m----> 8\u001b[0m     address \u001b[38;5;241m=\u001b[39m \u001b[43mgeolocator\u001b[49m\u001b[38;5;241;43m.\u001b[39;49m\u001b[43mreverse\u001b[49m\u001b[43m(\u001b[49m\u001b[43mpoint\u001b[49m\u001b[43m,\u001b[49m\u001b[43m \u001b[49m\u001b[43mtimeout\u001b[49m\u001b[38;5;241;43m=\u001b[39;49m\u001b[38;5;241;43m10\u001b[39;49m\u001b[43m)\u001b[49m\u001b[38;5;241m.\u001b[39mraw[\u001b[38;5;124m\"\u001b[39m\u001b[38;5;124maddress\u001b[39m\u001b[38;5;124m\"\u001b[39m]  \u001b[38;5;66;03m# Reverse geocoding with latitude and longitude\u001b[39;00m\n\u001b[1;32m      9\u001b[0m     \u001b[38;5;28mprint\u001b[39m(address)\n\u001b[1;32m     10\u001b[0m     \u001b[38;5;28;01mreturn\u001b[39;00m (\n\u001b[1;32m     11\u001b[0m         address\u001b[38;5;241m.\u001b[39mget(\u001b[38;5;124m\"\u001b[39m\u001b[38;5;124mroad\u001b[39m\u001b[38;5;124m\"\u001b[39m, \u001b[38;5;124m\"\u001b[39m\u001b[38;5;124m\"\u001b[39m), address\u001b[38;5;241m.\u001b[39mget(\u001b[38;5;124m\"\u001b[39m\u001b[38;5;124mhouse_number\u001b[39m\u001b[38;5;124m\"\u001b[39m, \u001b[38;5;124m\"\u001b[39m\u001b[38;5;124m\"\u001b[39m), address\u001b[38;5;241m.\u001b[39mget(\u001b[38;5;124m\"\u001b[39m\u001b[38;5;124msuburb\u001b[39m\u001b[38;5;124m\"\u001b[39m, \u001b[38;5;124m\"\u001b[39m\u001b[38;5;124m\"\u001b[39m), address\u001b[38;5;241m.\u001b[39mget(\u001b[38;5;124m\"\u001b[39m\u001b[38;5;124mstate\u001b[39m\u001b[38;5;124m\"\u001b[39m, \u001b[38;5;124m\"\u001b[39m\u001b[38;5;124m\"\u001b[39m), address\u001b[38;5;241m.\u001b[39mget(\u001b[38;5;124m\"\u001b[39m\u001b[38;5;124mpostcode\u001b[39m\u001b[38;5;124m\"\u001b[39m, \u001b[38;5;124m\"\u001b[39m\u001b[38;5;124m\"\u001b[39m), address\u001b[38;5;241m.\u001b[39mget(\u001b[38;5;124m\"\u001b[39m\u001b[38;5;124mcountry\u001b[39m\u001b[38;5;124m\"\u001b[39m, \u001b[38;5;124m\"\u001b[39m\u001b[38;5;124m\"\u001b[39m)\n\u001b[1;32m     12\u001b[0m     )\n",
      "File \u001b[0;32m~/.local/share/virtualenvs/TFM-_kMYitn2/lib/python3.10/site-packages/geopy/geocoders/nominatim.py:372\u001b[0m, in \u001b[0;36mNominatim.reverse\u001b[0;34m(self, query, exactly_one, timeout, language, addressdetails, zoom, namedetails)\u001b[0m\n\u001b[1;32m    370\u001b[0m logger\u001b[38;5;241m.\u001b[39mdebug(\u001b[38;5;124m\"\u001b[39m\u001b[38;5;132;01m%s\u001b[39;00m\u001b[38;5;124m.reverse: \u001b[39m\u001b[38;5;132;01m%s\u001b[39;00m\u001b[38;5;124m\"\u001b[39m, \u001b[38;5;28mself\u001b[39m\u001b[38;5;241m.\u001b[39m\u001b[38;5;18m__class__\u001b[39m\u001b[38;5;241m.\u001b[39m\u001b[38;5;18m__name__\u001b[39m, url)\n\u001b[1;32m    371\u001b[0m callback \u001b[38;5;241m=\u001b[39m partial(\u001b[38;5;28mself\u001b[39m\u001b[38;5;241m.\u001b[39m_parse_json, exactly_one\u001b[38;5;241m=\u001b[39mexactly_one)\n\u001b[0;32m--> 372\u001b[0m \u001b[38;5;28;01mreturn\u001b[39;00m \u001b[38;5;28;43mself\u001b[39;49m\u001b[38;5;241;43m.\u001b[39;49m\u001b[43m_call_geocoder\u001b[49m\u001b[43m(\u001b[49m\u001b[43murl\u001b[49m\u001b[43m,\u001b[49m\u001b[43m \u001b[49m\u001b[43mcallback\u001b[49m\u001b[43m,\u001b[49m\u001b[43m \u001b[49m\u001b[43mtimeout\u001b[49m\u001b[38;5;241;43m=\u001b[39;49m\u001b[43mtimeout\u001b[49m\u001b[43m)\u001b[49m\n",
      "File \u001b[0;32m~/.local/share/virtualenvs/TFM-_kMYitn2/lib/python3.10/site-packages/geopy/geocoders/base.py:368\u001b[0m, in \u001b[0;36mGeocoder._call_geocoder\u001b[0;34m(self, url, callback, timeout, is_json, headers)\u001b[0m\n\u001b[1;32m    366\u001b[0m \u001b[38;5;28;01mtry\u001b[39;00m:\n\u001b[1;32m    367\u001b[0m     \u001b[38;5;28;01mif\u001b[39;00m is_json:\n\u001b[0;32m--> 368\u001b[0m         result \u001b[38;5;241m=\u001b[39m \u001b[38;5;28;43mself\u001b[39;49m\u001b[38;5;241;43m.\u001b[39;49m\u001b[43madapter\u001b[49m\u001b[38;5;241;43m.\u001b[39;49m\u001b[43mget_json\u001b[49m\u001b[43m(\u001b[49m\u001b[43murl\u001b[49m\u001b[43m,\u001b[49m\u001b[43m \u001b[49m\u001b[43mtimeout\u001b[49m\u001b[38;5;241;43m=\u001b[39;49m\u001b[43mtimeout\u001b[49m\u001b[43m,\u001b[49m\u001b[43m \u001b[49m\u001b[43mheaders\u001b[49m\u001b[38;5;241;43m=\u001b[39;49m\u001b[43mreq_headers\u001b[49m\u001b[43m)\u001b[49m\n\u001b[1;32m    369\u001b[0m     \u001b[38;5;28;01melse\u001b[39;00m:\n\u001b[1;32m    370\u001b[0m         result \u001b[38;5;241m=\u001b[39m \u001b[38;5;28mself\u001b[39m\u001b[38;5;241m.\u001b[39madapter\u001b[38;5;241m.\u001b[39mget_text(url, timeout\u001b[38;5;241m=\u001b[39mtimeout, headers\u001b[38;5;241m=\u001b[39mreq_headers)\n",
      "File \u001b[0;32m~/.local/share/virtualenvs/TFM-_kMYitn2/lib/python3.10/site-packages/geopy/adapters.py:472\u001b[0m, in \u001b[0;36mRequestsAdapter.get_json\u001b[0;34m(self, url, timeout, headers)\u001b[0m\n\u001b[1;32m    471\u001b[0m \u001b[38;5;28;01mdef\u001b[39;00m \u001b[38;5;21mget_json\u001b[39m(\u001b[38;5;28mself\u001b[39m, url, \u001b[38;5;241m*\u001b[39m, timeout, headers):\n\u001b[0;32m--> 472\u001b[0m     resp \u001b[38;5;241m=\u001b[39m \u001b[38;5;28;43mself\u001b[39;49m\u001b[38;5;241;43m.\u001b[39;49m\u001b[43m_request\u001b[49m\u001b[43m(\u001b[49m\u001b[43murl\u001b[49m\u001b[43m,\u001b[49m\u001b[43m \u001b[49m\u001b[43mtimeout\u001b[49m\u001b[38;5;241;43m=\u001b[39;49m\u001b[43mtimeout\u001b[49m\u001b[43m,\u001b[49m\u001b[43m \u001b[49m\u001b[43mheaders\u001b[49m\u001b[38;5;241;43m=\u001b[39;49m\u001b[43mheaders\u001b[49m\u001b[43m)\u001b[49m\n\u001b[1;32m    473\u001b[0m     \u001b[38;5;28;01mtry\u001b[39;00m:\n\u001b[1;32m    474\u001b[0m         \u001b[38;5;28;01mreturn\u001b[39;00m resp\u001b[38;5;241m.\u001b[39mjson()\n",
      "File \u001b[0;32m~/.local/share/virtualenvs/TFM-_kMYitn2/lib/python3.10/site-packages/geopy/adapters.py:482\u001b[0m, in \u001b[0;36mRequestsAdapter._request\u001b[0;34m(self, url, timeout, headers)\u001b[0m\n\u001b[1;32m    480\u001b[0m \u001b[38;5;28;01mdef\u001b[39;00m \u001b[38;5;21m_request\u001b[39m(\u001b[38;5;28mself\u001b[39m, url, \u001b[38;5;241m*\u001b[39m, timeout, headers):\n\u001b[1;32m    481\u001b[0m     \u001b[38;5;28;01mtry\u001b[39;00m:\n\u001b[0;32m--> 482\u001b[0m         resp \u001b[38;5;241m=\u001b[39m \u001b[38;5;28;43mself\u001b[39;49m\u001b[38;5;241;43m.\u001b[39;49m\u001b[43msession\u001b[49m\u001b[38;5;241;43m.\u001b[39;49m\u001b[43mget\u001b[49m\u001b[43m(\u001b[49m\u001b[43murl\u001b[49m\u001b[43m,\u001b[49m\u001b[43m \u001b[49m\u001b[43mtimeout\u001b[49m\u001b[38;5;241;43m=\u001b[39;49m\u001b[43mtimeout\u001b[49m\u001b[43m,\u001b[49m\u001b[43m \u001b[49m\u001b[43mheaders\u001b[49m\u001b[38;5;241;43m=\u001b[39;49m\u001b[43mheaders\u001b[49m\u001b[43m)\u001b[49m\n\u001b[1;32m    483\u001b[0m     \u001b[38;5;28;01mexcept\u001b[39;00m \u001b[38;5;167;01mException\u001b[39;00m \u001b[38;5;28;01mas\u001b[39;00m error:\n\u001b[1;32m    484\u001b[0m         message \u001b[38;5;241m=\u001b[39m \u001b[38;5;28mstr\u001b[39m(error)\n",
      "File \u001b[0;32m~/.local/share/virtualenvs/TFM-_kMYitn2/lib/python3.10/site-packages/requests/sessions.py:602\u001b[0m, in \u001b[0;36mSession.get\u001b[0;34m(self, url, **kwargs)\u001b[0m\n\u001b[1;32m    594\u001b[0m \u001b[38;5;250m\u001b[39m\u001b[38;5;124mr\u001b[39m\u001b[38;5;124;03m\"\"\"Sends a GET request. Returns :class:`Response` object.\u001b[39;00m\n\u001b[1;32m    595\u001b[0m \n\u001b[1;32m    596\u001b[0m \u001b[38;5;124;03m:param url: URL for the new :class:`Request` object.\u001b[39;00m\n\u001b[1;32m    597\u001b[0m \u001b[38;5;124;03m:param \\*\\*kwargs: Optional arguments that ``request`` takes.\u001b[39;00m\n\u001b[1;32m    598\u001b[0m \u001b[38;5;124;03m:rtype: requests.Response\u001b[39;00m\n\u001b[1;32m    599\u001b[0m \u001b[38;5;124;03m\"\"\"\u001b[39;00m\n\u001b[1;32m    601\u001b[0m kwargs\u001b[38;5;241m.\u001b[39msetdefault(\u001b[38;5;124m\"\u001b[39m\u001b[38;5;124mallow_redirects\u001b[39m\u001b[38;5;124m\"\u001b[39m, \u001b[38;5;28;01mTrue\u001b[39;00m)\n\u001b[0;32m--> 602\u001b[0m \u001b[38;5;28;01mreturn\u001b[39;00m \u001b[38;5;28;43mself\u001b[39;49m\u001b[38;5;241;43m.\u001b[39;49m\u001b[43mrequest\u001b[49m\u001b[43m(\u001b[49m\u001b[38;5;124;43m\"\u001b[39;49m\u001b[38;5;124;43mGET\u001b[39;49m\u001b[38;5;124;43m\"\u001b[39;49m\u001b[43m,\u001b[49m\u001b[43m \u001b[49m\u001b[43murl\u001b[49m\u001b[43m,\u001b[49m\u001b[43m \u001b[49m\u001b[38;5;241;43m*\u001b[39;49m\u001b[38;5;241;43m*\u001b[39;49m\u001b[43mkwargs\u001b[49m\u001b[43m)\u001b[49m\n",
      "File \u001b[0;32m~/.local/share/virtualenvs/TFM-_kMYitn2/lib/python3.10/site-packages/requests/sessions.py:589\u001b[0m, in \u001b[0;36mSession.request\u001b[0;34m(self, method, url, params, data, headers, cookies, files, auth, timeout, allow_redirects, proxies, hooks, stream, verify, cert, json)\u001b[0m\n\u001b[1;32m    584\u001b[0m send_kwargs \u001b[38;5;241m=\u001b[39m {\n\u001b[1;32m    585\u001b[0m     \u001b[38;5;124m\"\u001b[39m\u001b[38;5;124mtimeout\u001b[39m\u001b[38;5;124m\"\u001b[39m: timeout,\n\u001b[1;32m    586\u001b[0m     \u001b[38;5;124m\"\u001b[39m\u001b[38;5;124mallow_redirects\u001b[39m\u001b[38;5;124m\"\u001b[39m: allow_redirects,\n\u001b[1;32m    587\u001b[0m }\n\u001b[1;32m    588\u001b[0m send_kwargs\u001b[38;5;241m.\u001b[39mupdate(settings)\n\u001b[0;32m--> 589\u001b[0m resp \u001b[38;5;241m=\u001b[39m \u001b[38;5;28;43mself\u001b[39;49m\u001b[38;5;241;43m.\u001b[39;49m\u001b[43msend\u001b[49m\u001b[43m(\u001b[49m\u001b[43mprep\u001b[49m\u001b[43m,\u001b[49m\u001b[43m \u001b[49m\u001b[38;5;241;43m*\u001b[39;49m\u001b[38;5;241;43m*\u001b[39;49m\u001b[43msend_kwargs\u001b[49m\u001b[43m)\u001b[49m\n\u001b[1;32m    591\u001b[0m \u001b[38;5;28;01mreturn\u001b[39;00m resp\n",
      "File \u001b[0;32m~/.local/share/virtualenvs/TFM-_kMYitn2/lib/python3.10/site-packages/requests/sessions.py:703\u001b[0m, in \u001b[0;36mSession.send\u001b[0;34m(self, request, **kwargs)\u001b[0m\n\u001b[1;32m    700\u001b[0m start \u001b[38;5;241m=\u001b[39m preferred_clock()\n\u001b[1;32m    702\u001b[0m \u001b[38;5;66;03m# Send the request\u001b[39;00m\n\u001b[0;32m--> 703\u001b[0m r \u001b[38;5;241m=\u001b[39m \u001b[43madapter\u001b[49m\u001b[38;5;241;43m.\u001b[39;49m\u001b[43msend\u001b[49m\u001b[43m(\u001b[49m\u001b[43mrequest\u001b[49m\u001b[43m,\u001b[49m\u001b[43m \u001b[49m\u001b[38;5;241;43m*\u001b[39;49m\u001b[38;5;241;43m*\u001b[39;49m\u001b[43mkwargs\u001b[49m\u001b[43m)\u001b[49m\n\u001b[1;32m    705\u001b[0m \u001b[38;5;66;03m# Total elapsed time of the request (approximately)\u001b[39;00m\n\u001b[1;32m    706\u001b[0m elapsed \u001b[38;5;241m=\u001b[39m preferred_clock() \u001b[38;5;241m-\u001b[39m start\n",
      "File \u001b[0;32m~/.local/share/virtualenvs/TFM-_kMYitn2/lib/python3.10/site-packages/requests/adapters.py:486\u001b[0m, in \u001b[0;36mHTTPAdapter.send\u001b[0;34m(self, request, stream, timeout, verify, cert, proxies)\u001b[0m\n\u001b[1;32m    483\u001b[0m     timeout \u001b[38;5;241m=\u001b[39m TimeoutSauce(connect\u001b[38;5;241m=\u001b[39mtimeout, read\u001b[38;5;241m=\u001b[39mtimeout)\n\u001b[1;32m    485\u001b[0m \u001b[38;5;28;01mtry\u001b[39;00m:\n\u001b[0;32m--> 486\u001b[0m     resp \u001b[38;5;241m=\u001b[39m \u001b[43mconn\u001b[49m\u001b[38;5;241;43m.\u001b[39;49m\u001b[43murlopen\u001b[49m\u001b[43m(\u001b[49m\n\u001b[1;32m    487\u001b[0m \u001b[43m        \u001b[49m\u001b[43mmethod\u001b[49m\u001b[38;5;241;43m=\u001b[39;49m\u001b[43mrequest\u001b[49m\u001b[38;5;241;43m.\u001b[39;49m\u001b[43mmethod\u001b[49m\u001b[43m,\u001b[49m\n\u001b[1;32m    488\u001b[0m \u001b[43m        \u001b[49m\u001b[43murl\u001b[49m\u001b[38;5;241;43m=\u001b[39;49m\u001b[43murl\u001b[49m\u001b[43m,\u001b[49m\n\u001b[1;32m    489\u001b[0m \u001b[43m        \u001b[49m\u001b[43mbody\u001b[49m\u001b[38;5;241;43m=\u001b[39;49m\u001b[43mrequest\u001b[49m\u001b[38;5;241;43m.\u001b[39;49m\u001b[43mbody\u001b[49m\u001b[43m,\u001b[49m\n\u001b[1;32m    490\u001b[0m \u001b[43m        \u001b[49m\u001b[43mheaders\u001b[49m\u001b[38;5;241;43m=\u001b[39;49m\u001b[43mrequest\u001b[49m\u001b[38;5;241;43m.\u001b[39;49m\u001b[43mheaders\u001b[49m\u001b[43m,\u001b[49m\n\u001b[1;32m    491\u001b[0m \u001b[43m        \u001b[49m\u001b[43mredirect\u001b[49m\u001b[38;5;241;43m=\u001b[39;49m\u001b[38;5;28;43;01mFalse\u001b[39;49;00m\u001b[43m,\u001b[49m\n\u001b[1;32m    492\u001b[0m \u001b[43m        \u001b[49m\u001b[43massert_same_host\u001b[49m\u001b[38;5;241;43m=\u001b[39;49m\u001b[38;5;28;43;01mFalse\u001b[39;49;00m\u001b[43m,\u001b[49m\n\u001b[1;32m    493\u001b[0m \u001b[43m        \u001b[49m\u001b[43mpreload_content\u001b[49m\u001b[38;5;241;43m=\u001b[39;49m\u001b[38;5;28;43;01mFalse\u001b[39;49;00m\u001b[43m,\u001b[49m\n\u001b[1;32m    494\u001b[0m \u001b[43m        \u001b[49m\u001b[43mdecode_content\u001b[49m\u001b[38;5;241;43m=\u001b[39;49m\u001b[38;5;28;43;01mFalse\u001b[39;49;00m\u001b[43m,\u001b[49m\n\u001b[1;32m    495\u001b[0m \u001b[43m        \u001b[49m\u001b[43mretries\u001b[49m\u001b[38;5;241;43m=\u001b[39;49m\u001b[38;5;28;43mself\u001b[39;49m\u001b[38;5;241;43m.\u001b[39;49m\u001b[43mmax_retries\u001b[49m\u001b[43m,\u001b[49m\n\u001b[1;32m    496\u001b[0m \u001b[43m        \u001b[49m\u001b[43mtimeout\u001b[49m\u001b[38;5;241;43m=\u001b[39;49m\u001b[43mtimeout\u001b[49m\u001b[43m,\u001b[49m\n\u001b[1;32m    497\u001b[0m \u001b[43m        \u001b[49m\u001b[43mchunked\u001b[49m\u001b[38;5;241;43m=\u001b[39;49m\u001b[43mchunked\u001b[49m\u001b[43m,\u001b[49m\n\u001b[1;32m    498\u001b[0m \u001b[43m    \u001b[49m\u001b[43m)\u001b[49m\n\u001b[1;32m    500\u001b[0m \u001b[38;5;28;01mexcept\u001b[39;00m (ProtocolError, \u001b[38;5;167;01mOSError\u001b[39;00m) \u001b[38;5;28;01mas\u001b[39;00m err:\n\u001b[1;32m    501\u001b[0m     \u001b[38;5;28;01mraise\u001b[39;00m \u001b[38;5;167;01mConnectionError\u001b[39;00m(err, request\u001b[38;5;241m=\u001b[39mrequest)\n",
      "File \u001b[0;32m~/.local/share/virtualenvs/TFM-_kMYitn2/lib/python3.10/site-packages/urllib3/connectionpool.py:793\u001b[0m, in \u001b[0;36mHTTPConnectionPool.urlopen\u001b[0;34m(self, method, url, body, headers, retries, redirect, assert_same_host, timeout, pool_timeout, release_conn, chunked, body_pos, preload_content, decode_content, **response_kw)\u001b[0m\n\u001b[1;32m    790\u001b[0m response_conn \u001b[38;5;241m=\u001b[39m conn \u001b[38;5;28;01mif\u001b[39;00m \u001b[38;5;129;01mnot\u001b[39;00m release_conn \u001b[38;5;28;01melse\u001b[39;00m \u001b[38;5;28;01mNone\u001b[39;00m\n\u001b[1;32m    792\u001b[0m \u001b[38;5;66;03m# Make the request on the HTTPConnection object\u001b[39;00m\n\u001b[0;32m--> 793\u001b[0m response \u001b[38;5;241m=\u001b[39m \u001b[38;5;28;43mself\u001b[39;49m\u001b[38;5;241;43m.\u001b[39;49m\u001b[43m_make_request\u001b[49m\u001b[43m(\u001b[49m\n\u001b[1;32m    794\u001b[0m \u001b[43m    \u001b[49m\u001b[43mconn\u001b[49m\u001b[43m,\u001b[49m\n\u001b[1;32m    795\u001b[0m \u001b[43m    \u001b[49m\u001b[43mmethod\u001b[49m\u001b[43m,\u001b[49m\n\u001b[1;32m    796\u001b[0m \u001b[43m    \u001b[49m\u001b[43murl\u001b[49m\u001b[43m,\u001b[49m\n\u001b[1;32m    797\u001b[0m \u001b[43m    \u001b[49m\u001b[43mtimeout\u001b[49m\u001b[38;5;241;43m=\u001b[39;49m\u001b[43mtimeout_obj\u001b[49m\u001b[43m,\u001b[49m\n\u001b[1;32m    798\u001b[0m \u001b[43m    \u001b[49m\u001b[43mbody\u001b[49m\u001b[38;5;241;43m=\u001b[39;49m\u001b[43mbody\u001b[49m\u001b[43m,\u001b[49m\n\u001b[1;32m    799\u001b[0m \u001b[43m    \u001b[49m\u001b[43mheaders\u001b[49m\u001b[38;5;241;43m=\u001b[39;49m\u001b[43mheaders\u001b[49m\u001b[43m,\u001b[49m\n\u001b[1;32m    800\u001b[0m \u001b[43m    \u001b[49m\u001b[43mchunked\u001b[49m\u001b[38;5;241;43m=\u001b[39;49m\u001b[43mchunked\u001b[49m\u001b[43m,\u001b[49m\n\u001b[1;32m    801\u001b[0m \u001b[43m    \u001b[49m\u001b[43mretries\u001b[49m\u001b[38;5;241;43m=\u001b[39;49m\u001b[43mretries\u001b[49m\u001b[43m,\u001b[49m\n\u001b[1;32m    802\u001b[0m \u001b[43m    \u001b[49m\u001b[43mresponse_conn\u001b[49m\u001b[38;5;241;43m=\u001b[39;49m\u001b[43mresponse_conn\u001b[49m\u001b[43m,\u001b[49m\n\u001b[1;32m    803\u001b[0m \u001b[43m    \u001b[49m\u001b[43mpreload_content\u001b[49m\u001b[38;5;241;43m=\u001b[39;49m\u001b[43mpreload_content\u001b[49m\u001b[43m,\u001b[49m\n\u001b[1;32m    804\u001b[0m \u001b[43m    \u001b[49m\u001b[43mdecode_content\u001b[49m\u001b[38;5;241;43m=\u001b[39;49m\u001b[43mdecode_content\u001b[49m\u001b[43m,\u001b[49m\n\u001b[1;32m    805\u001b[0m \u001b[43m    \u001b[49m\u001b[38;5;241;43m*\u001b[39;49m\u001b[38;5;241;43m*\u001b[39;49m\u001b[43mresponse_kw\u001b[49m\u001b[43m,\u001b[49m\n\u001b[1;32m    806\u001b[0m \u001b[43m\u001b[49m\u001b[43m)\u001b[49m\n\u001b[1;32m    808\u001b[0m \u001b[38;5;66;03m# Everything went great!\u001b[39;00m\n\u001b[1;32m    809\u001b[0m clean_exit \u001b[38;5;241m=\u001b[39m \u001b[38;5;28;01mTrue\u001b[39;00m\n",
      "File \u001b[0;32m~/.local/share/virtualenvs/TFM-_kMYitn2/lib/python3.10/site-packages/urllib3/connectionpool.py:537\u001b[0m, in \u001b[0;36mHTTPConnectionPool._make_request\u001b[0;34m(self, conn, method, url, body, headers, retries, timeout, chunked, response_conn, preload_content, decode_content, enforce_content_length)\u001b[0m\n\u001b[1;32m    535\u001b[0m \u001b[38;5;66;03m# Receive the response from the server\u001b[39;00m\n\u001b[1;32m    536\u001b[0m \u001b[38;5;28;01mtry\u001b[39;00m:\n\u001b[0;32m--> 537\u001b[0m     response \u001b[38;5;241m=\u001b[39m \u001b[43mconn\u001b[49m\u001b[38;5;241;43m.\u001b[39;49m\u001b[43mgetresponse\u001b[49m\u001b[43m(\u001b[49m\u001b[43m)\u001b[49m\n\u001b[1;32m    538\u001b[0m \u001b[38;5;28;01mexcept\u001b[39;00m (BaseSSLError, \u001b[38;5;167;01mOSError\u001b[39;00m) \u001b[38;5;28;01mas\u001b[39;00m e:\n\u001b[1;32m    539\u001b[0m     \u001b[38;5;28mself\u001b[39m\u001b[38;5;241m.\u001b[39m_raise_timeout(err\u001b[38;5;241m=\u001b[39me, url\u001b[38;5;241m=\u001b[39murl, timeout_value\u001b[38;5;241m=\u001b[39mread_timeout)\n",
      "File \u001b[0;32m~/.local/share/virtualenvs/TFM-_kMYitn2/lib/python3.10/site-packages/urllib3/connection.py:466\u001b[0m, in \u001b[0;36mHTTPConnection.getresponse\u001b[0;34m(self)\u001b[0m\n\u001b[1;32m    463\u001b[0m \u001b[38;5;28;01mfrom\u001b[39;00m \u001b[38;5;21;01m.\u001b[39;00m\u001b[38;5;21;01mresponse\u001b[39;00m \u001b[38;5;28;01mimport\u001b[39;00m HTTPResponse\n\u001b[1;32m    465\u001b[0m \u001b[38;5;66;03m# Get the response from http.client.HTTPConnection\u001b[39;00m\n\u001b[0;32m--> 466\u001b[0m httplib_response \u001b[38;5;241m=\u001b[39m \u001b[38;5;28;43msuper\u001b[39;49m\u001b[43m(\u001b[49m\u001b[43m)\u001b[49m\u001b[38;5;241;43m.\u001b[39;49m\u001b[43mgetresponse\u001b[49m\u001b[43m(\u001b[49m\u001b[43m)\u001b[49m\n\u001b[1;32m    468\u001b[0m \u001b[38;5;28;01mtry\u001b[39;00m:\n\u001b[1;32m    469\u001b[0m     assert_header_parsing(httplib_response\u001b[38;5;241m.\u001b[39mmsg)\n",
      "File \u001b[0;32m/Library/Frameworks/Python.framework/Versions/3.10/lib/python3.10/http/client.py:1375\u001b[0m, in \u001b[0;36mHTTPConnection.getresponse\u001b[0;34m(self)\u001b[0m\n\u001b[1;32m   1373\u001b[0m \u001b[38;5;28;01mtry\u001b[39;00m:\n\u001b[1;32m   1374\u001b[0m     \u001b[38;5;28;01mtry\u001b[39;00m:\n\u001b[0;32m-> 1375\u001b[0m         \u001b[43mresponse\u001b[49m\u001b[38;5;241;43m.\u001b[39;49m\u001b[43mbegin\u001b[49m\u001b[43m(\u001b[49m\u001b[43m)\u001b[49m\n\u001b[1;32m   1376\u001b[0m     \u001b[38;5;28;01mexcept\u001b[39;00m \u001b[38;5;167;01mConnectionError\u001b[39;00m:\n\u001b[1;32m   1377\u001b[0m         \u001b[38;5;28mself\u001b[39m\u001b[38;5;241m.\u001b[39mclose()\n",
      "File \u001b[0;32m/Library/Frameworks/Python.framework/Versions/3.10/lib/python3.10/http/client.py:318\u001b[0m, in \u001b[0;36mHTTPResponse.begin\u001b[0;34m(self)\u001b[0m\n\u001b[1;32m    316\u001b[0m \u001b[38;5;66;03m# read until we get a non-100 response\u001b[39;00m\n\u001b[1;32m    317\u001b[0m \u001b[38;5;28;01mwhile\u001b[39;00m \u001b[38;5;28;01mTrue\u001b[39;00m:\n\u001b[0;32m--> 318\u001b[0m     version, status, reason \u001b[38;5;241m=\u001b[39m \u001b[38;5;28;43mself\u001b[39;49m\u001b[38;5;241;43m.\u001b[39;49m\u001b[43m_read_status\u001b[49m\u001b[43m(\u001b[49m\u001b[43m)\u001b[49m\n\u001b[1;32m    319\u001b[0m     \u001b[38;5;28;01mif\u001b[39;00m status \u001b[38;5;241m!=\u001b[39m CONTINUE:\n\u001b[1;32m    320\u001b[0m         \u001b[38;5;28;01mbreak\u001b[39;00m\n",
      "File \u001b[0;32m/Library/Frameworks/Python.framework/Versions/3.10/lib/python3.10/http/client.py:279\u001b[0m, in \u001b[0;36mHTTPResponse._read_status\u001b[0;34m(self)\u001b[0m\n\u001b[1;32m    278\u001b[0m \u001b[38;5;28;01mdef\u001b[39;00m \u001b[38;5;21m_read_status\u001b[39m(\u001b[38;5;28mself\u001b[39m):\n\u001b[0;32m--> 279\u001b[0m     line \u001b[38;5;241m=\u001b[39m \u001b[38;5;28mstr\u001b[39m(\u001b[38;5;28;43mself\u001b[39;49m\u001b[38;5;241;43m.\u001b[39;49m\u001b[43mfp\u001b[49m\u001b[38;5;241;43m.\u001b[39;49m\u001b[43mreadline\u001b[49m\u001b[43m(\u001b[49m\u001b[43m_MAXLINE\u001b[49m\u001b[43m \u001b[49m\u001b[38;5;241;43m+\u001b[39;49m\u001b[43m \u001b[49m\u001b[38;5;241;43m1\u001b[39;49m\u001b[43m)\u001b[49m, \u001b[38;5;124m\"\u001b[39m\u001b[38;5;124miso-8859-1\u001b[39m\u001b[38;5;124m\"\u001b[39m)\n\u001b[1;32m    280\u001b[0m     \u001b[38;5;28;01mif\u001b[39;00m \u001b[38;5;28mlen\u001b[39m(line) \u001b[38;5;241m>\u001b[39m _MAXLINE:\n\u001b[1;32m    281\u001b[0m         \u001b[38;5;28;01mraise\u001b[39;00m LineTooLong(\u001b[38;5;124m\"\u001b[39m\u001b[38;5;124mstatus line\u001b[39m\u001b[38;5;124m\"\u001b[39m)\n",
      "File \u001b[0;32m/Library/Frameworks/Python.framework/Versions/3.10/lib/python3.10/socket.py:705\u001b[0m, in \u001b[0;36mSocketIO.readinto\u001b[0;34m(self, b)\u001b[0m\n\u001b[1;32m    703\u001b[0m \u001b[38;5;28;01mwhile\u001b[39;00m \u001b[38;5;28;01mTrue\u001b[39;00m:\n\u001b[1;32m    704\u001b[0m     \u001b[38;5;28;01mtry\u001b[39;00m:\n\u001b[0;32m--> 705\u001b[0m         \u001b[38;5;28;01mreturn\u001b[39;00m \u001b[38;5;28;43mself\u001b[39;49m\u001b[38;5;241;43m.\u001b[39;49m\u001b[43m_sock\u001b[49m\u001b[38;5;241;43m.\u001b[39;49m\u001b[43mrecv_into\u001b[49m\u001b[43m(\u001b[49m\u001b[43mb\u001b[49m\u001b[43m)\u001b[49m\n\u001b[1;32m    706\u001b[0m     \u001b[38;5;28;01mexcept\u001b[39;00m timeout:\n\u001b[1;32m    707\u001b[0m         \u001b[38;5;28mself\u001b[39m\u001b[38;5;241m.\u001b[39m_timeout_occurred \u001b[38;5;241m=\u001b[39m \u001b[38;5;28;01mTrue\u001b[39;00m\n",
      "File \u001b[0;32m/Library/Frameworks/Python.framework/Versions/3.10/lib/python3.10/ssl.py:1274\u001b[0m, in \u001b[0;36mSSLSocket.recv_into\u001b[0;34m(self, buffer, nbytes, flags)\u001b[0m\n\u001b[1;32m   1270\u001b[0m     \u001b[38;5;28;01mif\u001b[39;00m flags \u001b[38;5;241m!=\u001b[39m \u001b[38;5;241m0\u001b[39m:\n\u001b[1;32m   1271\u001b[0m         \u001b[38;5;28;01mraise\u001b[39;00m \u001b[38;5;167;01mValueError\u001b[39;00m(\n\u001b[1;32m   1272\u001b[0m           \u001b[38;5;124m\"\u001b[39m\u001b[38;5;124mnon-zero flags not allowed in calls to recv_into() on \u001b[39m\u001b[38;5;132;01m%s\u001b[39;00m\u001b[38;5;124m\"\u001b[39m \u001b[38;5;241m%\u001b[39m\n\u001b[1;32m   1273\u001b[0m           \u001b[38;5;28mself\u001b[39m\u001b[38;5;241m.\u001b[39m\u001b[38;5;18m__class__\u001b[39m)\n\u001b[0;32m-> 1274\u001b[0m     \u001b[38;5;28;01mreturn\u001b[39;00m \u001b[38;5;28;43mself\u001b[39;49m\u001b[38;5;241;43m.\u001b[39;49m\u001b[43mread\u001b[49m\u001b[43m(\u001b[49m\u001b[43mnbytes\u001b[49m\u001b[43m,\u001b[49m\u001b[43m \u001b[49m\u001b[43mbuffer\u001b[49m\u001b[43m)\u001b[49m\n\u001b[1;32m   1275\u001b[0m \u001b[38;5;28;01melse\u001b[39;00m:\n\u001b[1;32m   1276\u001b[0m     \u001b[38;5;28;01mreturn\u001b[39;00m \u001b[38;5;28msuper\u001b[39m()\u001b[38;5;241m.\u001b[39mrecv_into(buffer, nbytes, flags)\n",
      "File \u001b[0;32m/Library/Frameworks/Python.framework/Versions/3.10/lib/python3.10/ssl.py:1130\u001b[0m, in \u001b[0;36mSSLSocket.read\u001b[0;34m(self, len, buffer)\u001b[0m\n\u001b[1;32m   1128\u001b[0m \u001b[38;5;28;01mtry\u001b[39;00m:\n\u001b[1;32m   1129\u001b[0m     \u001b[38;5;28;01mif\u001b[39;00m buffer \u001b[38;5;129;01mis\u001b[39;00m \u001b[38;5;129;01mnot\u001b[39;00m \u001b[38;5;28;01mNone\u001b[39;00m:\n\u001b[0;32m-> 1130\u001b[0m         \u001b[38;5;28;01mreturn\u001b[39;00m \u001b[38;5;28;43mself\u001b[39;49m\u001b[38;5;241;43m.\u001b[39;49m\u001b[43m_sslobj\u001b[49m\u001b[38;5;241;43m.\u001b[39;49m\u001b[43mread\u001b[49m\u001b[43m(\u001b[49m\u001b[38;5;28;43mlen\u001b[39;49m\u001b[43m,\u001b[49m\u001b[43m \u001b[49m\u001b[43mbuffer\u001b[49m\u001b[43m)\u001b[49m\n\u001b[1;32m   1131\u001b[0m     \u001b[38;5;28;01melse\u001b[39;00m:\n\u001b[1;32m   1132\u001b[0m         \u001b[38;5;28;01mreturn\u001b[39;00m \u001b[38;5;28mself\u001b[39m\u001b[38;5;241m.\u001b[39m_sslobj\u001b[38;5;241m.\u001b[39mread(\u001b[38;5;28mlen\u001b[39m)\n",
      "\u001b[0;31mKeyboardInterrupt\u001b[0m: "
     ]
    }
   ],
   "source": [
    "df_explode.apply(lambda x: get_address(x[\"points\"]), axis=1)"
   ]
  },
  {
   "cell_type": "code",
   "execution_count": null,
   "id": "52922075",
   "metadata": {},
   "outputs": [],
   "source": []
  }
 ],
 "metadata": {
  "kernelspec": {
   "display_name": "Python 3 (ipykernel)",
   "language": "python",
   "name": "python3"
  },
  "language_info": {
   "codemirror_mode": {
    "name": "ipython",
    "version": 3
   },
   "file_extension": ".py",
   "mimetype": "text/x-python",
   "name": "python",
   "nbconvert_exporter": "python",
   "pygments_lexer": "ipython3",
   "version": "3.10.11"
  }
 },
 "nbformat": 4,
 "nbformat_minor": 5
}
