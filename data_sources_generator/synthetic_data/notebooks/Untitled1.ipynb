{
 "cells": [
  {
   "cell_type": "code",
   "execution_count": 58,
   "id": "bbede03c-8445-42a9-82ea-43ef229cb092",
   "metadata": {},
   "outputs": [],
   "source": [
    "import pandas as pd\n",
    "import json"
   ]
  },
  {
   "cell_type": "code",
   "execution_count": 45,
   "id": "31550d47-1d71-4e7f-87bf-70436348acef",
   "metadata": {},
   "outputs": [
    {
     "data": {
      "text/html": [
       "<div>\n",
       "<style scoped>\n",
       "    .dataframe tbody tr th:only-of-type {\n",
       "        vertical-align: middle;\n",
       "    }\n",
       "\n",
       "    .dataframe tbody tr th {\n",
       "        vertical-align: top;\n",
       "    }\n",
       "\n",
       "    .dataframe thead th {\n",
       "        text-align: right;\n",
       "    }\n",
       "</style>\n",
       "<table border=\"1\" class=\"dataframe\">\n",
       "  <thead>\n",
       "    <tr style=\"text-align: right;\">\n",
       "      <th></th>\n",
       "      <th>Ciudad de Madrid</th>\n",
       "      <th>3339931</th>\n",
       "    </tr>\n",
       "  </thead>\n",
       "  <tbody>\n",
       "    <tr>\n",
       "      <th>0</th>\n",
       "      <td>01. Centro</td>\n",
       "      <td>139687</td>\n",
       "    </tr>\n",
       "    <tr>\n",
       "      <th>1</th>\n",
       "      <td>02. Arganzuela</td>\n",
       "      <td>153304</td>\n",
       "    </tr>\n",
       "    <tr>\n",
       "      <th>2</th>\n",
       "      <td>03. Retiro</td>\n",
       "      <td>117918</td>\n",
       "    </tr>\n",
       "    <tr>\n",
       "      <th>3</th>\n",
       "      <td>04. Salamanca</td>\n",
       "      <td>145702</td>\n",
       "    </tr>\n",
       "    <tr>\n",
       "      <th>4</th>\n",
       "      <td>05. Chamartín</td>\n",
       "      <td>144796</td>\n",
       "    </tr>\n",
       "    <tr>\n",
       "      <th>5</th>\n",
       "      <td>06. Tetuán</td>\n",
       "      <td>160002</td>\n",
       "    </tr>\n",
       "    <tr>\n",
       "      <th>6</th>\n",
       "      <td>07. Chamberí</td>\n",
       "      <td>138204</td>\n",
       "    </tr>\n",
       "    <tr>\n",
       "      <th>7</th>\n",
       "      <td>08. Fuencarral-El Pardo</td>\n",
       "      <td>248443</td>\n",
       "    </tr>\n",
       "    <tr>\n",
       "      <th>8</th>\n",
       "      <td>09. Moncloa-Aravaca</td>\n",
       "      <td>121757</td>\n",
       "    </tr>\n",
       "    <tr>\n",
       "      <th>9</th>\n",
       "      <td>10. Latina</td>\n",
       "      <td>241672</td>\n",
       "    </tr>\n",
       "    <tr>\n",
       "      <th>10</th>\n",
       "      <td>11. Carabanchel</td>\n",
       "      <td>262339</td>\n",
       "    </tr>\n",
       "    <tr>\n",
       "      <th>11</th>\n",
       "      <td>12. Usera</td>\n",
       "      <td>142746</td>\n",
       "    </tr>\n",
       "    <tr>\n",
       "      <th>12</th>\n",
       "      <td>13. Puente de Vallecas</td>\n",
       "      <td>241603</td>\n",
       "    </tr>\n",
       "    <tr>\n",
       "      <th>13</th>\n",
       "      <td>14. Moratalaz</td>\n",
       "      <td>92814</td>\n",
       "    </tr>\n",
       "    <tr>\n",
       "      <th>14</th>\n",
       "      <td>15. Ciudad Lineal</td>\n",
       "      <td>220345</td>\n",
       "    </tr>\n",
       "    <tr>\n",
       "      <th>15</th>\n",
       "      <td>16. Hortaleza</td>\n",
       "      <td>198391</td>\n",
       "    </tr>\n",
       "    <tr>\n",
       "      <th>16</th>\n",
       "      <td>17. Villaverde</td>\n",
       "      <td>159038</td>\n",
       "    </tr>\n",
       "    <tr>\n",
       "      <th>17</th>\n",
       "      <td>18. Villa de Vallecas</td>\n",
       "      <td>117501</td>\n",
       "    </tr>\n",
       "    <tr>\n",
       "      <th>18</th>\n",
       "      <td>19. Vicálvaro</td>\n",
       "      <td>83804</td>\n",
       "    </tr>\n",
       "    <tr>\n",
       "      <th>19</th>\n",
       "      <td>20. San Blas-Canillejas</td>\n",
       "      <td>161219</td>\n",
       "    </tr>\n",
       "    <tr>\n",
       "      <th>20</th>\n",
       "      <td>21. Barajas</td>\n",
       "      <td>48646</td>\n",
       "    </tr>\n",
       "  </tbody>\n",
       "</table>\n",
       "</div>"
      ],
      "text/plain": [
       "           Ciudad de Madrid  3339931\n",
       "0                01. Centro   139687\n",
       "1            02. Arganzuela   153304\n",
       "2                03. Retiro   117918\n",
       "3             04. Salamanca   145702\n",
       "4             05. Chamartín   144796\n",
       "5                06. Tetuán   160002\n",
       "6              07. Chamberí   138204\n",
       "7   08. Fuencarral-El Pardo   248443\n",
       "8       09. Moncloa-Aravaca   121757\n",
       "9                10. Latina   241672\n",
       "10          11. Carabanchel   262339\n",
       "11                12. Usera   142746\n",
       "12   13. Puente de Vallecas   241603\n",
       "13            14. Moratalaz    92814\n",
       "14        15. Ciudad Lineal   220345\n",
       "15            16. Hortaleza   198391\n",
       "16           17. Villaverde   159038\n",
       "17    18. Villa de Vallecas   117501\n",
       "18            19. Vicálvaro    83804\n",
       "19  20. San Blas-Canillejas   161219\n",
       "20              21. Barajas    48646"
      ]
     },
     "execution_count": 45,
     "metadata": {},
     "output_type": "execute_result"
    }
   ],
   "source": [
    "df_pop = pd.read_excel(\"../C5000123.xlsx\", usecols=\"B:C\", skiprows=[0,1,2,3,4,5,6,7,9], nrows=22)\n",
    "df_pop"
   ]
  },
  {
   "cell_type": "code",
   "execution_count": 46,
   "id": "1b9d8cb8-a0df-4033-8496-cc5dc48367a8",
   "metadata": {},
   "outputs": [],
   "source": [
    "df_pop.columns = [\"distrito\", \"poblacion\"]"
   ]
  },
  {
   "cell_type": "code",
   "execution_count": 49,
   "id": "513d5c33-00f1-48a8-bd42-6b1aeb13769d",
   "metadata": {},
   "outputs": [
    {
     "data": {
      "text/plain": [
       "'Centro'"
      ]
     },
     "execution_count": 49,
     "metadata": {},
     "output_type": "execute_result"
    }
   ],
   "source": [
    "df_pop[\"distrito\"].str.split(\".\").str[1].str.strip()[0]"
   ]
  },
  {
   "cell_type": "code",
   "execution_count": 50,
   "id": "dd1283a9-085a-4e64-b680-4323455d3c74",
   "metadata": {},
   "outputs": [],
   "source": [
    "df_pop[\"distrito\"] =df_pop[\"distrito\"].str.split(\".\").str[1].str.strip()"
   ]
  },
  {
   "cell_type": "code",
   "execution_count": 52,
   "id": "99408a70-9ae3-48b8-815e-a4e13be6b8e6",
   "metadata": {},
   "outputs": [],
   "source": [
    "dict_pop = dict(zip(df_pop[\"distrito\"], df_pop[\"poblacion\"]))"
   ]
  },
  {
   "cell_type": "code",
   "execution_count": 57,
   "id": "56f18c2b-04fd-4d74-94cd-64e0f62989ee",
   "metadata": {},
   "outputs": [
    {
     "data": {
      "text/plain": [
       "[0.04182331910449647,\n",
       " 0.045900349438356663,\n",
       " 0.03530551978469016,\n",
       " 0.04362425451304233,\n",
       " 0.04335299142407433,\n",
       " 0.04790578008946891,\n",
       " 0.04137929795555657,\n",
       " 0.07438566844644395,\n",
       " 0.03645494472790007,\n",
       " 0.07235838105637511,\n",
       " 0.07854623344015191,\n",
       " 0.0427392062889922,\n",
       " 0.0723377219469504,\n",
       " 0.027789196842689264,\n",
       " 0.06597291979984017,\n",
       " 0.05939973011418499,\n",
       " 0.04761715137228883,\n",
       " 0.03518066690599297,\n",
       " 0.025091536322157555,\n",
       " 0.04827015887453962,\n",
       " 0.014564971551807507]"
      ]
     },
     "execution_count": 57,
     "metadata": {},
     "output_type": "execute_result"
    }
   ],
   "source": [
    "\n",
    "[ pop/sum(dict_pop.values()) for pop in dict_pop.values()]"
   ]
  },
  {
   "cell_type": "code",
   "execution_count": 60,
   "id": "6ced707c-8a55-48a5-9771-5449ccda4e20",
   "metadata": {},
   "outputs": [],
   "source": [
    "with open(\"static_data.json\", \"r\") as file:\n",
    "    static_data =json.load(file)\n",
    "static_madird = static_data[\"Madrid\"]"
   ]
  },
  {
   "cell_type": "code",
   "execution_count": 62,
   "id": "4fcdca4b-45c4-4e52-aec5-5ecb4104634a",
   "metadata": {},
   "outputs": [
    {
     "data": {
      "text/plain": [
       "{'Centro': 139687,\n",
       " 'Arganzuela': 153304,\n",
       " 'Retiro': 117918,\n",
       " 'Salamanca': 145702,\n",
       " 'Chamartín': 144796,\n",
       " 'Tetuán': 160002,\n",
       " 'Chamberí': 138204,\n",
       " 'Fuencarral-El Pardo': 248443,\n",
       " 'Moncloa-Aravaca': 121757,\n",
       " 'Latina': 241672,\n",
       " 'Carabanchel': 262339,\n",
       " 'Usera': 142746,\n",
       " 'Puente de Vallecas': 241603,\n",
       " 'Moratalaz': 92814,\n",
       " 'Ciudad Lineal': 220345,\n",
       " 'Hortaleza': 198391,\n",
       " 'Villaverde': 159038,\n",
       " 'Villa de Vallecas': 117501,\n",
       " 'Vicálvaro': 83804,\n",
       " 'San Blas-Canillejas': 161219,\n",
       " 'Barajas': 48646}"
      ]
     },
     "execution_count": 62,
     "metadata": {},
     "output_type": "execute_result"
    }
   ],
   "source": [
    "static_madird[\"population\"]"
   ]
  },
  {
   "cell_type": "code",
   "execution_count": 64,
   "id": "dc15f998-924d-4571-bab4-14daf86166dd",
   "metadata": {},
   "outputs": [
    {
     "data": {
      "text/plain": [
       "{'Centro': 0.04182331910449647,\n",
       " 'Arganzuela': 0.045900349438356663,\n",
       " 'Retiro': 0.03530551978469016,\n",
       " 'Salamanca': 0.04362425451304233,\n",
       " 'Chamartín': 0.04335299142407433,\n",
       " 'Tetuán': 0.04790578008946891,\n",
       " 'Chamberí': 0.04137929795555657,\n",
       " 'Fuencarral-El Pardo': 0.07438566844644395,\n",
       " 'Moncloa-Aravaca': 0.03645494472790007,\n",
       " 'Latina': 0.07235838105637511,\n",
       " 'Carabanchel': 0.07854623344015191,\n",
       " 'Usera': 0.0427392062889922,\n",
       " 'Puente de Vallecas': 0.0723377219469504,\n",
       " 'Moratalaz': 0.027789196842689264,\n",
       " 'Ciudad Lineal': 0.06597291979984017,\n",
       " 'Hortaleza': 0.05939973011418499,\n",
       " 'Villaverde': 0.04761715137228883,\n",
       " 'Villa de Vallecas': 0.03518066690599297,\n",
       " 'Vicálvaro': 0.025091536322157555,\n",
       " 'San Blas-Canillejas': 0.04827015887453962,\n",
       " 'Barajas': 0.014564971551807507}"
      ]
     },
     "execution_count": 64,
     "metadata": {},
     "output_type": "execute_result"
    }
   ],
   "source": [
    "{key:value/sum(static_madird[\"population\"].values()) for key, value in static_madird[\"population\"].items()}"
   ]
  },
  {
   "cell_type": "code",
   "execution_count": null,
   "id": "8929d05f-d7d1-482d-9324-dcb9e2c29969",
   "metadata": {},
   "outputs": [],
   "source": []
  }
 ],
 "metadata": {
  "kernelspec": {
   "display_name": "Python 3 (ipykernel)",
   "language": "python",
   "name": "python3"
  },
  "language_info": {
   "codemirror_mode": {
    "name": "ipython",
    "version": 3
   },
   "file_extension": ".py",
   "mimetype": "text/x-python",
   "name": "python",
   "nbconvert_exporter": "python",
   "pygments_lexer": "ipython3",
   "version": "3.10.11"
  }
 },
 "nbformat": 4,
 "nbformat_minor": 5
}
