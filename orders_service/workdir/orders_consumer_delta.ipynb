{
 "cells": [
  {
   "cell_type": "code",
   "execution_count": 7,
   "metadata": {
    "vscode": {
     "languageId": "python_glue_session"
    }
   },
   "outputs": [
    {
     "name": "stdout",
     "output_type": "stream",
     "text": [
      "Welcome to the Glue Interactive Sessions Kernel\n",
      "For more information on available magic commands, please type %help in any new cell.\n",
      "\n",
      "Please view our Getting Started page to access the most up-to-date information on the Interactive Sessions kernel: https://docs.aws.amazon.com/glue/latest/dg/interactive-sessions.html\n",
      "It looks like there is a newer version of the kernel available. The latest version is 1.0.6 and you have 1.0.4 installed.\n",
      "Please run `pip install --upgrade aws-glue-sessions` to upgrade your kernel\n",
      "Previous session type: etl\n",
      "Setting new session type to Streaming\n",
      "Current iam_role is None\n",
      "iam_role has been set to arn:aws:iam::484183516222:role/LabRole.\n",
      "Previous region: None\n",
      "Setting new region to: us-east-1\n",
      "Region is set to: us-east-1\n",
      "Previous number of workers: None\n",
      "Setting new number of workers to: 2\n",
      "Current idle_timeout is None minutes.\n",
      "idle_timeout has been set to 60 minutes.\n",
      "The following configurations have been updated: {'--conf': 'spark.sql.extensions=io.delta.sql.DeltaSparkSessionExtension --conf spark.sql.catalog.spark_catalog=org.apache.spark.sql.delta.catalog.DeltaCatalog', '--datalake-formats': 'delta'}\n"
     ]
    }
   ],
   "source": [
    "%streaming\n",
    "%iam_role arn:aws:iam::484183516222:role/LabRole\n",
    "%region us-east-1\n",
    "%number_of_workers 2\n",
    "%idle_timeout 60\n",
    "%%configure \n",
    "{\n",
    "  \"--conf\": \"spark.sql.extensions=io.delta.sql.DeltaSparkSessionExtension --conf spark.sql.catalog.spark_catalog=org.apache.spark.sql.delta.catalog.DeltaCatalog\",\n",
    "  \"--datalake-formats\": \"delta\"\n",
    "}"
   ]
  },
  {
   "cell_type": "code",
   "execution_count": 1,
   "metadata": {
    "vscode": {
     "languageId": "python_glue_session"
    }
   },
   "outputs": [
    {
     "name": "stdout",
     "output_type": "stream",
     "text": [
      "Trying to create a Glue session for the kernel.\n",
      "Session Type: streaming\n",
      "Worker Type: G.1X\n",
      "Number of Workers: 2\n",
      "Session ID: f6bef49e-c8c2-47a3-beae-95d0eabd1c90\n",
      "Applying the following default arguments:\n",
      "--glue_kernel_version 1.0.4\n",
      "--enable-glue-datacatalog true\n",
      "--conf spark.sql.extensions=io.delta.sql.DeltaSparkSessionExtension --conf spark.sql.catalog.spark_catalog=org.apache.spark.sql.delta.catalog.DeltaCatalog\n",
      "--datalake-formats delta\n",
      "Waiting for session f6bef49e-c8c2-47a3-beae-95d0eabd1c90 to get into ready status...\n",
      "Session f6bef49e-c8c2-47a3-beae-95d0eabd1c90 has been created.\n",
      "<pyspark.sql.session.SparkSession object at 0x7fc39490fb80>\n"
     ]
    }
   ],
   "source": [
    "spark"
   ]
  },
  {
   "cell_type": "markdown",
   "metadata": {},
   "source": [
    "# 1. Environment Configuration"
   ]
  },
  {
   "cell_type": "markdown",
   "metadata": {},
   "source": [
    "## 1.1 Import dependencies"
   ]
  },
  {
   "cell_type": "code",
   "execution_count": 2,
   "metadata": {
    "vscode": {
     "languageId": "python_glue_session"
    }
   },
   "outputs": [
    {
     "name": "stdout",
     "output_type": "stream",
     "text": [
      "\n"
     ]
    }
   ],
   "source": [
    "import boto3\n",
    "import json\n",
    "import os\n",
    "from uuid import uuid4\n",
    "from datetime import datetime\n",
    "from datetime import timedelta\n",
    "import time\n",
    "\n",
    "import pyspark.sql.types as t\n",
    "import pyspark.sql.functions as f"
   ]
  },
  {
   "cell_type": "markdown",
   "metadata": {},
   "source": [
    "## 1.2 Constants Variables"
   ]
  },
  {
   "cell_type": "code",
   "execution_count": 3,
   "metadata": {
    "vscode": {
     "languageId": "python_glue_session"
    }
   },
   "outputs": [
    {
     "name": "stdout",
     "output_type": "stream",
     "text": [
      "\n"
     ]
    }
   ],
   "source": [
    "BUCKET_NAME = \"vrpoptimiserplatform\"\n",
    "ORDERS = \"orders\"\n",
    "STREAM_NAME = \"orders_stream\"\n",
    "\n",
    "BRONZE = \"bronze\"\n",
    "SILVER = \"silver\"\n",
    "GOLD = \"gold\"\n",
    "DELTA = \"delta\"\n",
    "\n",
    "PROCESSING_TRIGGER = \"45 seconds\"\n",
    "\n",
    "## Checkpoints\n",
    "EVENTS_CHECKPOINT_LOCATION = f\"s3a://{BUCKET_NAME}/{ORDERS}/{DELTA}/checkpoints/events\"\n",
    "ORDERS_CHECKPOINT_LOCATION = f\"s3a://{BUCKET_NAME}/{ORDERS}/{DELTA}/checkpoints/orders\"\n",
    "ORDERS_ITEMS_CHECKPOINT_LOCATION = f\"s3a://{BUCKET_NAME}/{ORDERS}/{DELTA}/checkpoints/orders_items\"\n",
    "\n",
    "## paths\n",
    "EVENTS = \"events\"\n",
    "ORDERS = \"orders\"\n",
    "ORDERS_ITEMS = \"orders_items\"\n",
    "# TODO TBC medallion architecture??\n",
    "EVENTS_PATH = f\"s3a://{BUCKET_NAME}/{ORDERS}/{DELTA}/{BRONZE}/{EVENTS}\"\n",
    "ORDERS_PATH = f\"s3a://{BUCKET_NAME}/{ORDERS}/{DELTA}/{BRONZE}/{ORDERS}\"\n",
    "ORDERS_ITEMS_PATH = f\"s3a://{BUCKET_NAME}/{ORDERS}/{DELTA}/{BRONZE}/{ORDERS_ITEMS}\"\n",
    "\n",
    "## Tables\n",
    "EVENTS_TABLE = f\"{EVENTS}_table\"\n",
    "ORDERS_TABLE = f\"{ORDERS}_table\"\n",
    "ORDERS_ITEMS_TABLE = f\"{ORDERS_ITEMS}_table\"\n"
   ]
  },
  {
   "cell_type": "markdown",
   "metadata": {},
   "source": [
    "# 2. Stream Interaction with Kinesis"
   ]
  },
  {
   "cell_type": "markdown",
   "metadata": {},
   "source": [
    "## 2.1 Read Stream"
   ]
  },
  {
   "cell_type": "code",
   "execution_count": 4,
   "metadata": {
    "vscode": {
     "languageId": "plaintext"
    }
   },
   "outputs": [
    {
     "name": "stdout",
     "output_type": "stream",
     "text": [
      "\n"
     ]
    }
   ],
   "source": [
    "schema = t.StructType([\n",
    "    t.StructField(\"event_id\", t.StringType(), True),\n",
    "    t.StructField(\"event_type\", t.StringType(), True),\n",
    "    t.StructField(\"event_timestamp\", t.StringType(), True),\n",
    "    t.StructField(\"order_id\", t.StringType(), True),\n",
    "    t.StructField(\"order_details\", t.StructType([\n",
    "        t.StructField(\"customer_id\", t.StringType(), True),\n",
    "        t.StructField(\"order_date\", t.StringType(), True),\n",
    "        t.StructField(\"items\", t.ArrayType(t.StructType([\n",
    "            t.StructField(\"product_id\", t.StringType(), True),\n",
    "            t.StructField(\"product_name\", t.StringType(), True),\n",
    "            t.StructField(\"price\", t.DoubleType(), True),\n",
    "            t.StructField(\"weight\", t.DoubleType(), True),\n",
    "            t.StructField(\"quantity\", t.IntegerType(), True),\n",
    "        ])), True),\n",
    "        t.StructField(\"total_amount\", t.DoubleType(), True),\n",
    "        t.StructField(\"total_weight\", t.DoubleType(), True),\n",
    "        t.StructField(\"status\", t.StringType(), True),\n",
    "        t.StructField(\"destination_address\", t.StructType([\n",
    "            t.StructField(\"address_id\", t.StringType(), True),\n",
    "            t.StructField(\"neighborhood\", t.StringType(), True),\n",
    "            t.StructField(\"coordinates\", t.ArrayType(t.DoubleType()), True),\n",
    "            t.StructField(\"road\", t.StringType(), True),\n",
    "            t.StructField(\"house_number\", t.StringType(), True),\n",
    "            t.StructField(\"suburb\", t.StringType(), True),\n",
    "            t.StructField(\"city_district\", t.StringType(), True),\n",
    "            t.StructField(\"state\", t.StringType(), True),\n",
    "            t.StructField(\"postcode\", t.StringType(), True),\n",
    "            t.StructField(\"country\", t.StringType(), True),\n",
    "            t.StructField(\"lat\", t.DoubleType(), True),\n",
    "            t.StructField(\"lon\", t.DoubleType(), True)\n",
    "        ]), True),\n",
    "        t.StructField(\"payment_details\", t.StructType([\n",
    "            t.StructField(\"payment_method\", t.StringType(), True),\n",
    "            t.StructField(\"payment_status\", t.StringType(), True),\n",
    "            t.StructField(\"transaction_id\", t.StringType(), True)\n",
    "        ]), True)\n",
    "    ]), True)\n",
    "])"
   ]
  },
  {
   "cell_type": "markdown",
   "metadata": {},
   "source": [
    "> startingPosition indica el punto de incio de lectura del stream, sus opciones son:\n",
    ">  * trim_horizon: primer dato del stream o el primer registro incluido en el checkpoint\n",
    ">  * latest: ignora lo previo al ultimo registro"
   ]
  },
  {
   "cell_type": "code",
   "execution_count": 5,
   "metadata": {
    "vscode": {
     "languageId": "plaintext"
    }
   },
   "outputs": [
    {
     "name": "stdout",
     "output_type": "stream",
     "text": [
      "\n"
     ]
    }
   ],
   "source": [
    "kinesis_order_stream = (\n",
    "    spark\n",
    "    .readStream\n",
    "    .format(\"kinesis\")\n",
    "    .option(\"streamName\", STREAM_NAME)\n",
    "    .option(\"startingPosition\", \"trim_horizon\")\n",
    "    # .option(\"startingPosition\", \"latest\")\n",
    "    .load()\n",
    ")"
   ]
  },
  {
   "cell_type": "code",
   "execution_count": 6,
   "metadata": {},
   "outputs": [
    {
     "name": "stdout",
     "output_type": "stream",
     "text": [
      "root\n",
      " |-- data: binary (nullable = true)\n",
      " |-- streamName: string (nullable = true)\n",
      " |-- partitionKey: string (nullable = true)\n",
      " |-- sequenceNumber: string (nullable = true)\n",
      " |-- approximateArrivalTimestamp: timestamp (nullable = true)\n"
     ]
    }
   ],
   "source": [
    "kinesis_order_stream.printSchema()"
   ]
  },
  {
   "cell_type": "code",
   "execution_count": 7,
   "metadata": {
    "vscode": {
     "languageId": "plaintext"
    }
   },
   "outputs": [
    {
     "name": "stdout",
     "output_type": "stream",
     "text": [
      "\n"
     ]
    }
   ],
   "source": [
    "df_order_stream = (\n",
    "    kinesis_order_stream\n",
    "    .withColumn(\"json_data\", f.col(\"data\").cast(\"string\"))\n",
    "    .withColumn(\"orders\", f.from_json(\"json_data\", schema))\n",
    "    .select(\"orders.*\")\n",
    ")"
   ]
  },
  {
   "cell_type": "code",
   "execution_count": 8,
   "metadata": {},
   "outputs": [
    {
     "name": "stdout",
     "output_type": "stream",
     "text": [
      "root\n",
      " |-- event_id: string (nullable = true)\n",
      " |-- event_type: string (nullable = true)\n",
      " |-- event_timestamp: string (nullable = true)\n",
      " |-- order_id: string (nullable = true)\n",
      " |-- order_details: struct (nullable = true)\n",
      " |    |-- customer_id: string (nullable = true)\n",
      " |    |-- order_date: string (nullable = true)\n",
      " |    |-- items: array (nullable = true)\n",
      " |    |    |-- element: struct (containsNull = true)\n",
      " |    |    |    |-- product_id: string (nullable = true)\n",
      " |    |    |    |-- product_name: string (nullable = true)\n",
      " |    |    |    |-- price: double (nullable = true)\n",
      " |    |    |    |-- weight: double (nullable = true)\n",
      " |    |    |    |-- quantity: integer (nullable = true)\n",
      " |    |-- total_amount: double (nullable = true)\n",
      " |    |-- total_weight: double (nullable = true)\n",
      " |    |-- status: string (nullable = true)\n",
      " |    |-- destination_address: struct (nullable = true)\n",
      " |    |    |-- address_id: string (nullable = true)\n",
      " |    |    |-- neighborhood: string (nullable = true)\n",
      " |    |    |-- coordinates: array (nullable = true)\n",
      " |    |    |    |-- element: double (containsNull = true)\n",
      " |    |    |-- road: string (nullable = true)\n",
      " |    |    |-- house_number: string (nullable = true)\n",
      " |    |    |-- suburb: string (nullable = true)\n",
      " |    |    |-- city_district: string (nullable = true)\n",
      " |    |    |-- state: string (nullable = true)\n",
      " |    |    |-- postcode: string (nullable = true)\n",
      " |    |    |-- country: string (nullable = true)\n",
      " |    |    |-- lat: double (nullable = true)\n",
      " |    |    |-- lon: double (nullable = true)\n",
      " |    |-- payment_details: struct (nullable = true)\n",
      " |    |    |-- payment_method: string (nullable = true)\n",
      " |    |    |-- payment_status: string (nullable = true)\n",
      " |    |    |-- transaction_id: string (nullable = true)\n"
     ]
    }
   ],
   "source": [
    "df_order_stream.printSchema()"
   ]
  },
  {
   "cell_type": "markdown",
   "metadata": {},
   "source": [
    "# 3 Wrtie streams"
   ]
  },
  {
   "cell_type": "markdown",
   "metadata": {},
   "source": [
    "## 3.1 Events Stream"
   ]
  },
  {
   "cell_type": "code",
   "execution_count": 9,
   "metadata": {
    "vscode": {
     "languageId": "plaintext"
    }
   },
   "outputs": [
    {
     "name": "stdout",
     "output_type": "stream",
     "text": [
      "\n"
     ]
    }
   ],
   "source": [
    "events_stream = (\n",
    "    df_order_stream\n",
    "    .select(\n",
    "        f.col(\"event_id\"),\n",
    "        f.col(\"event_type\"),\n",
    "        f.col(\"event_timestamp\"),\n",
    "        f.col(\"order_id\")\n",
    "    )\n",
    "    .writeStream\n",
    "    .format(\"delta\")\n",
    "    .outputMode(\"append\")\n",
    "    .trigger(processingTime=PROCESSING_TRIGGER)\n",
    "    # .trigger(availableNow=True)\n",
    "    .option(\"path\", EVENTS_PATH)\n",
    "    .option(\"checkpointLocation\", EVENTS_CHECKPOINT_LOCATION)\n",
    "    .toTable(EVENTS_TABLE)\n",
    "    )"
   ]
  },
  {
   "cell_type": "code",
   "execution_count": 10,
   "metadata": {
    "vscode": {
     "languageId": "plaintext"
    }
   },
   "outputs": [
    {
     "name": "stdout",
     "output_type": "stream",
     "text": [
      "True\n"
     ]
    }
   ],
   "source": [
    "events_stream.isActive"
   ]
  },
  {
   "cell_type": "code",
   "execution_count": 11,
   "metadata": {
    "vscode": {
     "languageId": "plaintext"
    }
   },
   "outputs": [
    {
     "name": "stdout",
     "output_type": "stream",
     "text": [
      "{'message': 'Writing offsets to log', 'isDataAvailable': False, 'isTriggerActive': True}\n"
     ]
    }
   ],
   "source": [
    "events_stream.status"
   ]
  },
  {
   "cell_type": "code",
   "execution_count": 12,
   "metadata": {
    "vscode": {
     "languageId": "plaintext"
    }
   },
   "outputs": [
    {
     "name": "stdout",
     "output_type": "stream",
     "text": [
      "\n"
     ]
    }
   ],
   "source": [
    "events_stream.lastProgress"
   ]
  },
  {
   "cell_type": "code",
   "execution_count": 14,
   "metadata": {},
   "outputs": [
    {
     "name": "stdout",
     "output_type": "stream",
     "text": [
      "+--------------------+-------------+-------------------+--------------------+\n",
      "|            event_id|   event_type|    event_timestamp|            order_id|\n",
      "+--------------------+-------------+-------------------+--------------------+\n",
      "|ev-308a173e-c3ac-...|ORDER_CREATED|2024-06-23 16:19:39|ord-b37a714b-aaa6...|\n",
      "|ev-337be020-46bf-...|ORDER_CREATED|2024-06-23 16:19:46|ord-5edb868e-5481...|\n",
      "|ev-57068625-1eb9-...|ORDER_CREATED|2024-06-23 16:19:52|ord-7dc2e7c5-13ad...|\n",
      "|ev-86ff429a-64d3-...|ORDER_CREATED|2024-06-23 16:19:59|ord-75be955b-7659...|\n",
      "|ev-a06c8ac7-165b-...|ORDER_CREATED|2024-06-23 16:20:07|ord-18b3d774-a37c...|\n",
      "|ev-ae138c37-20a7-...|ORDER_CREATED|2024-06-23 16:20:13|ord-75fb0ae6-8be9...|\n",
      "|ev-358a3607-db80-...|ORDER_CREATED|2024-06-23 16:20:20|ord-aa3cee40-9a3c...|\n",
      "|ev-4eac65b4-fe26-...|ORDER_CREATED|2024-06-23 16:20:28|ord-75ea8db0-a2f3...|\n",
      "|ev-87dd6390-10ee-...|ORDER_CREATED|2024-06-23 16:20:34|ord-eb097cd7-6d50...|\n",
      "|ev-ffa9d7f9-712a-...|ORDER_CREATED|2024-06-23 16:20:41|ord-fa8468c9-6a39...|\n",
      "|ev-6b27ae60-6361-...|ORDER_CREATED|2024-06-23 16:20:49|ord-f268efc9-1d0f...|\n",
      "|ev-598d6a93-44d3-...|ORDER_CREATED|2024-06-23 16:20:55|ord-c516feb1-a4ce...|\n",
      "|ev-8392ead7-fd9f-...|ORDER_CREATED|2024-06-23 16:21:01|ord-ed48c937-b7b7...|\n",
      "|ev-76bd026f-1624-...|ORDER_CREATED|2024-06-23 16:21:08|ord-adec481c-3de4...|\n",
      "|ev-4838d350-21cb-...|ORDER_CREATED|2024-06-23 16:21:15|ord-c2aef83b-b90c...|\n",
      "|ev-df7b9ad4-16e0-...|ORDER_CREATED|2024-06-23 16:21:21|ord-cda3d9d1-c310...|\n",
      "|ev-cec06a2c-fd98-...|ORDER_CREATED|2024-06-23 16:21:28|ord-bb1f8b07-7153...|\n",
      "|ev-9277afaf-ed08-...|ORDER_CREATED|2024-06-23 16:21:34|ord-bbc3ebd0-d680...|\n",
      "|ev-c56f263b-4f7e-...|ORDER_CREATED|2024-06-23 16:21:40|ord-ba9f605c-0d9e...|\n",
      "|ev-ee76d6c5-c533-...|ORDER_CREATED|2024-06-23 16:21:46|ord-ab5496a2-723c...|\n",
      "+--------------------+-------------+-------------------+--------------------+\n",
      "only showing top 20 rows\n"
     ]
    }
   ],
   "source": [
    "(\n",
    "    spark.table(EVENTS_TABLE)\n",
    ").show()"
   ]
  },
  {
   "cell_type": "markdown",
   "metadata": {},
   "source": [
    "## 3.2 Orders Stream"
   ]
  },
  {
   "cell_type": "code",
   "execution_count": 17,
   "metadata": {},
   "outputs": [
    {
     "name": "stdout",
     "output_type": "stream",
     "text": [
      "\n"
     ]
    }
   ],
   "source": [
    "orders_stream = (\n",
    "    df_order_stream\n",
    "    .select(\n",
    "        f.col(\"order_id\"),\n",
    "        f.col(\"order_details.customer_id\").alias(\"customer_id\"),\n",
    "        f.col(\"order_details.total_weight\").alias(\"total_weight\"),\n",
    "        f.col(\"order_details.total_amount\").alias(\"total_price\"),\n",
    "        f.col(\"order_details.order_date\").alias(\"order_date\"),\n",
    "        f.col(\"order_details.status\").alias(\"status\"),\n",
    "        f.col(\"order_details.destination_address.lat\").alias(\"lat\"),\n",
    "        f.col(\"order_details.destination_address.lon\").alias(\"lon\"),\n",
    "    )\n",
    "    .writeStream\n",
    "    .format(\"delta\")\n",
    "    .outputMode(\"append\")\n",
    "    .trigger(processingTime=PROCESSING_TRIGGER)\n",
    "    # .trigger(availableNow=True)\n",
    "    .option(\"path\", ORDERS_PATH)\n",
    "    .option(\"checkpointLocation\", ORDERS_CHECKPOINT_LOCATION)\n",
    "    .toTable(ORDERS_TABLE)\n",
    ")"
   ]
  },
  {
   "cell_type": "code",
   "execution_count": 18,
   "metadata": {},
   "outputs": [
    {
     "name": "stdout",
     "output_type": "stream",
     "text": [
      "True\n"
     ]
    }
   ],
   "source": [
    "orders_stream.isActive"
   ]
  },
  {
   "cell_type": "code",
   "execution_count": 19,
   "metadata": {},
   "outputs": [
    {
     "name": "stdout",
     "output_type": "stream",
     "text": [
      "{'message': 'Waiting for next trigger', 'isDataAvailable': True, 'isTriggerActive': False}\n"
     ]
    }
   ],
   "source": [
    "orders_stream.status"
   ]
  },
  {
   "cell_type": "code",
   "execution_count": 20,
   "metadata": {},
   "outputs": [
    {
     "name": "stdout",
     "output_type": "stream",
     "text": [
      "{'id': '49e514e7-8524-476f-a3de-e1cca40bcb9f', 'runId': '5dde80a7-07e7-4835-8377-2926164db0d3', 'name': None, 'timestamp': '2024-06-24T11:40:06.217Z', 'batchId': 0, 'numInputRows': 1, 'inputRowsPerSecond': 0.0, 'processedRowsPerSecond': 0.15503875968992248, 'durationMs': {'addBatch': 5249, 'getBatch': 3, 'getOffset': 38, 'queryPlanning': 9, 'triggerExecution': 6450, 'walCommit': 514}, 'stateOperators': [], 'sources': [{'description': 'KinesisSource[orders_stream]', 'startOffset': None, 'endOffset': {'metadata': {'streamName': 'orders_stream', 'batchId': '0'}, 'shardId-000000000000': {'iteratorType': 'TRIM_HORIZON', 'iteratorPosition': ''}}, 'latestOffset': {'metadata': {'streamName': 'orders_stream', 'batchId': '0'}, 'shardId-000000000000': {'iteratorType': 'TRIM_HORIZON', 'iteratorPosition': ''}}, 'numInputRows': 1, 'inputRowsPerSecond': 0.0, 'processedRowsPerSecond': 0.15503875968992248}], 'sink': {'description': 'DeltaSink[s3a://vrpoptimiserplatform/orders/delta/bronze/orders]', 'numOutputRows': -1}}\n"
     ]
    }
   ],
   "source": [
    "orders_stream.lastProgress"
   ]
  },
  {
   "cell_type": "code",
   "execution_count": 26,
   "metadata": {},
   "outputs": [
    {
     "name": "stdout",
     "output_type": "stream",
     "text": [
      "+--------------------+--------------------+-------------------+------------------+-------------------+-------+------------------+-------------------+\n",
      "|            order_id|         customer_id|       total_weight|       total_price|         order_date| status|               lat|                lon|\n",
      "+--------------------+--------------------+-------------------+------------------+-------------------+-------+------------------+-------------------+\n",
      "|ord-36638d46-b028...|cus-031007c2-3d8f...| 1.6200000643730164|             87.48|2024-06-23 16:18:04|PENDING| 40.34373474121094| -3.717392921447754|\n",
      "|ord-5e4c69af-c3c4...|cus-af703718-b168...|0.10999999940395355|41.269999999999996|2024-06-23 16:18:11|PENDING|  40.3503532409668|-3.7048850059509277|\n",
      "|ord-6f214b51-21cd...|cus-3d4bb4a4-414d...| 1.0800000429153442|             39.98|2024-06-23 16:18:17|PENDING|40.397552490234375|-3.6726293563842773|\n",
      "|ord-c1902c32-c8eb...|cus-f06cb607-e927...| 1.6000000331550837|             32.29|2024-06-23 16:18:23|PENDING|40.395423889160156| -3.773716449737549|\n",
      "|ord-09986af9-0257...|cus-691d2d2d-b176...| 16.390000838786364| 79.53999999999999|2024-06-23 16:18:30|PENDING| 40.40179443359375| -3.682389259338379|\n",
      "|ord-f0eb2053-18b4...|cus-e4baae54-b62e...| 0.5400000214576721|             47.97|2024-06-23 16:18:37|PENDING|40.424644470214844|-3.6042726039886475|\n",
      "|ord-0769eb76-e37b...|cus-6e2ce972-6f6d...| 5.7599998861551285|            581.09|2024-06-23 16:18:43|PENDING|40.383087158203125|-3.8020739555358887|\n",
      "|ord-38b0803b-4523...|cus-d17745dd-2d88...| 0.1599999964237213|             16.52|2024-06-23 16:18:51|PENDING| 40.37021255493164| -3.692737102508545|\n",
      "|ord-bb5f1056-8af6...|cus-24b655f8-3828...| 0.6800000071525574|             38.49|2024-06-23 16:18:57|PENDING| 40.39390563964844| -3.696730613708496|\n",
      "|ord-8706ae26-970f...|cus-8404b1c0-6c50...|   5.64000004529953|            311.01|2024-06-23 16:19:03|PENDING| 40.40068054199219|-3.5809011459350586|\n",
      "|ord-2c0530c8-4225...|cus-cc904e1a-265e...| 0.9400000274181366|             68.96|2024-06-23 16:19:11|PENDING|    40.37646484375|  -3.67543625831604|\n",
      "|ord-5e8b03c5-f916...|cus-fa1e4bf5-0d05...|  4.140000090003014|            285.38|2024-06-23 16:19:17|PENDING| 40.46369171142578|-3.7091658115386963|\n",
      "|ord-f26ad03a-4e19...|cus-40fae667-b78f...| 0.7399999871850014|             28.37|2024-06-23 16:19:24|PENDING| 40.46803665161133| -3.701277494430542|\n",
      "|ord-a595c12c-e73d...|cus-ad7098ff-de1c...|0.10999999940395355|             10.74|2024-06-23 16:19:31|PENDING|40.382450103759766| -3.728860378265381|\n",
      "|ord-b37a714b-aaa6...|cus-311a7951-5740...| 0.5199999809265137|             33.32|2024-06-23 16:19:37|PENDING|40.394718170166016|-3.6392252445220947|\n",
      "|ord-5edb868e-5481...|cus-b5ff74ca-cb36...|  5.410000000149012|184.58999999999997|2024-06-23 16:19:44|PENDING|40.442054748535156| -3.717773199081421|\n",
      "|ord-7dc2e7c5-13ad...|cus-aa39738d-7eed...|0.33000001311302185|             22.99|2024-06-23 16:19:51|PENDING| 40.38789367675781|  -3.63498592376709|\n",
      "|ord-75be955b-7659...|cus-e45d02fb-6626...| 0.6900000125169754|             92.94|2024-06-23 16:19:57|PENDING|40.352806091308594| -3.719221830368042|\n",
      "|ord-18b3d774-a37c...|cus-83c5df46-afb1...| 1.4600000102072954|             82.75|2024-06-23 16:20:04|PENDING| 40.36784744262695| -3.720001697540283|\n",
      "|ord-75fb0ae6-8be9...|cus-b2fa325c-5865...| 1.3499999642372131|             159.0|2024-06-23 16:20:12|PENDING|40.401878356933594| -3.693852424621582|\n",
      "+--------------------+--------------------+-------------------+------------------+-------------------+-------+------------------+-------------------+\n",
      "only showing top 20 rows\n"
     ]
    }
   ],
   "source": [
    "(\n",
    "    spark.table(ORDERS_TABLE)\n",
    ").show()"
   ]
  },
  {
   "cell_type": "markdown",
   "metadata": {},
   "source": [
    "## 3.3 Orders Item stream"
   ]
  },
  {
   "cell_type": "code",
   "execution_count": 21,
   "metadata": {},
   "outputs": [
    {
     "name": "stdout",
     "output_type": "stream",
     "text": [
      "\n"
     ]
    }
   ],
   "source": [
    "orders_items_stream = (\n",
    "    df_order_stream\n",
    "    .withColumn(\"exploded_order\", f.explode(f.col(\"order_details.items\")))\n",
    "    .select(\n",
    "        f.col(\"order_id\"),\n",
    "        f.col(\"exploded_order.product_id\").alias(\"product_id\"),\n",
    "        f.col(\"exploded_order.product_name\").alias(\"product_name\"),\n",
    "        f.col(\"exploded_order.quantity\").alias(\"quantity\"),\n",
    "        f.col(\"exploded_order.price\").alias(\"price\"),\n",
    "        f.col(\"exploded_order.weight\").alias(\"weight\"),\n",
    "    )\n",
    "    .writeStream\n",
    "    .format(\"delta\")\n",
    "    .outputMode(\"append\")\n",
    "    .trigger(processingTime=PROCESSING_TRIGGER)\n",
    "    # .trigger(availableNow=True)\n",
    "    .option(\"path\", ORDERS_ITEMS_PATH)\n",
    "    .option(\"checkpointLocation\", ORDERS_ITEMS_CHECKPOINT_LOCATION)\n",
    "    .toTable(ORDERS_ITEMS_TABLE)\n",
    ")"
   ]
  },
  {
   "cell_type": "code",
   "execution_count": 22,
   "metadata": {},
   "outputs": [
    {
     "name": "stdout",
     "output_type": "stream",
     "text": [
      "True\n"
     ]
    }
   ],
   "source": [
    "orders_items_stream.isActive"
   ]
  },
  {
   "cell_type": "code",
   "execution_count": 23,
   "metadata": {},
   "outputs": [
    {
     "name": "stdout",
     "output_type": "stream",
     "text": [
      "{'message': 'Processing new data', 'isDataAvailable': True, 'isTriggerActive': True}\n"
     ]
    }
   ],
   "source": [
    "orders_items_stream.status"
   ]
  },
  {
   "cell_type": "code",
   "execution_count": 24,
   "metadata": {},
   "outputs": [
    {
     "name": "stdout",
     "output_type": "stream",
     "text": [
      "\n"
     ]
    }
   ],
   "source": [
    "orders_items_stream.lastProgress"
   ]
  },
  {
   "cell_type": "code",
   "execution_count": 25,
   "metadata": {},
   "outputs": [
    {
     "name": "stdout",
     "output_type": "stream",
     "text": [
      "+--------------------+--------------------+--------------------+--------+------+--------------------+\n",
      "|            order_id|          product_id|        product_name|quantity| price|              weight|\n",
      "+--------------------+--------------------+--------------------+--------+------+--------------------+\n",
      "|ord-36638d46-b028...|pro-a074a114158f5...|Lulu Jr. Illustor...|       3| 29.16|  0.5400000214576721|\n",
      "|ord-5e4c69af-c3c4...|pro-b3eb1e8f2f7ec...|MightySkins Skin ...|       2| 14.99|0.029999999329447746|\n",
      "|ord-5e4c69af-c3c4...|pro-a92a8f8ad237d...|Armored Black Knight|       1| 11.29| 0.05000000074505806|\n",
      "|ord-6f214b51-21cd...|pro-7f13d11a5f3e7...|Baby Einstein Mus...|       2| 19.99|  0.5400000214576721|\n",
      "|ord-c1902c32-c8eb...|pro-2a0fcbd064f9d...|Raymond Geddes & ...|       1|  24.3|   1.590000033378601|\n",
      "|ord-c1902c32-c8eb...|pro-acee8a6c2fd41...|Pudgy Pedro's Pla...|       1|  7.99|0.009999999776482582|\n",
      "|ord-09986af9-0257...|pro-e6d8ff80f012c...|KidKraft Bookcase...|       1| 68.99|    16.3700008392334|\n",
      "|ord-09986af9-0257...|pro-00d805cc845e4...|Castle Creations ...|       1| 10.55|0.019999999552965164|\n",
      "|ord-f0eb2053-18b4...|pro-5f4f25330f2bb...|Green Toys Submar...|       3| 15.99| 0.18000000715255737|\n",
      "|ord-0769eb76-e37b...|pro-e88df047a4f1e...|Leoie None Quadco...|       3|139.99|  1.4199999570846558|\n",
      "|ord-0769eb76-e37b...|pro-a172151dc9a67...|Mirrycle Incredib...|       2| 14.21| 0.07000000029802322|\n",
      "|ord-0769eb76-e37b...|pro-7f8ae49d983e7...|TAMASHII NATIONS ...|       1| 57.45| 0.49000000953674316|\n",
      "|ord-0769eb76-e37b...|pro-b674d02949bc3...|Star Wars Episode...|       1| 17.01|  0.3100000023841858|\n",
      "|ord-0769eb76-e37b...|pro-40d3cd16b4197...|Rubie's Child's P...|       2| 29.12|  0.2800000011920929|\n",
      "|ord-38b0803b-4523...|pro-b7499e36a42f7...|Eureka Back to Sc...|       2|  8.26| 0.07999999821186066|\n",
      "|ord-bb5f1056-8af6...|pro-69828c5570dcd...|Pokemon TCG: Sun ...|       1| 38.49|  0.6800000071525574|\n",
      "|ord-8706ae26-970f...|pro-52c1091bb950f...|LeapFrog LeapStar...|       1| 38.33|  0.9100000262260437|\n",
      "|ord-8706ae26-970f...|pro-2ffe3f3376d1a...|Rizzy Home BS1437...|       1|  6.76|  0.6800000071525574|\n",
      "|ord-8706ae26-970f...|pro-2a3b2924f338c...|Thames & Kosmos P...|       1| 54.31|  1.7699999809265137|\n",
      "|ord-8706ae26-970f...|pro-168f76803ed93...|Forum Women's Plu...|       1| 31.94| 0.44999998807907104|\n",
      "+--------------------+--------------------+--------------------+--------+------+--------------------+\n",
      "only showing top 20 rows\n"
     ]
    }
   ],
   "source": [
    "(\n",
    "    spark.table(ORDERS_ITEMS_TABLE)\n",
    ").show()"
   ]
  },
  {
   "cell_type": "code",
   "execution_count": null,
   "metadata": {},
   "outputs": [],
   "source": []
  },
  {
   "cell_type": "code",
   "execution_count": null,
   "metadata": {},
   "outputs": [],
   "source": []
  },
  {
   "cell_type": "code",
   "execution_count": null,
   "metadata": {
    "vscode": {
     "languageId": "plaintext"
    }
   },
   "outputs": [],
   "source": [
    "(\n",
    "    spark.read\n",
    "    .format(\"delta\")\n",
    "    .load(BRONZE_ORDERS_PATH)\n",
    "    .count()\n",
    ")"
   ]
  },
  {
   "cell_type": "code",
   "execution_count": null,
   "metadata": {
    "vscode": {
     "languageId": "plaintext"
    }
   },
   "outputs": [],
   "source": [
    "df_orders_bronze = (\n",
    "    spark.read\n",
    "    .format(\"delta\")\n",
    "    .load(BRONZE_ORDERS_PATH)\n",
    ")"
   ]
  },
  {
   "cell_type": "code",
   "execution_count": null,
   "metadata": {
    "vscode": {
     "languageId": "plaintext"
    }
   },
   "outputs": [],
   "source": [
    "df_orders_bronze.show()"
   ]
  },
  {
   "cell_type": "code",
   "execution_count": null,
   "metadata": {
    "vscode": {
     "languageId": "plaintext"
    }
   },
   "outputs": [],
   "source": [
    "(\n",
    "    df_orders_bronze\n",
    "    .select(\n",
    "        f.col(\"order_id\"),\n",
    "        f.col(\"order_details.total_weight\").alias(\"total_weight\"),\n",
    "        f.col(\"order_details.destination_address.address_id\").alias(\"address_id\"),\n",
    "        f.col(\"order_details.destination_address.neighborhood\").alias(\"neighborhood\"),\n",
    "        f.col(\"order_details.destination_address.coordinates\").alias(\"coordinates\"),\n",
    "        f.col(\"order_details.destination_address.road\").alias(\"road\"),\n",
    "        f.col(\"order_details.destination_address.house_number\").alias(\"house_number\"),\n",
    "        f.col(\"order_details.destination_address.suburb\").alias(\"suburb\"),\n",
    "        f.col(\"order_details.destination_address.city_district\").alias(\"city_district\"),\n",
    "        f.col(\"order_details.destination_address.state\").alias(\"state\"),\n",
    "        f.col(\"order_details.destination_address.postcode\").alias(\"postcode\"),\n",
    "        f.col(\"order_details.destination_address.country\").alias(\"country\"),\n",
    "        f.col(\"order_details.destination_address.lat\").alias(\"lat\"),\n",
    "        f.col(\"order_details.destination_address.lon\").alias(\"lon\"),\n",
    "    )\n",
    "    .show()\n",
    ")"
   ]
  },
  {
   "cell_type": "code",
   "execution_count": null,
   "metadata": {
    "vscode": {
     "languageId": "python_glue_session"
    }
   },
   "outputs": [],
   "source": [
    "(\n",
    "    df_orders_bronze\n",
    "    .withColumn(\"exploded_order\", f.explode(f.col(\"order_details.items\")))\n",
    "    .select(\n",
    "        f.col(\"order_id\"),\n",
    "        f.col(\"exploded_order.product_id\").alias(\"product_id\"),\n",
    "        f.col(\"exploded_order.product_name\").alias(\"product_name\"),\n",
    "        f.col(\"exploded_order.quantity\").alias(\"quantity\"),\n",
    "        f.col(\"exploded_order.price\").alias(\"price\"),\n",
    "        f.col(\"exploded_order.weight\").alias(\"weight\"),\n",
    "    )\n",
    "    .show()\n",
    ")"
   ]
  },
  {
   "cell_type": "code",
   "execution_count": null,
   "metadata": {
    "vscode": {
     "languageId": "python_glue_session"
    }
   },
   "outputs": [],
   "source": [
    "# weight treshold \n",
    "(\n",
    "    df_orders_bronze\n",
    "    .select(\n",
    "        f.sum(f.col(\"order_details.total_weight\")).alias(\"total_weight\")\n",
    "    ).collect()[0][\"total_weight\"]\n",
    ")"
   ]
  },
  {
   "cell_type": "code",
   "execution_count": null,
   "metadata": {
    "vscode": {
     "languageId": "python_glue_session"
    }
   },
   "outputs": [],
   "source": [
    "(\n",
    "    spark.table(\"gold_products_table\")\n",
    "    .show()\n",
    "    \n",
    ")"
   ]
  },
  {
   "cell_type": "markdown",
   "metadata": {},
   "source": [
    "## OLD TESTS "
   ]
  },
  {
   "cell_type": "code",
   "execution_count": null,
   "metadata": {
    "vscode": {
     "languageId": "python_glue_session"
    }
   },
   "outputs": [],
   "source": [
    "event_stream.stop()"
   ]
  }
 ],
 "metadata": {
  "kernelspec": {
   "display_name": "Glue PySpark",
   "language": "python",
   "name": "glue_pyspark"
  },
  "language_info": {
   "codemirror_mode": {
    "name": "python",
    "version": 3
   },
   "file_extension": ".py",
   "mimetype": "text/x-python",
   "name": "Python_Glue_Session",
   "pygments_lexer": "python3"
  }
 },
 "nbformat": 4,
 "nbformat_minor": 4
}
