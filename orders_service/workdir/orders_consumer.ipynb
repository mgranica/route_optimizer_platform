{
 "cells": [
  {
   "cell_type": "code",
   "execution_count": 6,
   "metadata": {
    "vscode": {
     "languageId": "python_glue_session"
    }
   },
   "outputs": [
    {
     "name": "stdout",
     "output_type": "stream",
     "text": [
      "Welcome to the Glue Interactive Sessions Kernel\n",
      "For more information on available magic commands, please type %help in any new cell.\n",
      "\n",
      "Please view our Getting Started page to access the most up-to-date information on the Interactive Sessions kernel: https://docs.aws.amazon.com/glue/latest/dg/interactive-sessions.html\n",
      "It looks like there is a newer version of the kernel available. The latest version is 1.0.6 and you have 1.0.4 installed.\n",
      "Please run `pip install --upgrade aws-glue-sessions` to upgrade your kernel\n",
      "Previous session type: etl\n",
      "Setting new session type to Streaming\n",
      "Current iam_role is None\n",
      "iam_role has been set to arn:aws:iam::484183516222:role/LabRole.\n",
      "Previous region: None\n",
      "Setting new region to: us-east-1\n",
      "Region is set to: us-east-1\n",
      "Previous number of workers: None\n",
      "Setting new number of workers to: 2\n",
      "Current idle_timeout is None minutes.\n",
      "idle_timeout has been set to 60 minutes.\n"
     ]
    }
   ],
   "source": [
    "%streaming\n",
    "%iam_role arn:aws:iam::484183516222:role/LabRole\n",
    "%region us-east-1\n",
    "%number_of_workers 2\n",
    "%idle_timeout 60"
   ]
  },
  {
   "cell_type": "code",
   "execution_count": 1,
   "metadata": {
    "vscode": {
     "languageId": "python_glue_session"
    }
   },
   "outputs": [
    {
     "name": "stdout",
     "output_type": "stream",
     "text": [
      "Trying to create a Glue session for the kernel.\n",
      "Session Type: streaming\n",
      "Worker Type: G.1X\n",
      "Number of Workers: 2\n",
      "Session ID: 8d17a0f8-ff0a-43b7-9770-00d3455b3a99\n",
      "Applying the following default arguments:\n",
      "--glue_kernel_version 1.0.4\n",
      "--enable-glue-datacatalog true\n",
      "Waiting for session 8d17a0f8-ff0a-43b7-9770-00d3455b3a99 to get into ready status...\n",
      "Session 8d17a0f8-ff0a-43b7-9770-00d3455b3a99 has been created.\n",
      "<pyspark.sql.session.SparkSession object at 0x7fa0a8bc8d30>\n"
     ]
    }
   ],
   "source": [
    "spark"
   ]
  },
  {
   "cell_type": "markdown",
   "metadata": {},
   "source": [
    "# 1. Environment Configuration"
   ]
  },
  {
   "cell_type": "code",
   "execution_count": 2,
   "metadata": {
    "vscode": {
     "languageId": "python_glue_session"
    }
   },
   "outputs": [
    {
     "name": "stdout",
     "output_type": "stream",
     "text": [
      "\n"
     ]
    }
   ],
   "source": [
    "import boto3\n",
    "import json\n",
    "import os\n",
    "from uuid import uuid4\n",
    "from datetime import datetime\n",
    "from datetime import timedelta\n",
    "import time\n",
    "\n",
    "import pyspark.sql.types as t\n",
    "import pyspark.sql.functions as f"
   ]
  },
  {
   "cell_type": "code",
   "execution_count": 8,
   "metadata": {},
   "outputs": [
    {
     "name": "stdout",
     "output_type": "stream",
     "text": [
      "\n"
     ]
    }
   ],
   "source": [
    "BUCKET_NAME = \"vrpoptimiserplatform\"\n",
    "ORDERS = \"orders\"\n",
    "STREAM_NAME = \"orders_stream\"\n",
    "\n",
    "BRONZE = \"bronze\"\n",
    "SILVER = \"silver\"\n",
    "GOLD = \"gold\"\n",
    "\n",
    "ORDERS_TABLE = \"orders_table\"\n",
    "\n",
    "CHECKPOINT_LOCATION = f\"s3a://{BUCKET_NAME}/{ORDERS}/checkpoints/orders\"\n",
    "\n",
    "BRONZE_ORDERS_PATH = f\"s3a://{BUCKET_NAME}/{ORDERS}/{BRONZE}/{ORDERS_TABLE}\"\n",
    "\n",
    "SILVER_ORDERS_PATH = f\"s3a://{BUCKET_NAME}/{ORDERS}/{SILVER}/{ORDERS_TABLE}\"\n",
    "\n",
    "GOLD_ORDERS_PATH = f\"s3a://{BUCKET_NAME}/{ORDERS}/{GOLD}/{ORDERS_TABLE}\""
   ]
  },
  {
   "cell_type": "markdown",
   "metadata": {},
   "source": [
    "# 2. Stream Interaction with Kinesis"
   ]
  },
  {
   "cell_type": "markdown",
   "metadata": {},
   "source": [
    "## 2.1 Read Stream"
   ]
  },
  {
   "cell_type": "markdown",
   "metadata": {},
   "source": [
    "> startingPosition indica el punto de incio de lectura del stream, sus opciones son:\n",
    ">  * trim_horizon: primer dato del stream o el primer registro incluido en el checkpoint\n",
    ">  * latest: ignora lo previo al ultimo registro"
   ]
  },
  {
   "cell_type": "code",
   "execution_count": 4,
   "metadata": {
    "vscode": {
     "languageId": "plaintext"
    }
   },
   "outputs": [
    {
     "name": "stdout",
     "output_type": "stream",
     "text": [
      "\n"
     ]
    }
   ],
   "source": [
    "schema = t.StructType([\n",
    "    t.StructField(\"eventId\", t.StringType(), True),\n",
    "    t.StructField(\"eventType\", t.StringType(), True),\n",
    "    t.StructField(\"eventTimestamp\", t.StringType(), True),\n",
    "    t.StructField(\"orderId\", t.StringType(), True),\n",
    "    t.StructField(\"orderDetails\", t.StructType([\n",
    "        t.StructField(\"customerId\", t.StringType(), True),\n",
    "        t.StructField(\"orderDate\", t.StringType(), True),\n",
    "        t.StructField(\"items\", t.ArrayType(t.StructType([\n",
    "            t.StructField(\"itemId\", t.StringType(), True),\n",
    "            t.StructField(\"productName\", t.StringType(), True),\n",
    "            t.StructField(\"quantity\", t.IntegerType(), True),\n",
    "            t.StructField(\"price\", t.DoubleType(), True),\n",
    "            t.StructField(\"weight\", t.DoubleType(), True)\n",
    "        ])), True),\n",
    "        t.StructField(\"totalAmount\", t.DoubleType(), True),\n",
    "        t.StructField(\"totalWeight\", t.DoubleType(), True),\n",
    "        t.StructField(\"status\", t.StringType(), True),\n",
    "        t.StructField(\"destinationAddress\", t.StructType([\n",
    "            t.StructField(\"address_id\", t.StringType(), True),\n",
    "            t.StructField(\"neighborhood\", t.StringType(), True),\n",
    "            t.StructField(\"coordinates\", t.ArrayType(t.DoubleType()), True),\n",
    "            t.StructField(\"road\", t.StringType(), True),\n",
    "            t.StructField(\"house_number\", t.StringType(), True),\n",
    "            t.StructField(\"suburb\", t.StringType(), True),\n",
    "            t.StructField(\"city_district\", t.StringType(), True),\n",
    "            t.StructField(\"state\", t.StringType(), True),\n",
    "            t.StructField(\"postcode\", t.StringType(), True),\n",
    "            t.StructField(\"country\", t.StringType(), True),\n",
    "            t.StructField(\"lat\", t.DoubleType(), True),\n",
    "            t.StructField(\"lon\", t.DoubleType(), True)\n",
    "        ]), True),\n",
    "        t.StructField(\"paymentDetails\", t.StructType([\n",
    "            t.StructField(\"paymentMethod\", t.StringType(), True),\n",
    "            t.StructField(\"paymentStatus\", t.StringType(), True),\n",
    "            t.StructField(\"transactionId\", t.StringType(), True)\n",
    "        ]), True)\n",
    "    ]), True)\n",
    "])"
   ]
  },
  {
   "cell_type": "code",
   "execution_count": 5,
   "metadata": {
    "vscode": {
     "languageId": "plaintext"
    }
   },
   "outputs": [
    {
     "name": "stdout",
     "output_type": "stream",
     "text": [
      "\n"
     ]
    }
   ],
   "source": [
    "kinesis_order_stream = (\n",
    "    spark\n",
    "    .readStream\n",
    "    .format(\"kinesis\")\n",
    "    .option(\"streamName\", STREAM_NAME)\n",
    "    .option(\"startingPosition\", \"trim_horizon\")\n",
    "    # .option(\"startingPosition\", \"latest\")\n",
    "    .load()\n",
    ")"
   ]
  },
  {
   "cell_type": "code",
   "execution_count": 9,
   "metadata": {
    "vscode": {
     "languageId": "plaintext"
    }
   },
   "outputs": [
    {
     "name": "stdout",
     "output_type": "stream",
     "text": [
      "\n"
     ]
    }
   ],
   "source": [
    "df_order_stream = (\n",
    "    kinesis_order_stream\n",
    "    .withColumn(\"json_data\", f.col(\"data\").cast(\"string\"))\n",
    "    .withColumn(\"views\", f.from_json(\"json_data\", schema))\n",
    "    .select(\"views.*\")\n",
    ")"
   ]
  },
  {
   "cell_type": "code",
   "execution_count": 10,
   "metadata": {
    "vscode": {
     "languageId": "plaintext"
    }
   },
   "outputs": [
    {
     "name": "stdout",
     "output_type": "stream",
     "text": [
      "\n"
     ]
    }
   ],
   "source": [
    "order_stream = (\n",
    "    df_order_stream \n",
    "      .writeStream\n",
    "      .format(\"parquet\")\n",
    "      .outputMode(\"append\")\n",
    "      .trigger(processingTime='15 seconds')\n",
    "      # .trigger(availableNow=True)\n",
    "      .option(\"path\", BRONZE_ORDERS_PATH)\n",
    "      .option(\"checkpointLocation\", CHECKPOINT_LOCATION)\n",
    "      .start()\n",
    ")"
   ]
  },
  {
   "cell_type": "code",
   "execution_count": 44,
   "metadata": {
    "vscode": {
     "languageId": "plaintext"
    }
   },
   "outputs": [
    {
     "name": "stdout",
     "output_type": "stream",
     "text": [
      "True\n"
     ]
    }
   ],
   "source": [
    "order_stream.isActive"
   ]
  },
  {
   "cell_type": "code",
   "execution_count": 45,
   "metadata": {
    "vscode": {
     "languageId": "plaintext"
    }
   },
   "outputs": [
    {
     "name": "stdout",
     "output_type": "stream",
     "text": [
      "{'message': 'Waiting for next trigger', 'isDataAvailable': True, 'isTriggerActive': False}\n"
     ]
    }
   ],
   "source": [
    "order_stream.status"
   ]
  },
  {
   "cell_type": "code",
   "execution_count": 47,
   "metadata": {},
   "outputs": [
    {
     "name": "stdout",
     "output_type": "stream",
     "text": [
      "\n"
     ]
    }
   ],
   "source": [
    "order_stream.stop()"
   ]
  },
  {
   "cell_type": "code",
   "execution_count": 43,
   "metadata": {
    "vscode": {
     "languageId": "plaintext"
    }
   },
   "outputs": [
    {
     "name": "stdout",
     "output_type": "stream",
     "text": [
      "980\n"
     ]
    }
   ],
   "source": [
    "(\n",
    "    spark.read\n",
    "    .format(\"parquet\")\n",
    "    .load(BRONZE_ORDERS_PATH)\n",
    "    .count()\n",
    ")"
   ]
  },
  {
   "cell_type": "code",
   "execution_count": 17,
   "metadata": {
    "vscode": {
     "languageId": "plaintext"
    }
   },
   "outputs": [
    {
     "name": "stdout",
     "output_type": "stream",
     "text": [
      "\n"
     ]
    }
   ],
   "source": [
    "df_orders_bronze = (\n",
    "    spark.read\n",
    "    .format(\"parquet\")\n",
    "    .load(BRONZE_ORDERS_PATH)\n",
    ")"
   ]
  },
  {
   "cell_type": "code",
   "execution_count": 18,
   "metadata": {
    "vscode": {
     "languageId": "plaintext"
    }
   },
   "outputs": [
    {
     "name": "stdout",
     "output_type": "stream",
     "text": [
      "+--------------------+-------------+-------------------+--------------------+--------------------+\n",
      "|             eventId|    eventType|     eventTimestamp|             orderId|        orderDetails|\n",
      "+--------------------+-------------+-------------------+--------------------+--------------------+\n",
      "|ev-62e507a9-3284-...|ORDER_CREATED|2024-06-14 09:33:32|ord-5ec09f73-c069...|{cus-3aca0361-293...|\n",
      "|ev-8ee7e5ea-99f3-...|ORDER_CREATED|2024-06-14 09:33:38|ord-09242d35-fdfd...|{cus-6ec54ac2-167...|\n",
      "|ev-ac980014-e862-...|ORDER_CREATED|2024-06-14 09:33:44|ord-36e562c9-aa74...|{cus-abf2f169-c3f...|\n",
      "|ev-c26d13b0-b0f1-...|ORDER_CREATED|2024-06-14 09:32:47|ord-6fe080fa-495e...|{cus-3770be50-7c8...|\n",
      "|ev-2f2102dc-b954-...|ORDER_CREATED|2024-06-14 09:32:53|ord-015cb998-ad1a...|{cus-e178e747-9be...|\n",
      "|ev-ec46118f-bdd6-...|ORDER_CREATED|2024-06-14 09:32:59|ord-1a43bcbb-74f9...|{cus-2f367720-d75...|\n",
      "|ev-60fd6ae4-0164-...|ORDER_CREATED|2024-06-14 09:31:46|ord-b64e3c2c-5860...|{cus-248155a3-63d...|\n",
      "|ev-63cc8abb-c527-...|ORDER_CREATED|2024-06-14 09:31:51|ord-b8b7c2b5-6104...|{cus-002eae76-afd...|\n",
      "|ev-e052eeab-537f-...|ORDER_CREATED|2024-06-14 09:31:57|ord-e6aaf976-65fc...|{cus-4af9d763-99d...|\n",
      "|ev-c4b744f7-11ff-...|ORDER_CREATED|2024-06-14 09:30:32|ord-8884f550-478d...|{cus-64390c48-a7b...|\n",
      "|ev-61b5cb01-5d91-...|ORDER_CREATED|2024-06-14 09:30:38|ord-4232fa19-40d7...|{cus-7c9c530e-7d6...|\n",
      "|ev-404e42c8-3e42-...|ORDER_CREATED|2024-06-14 09:30:44|ord-8101ddf1-2ae7...|{cus-2d49193c-6a7...|\n",
      "|ev-18a363c8-550a-...|ORDER_CREATED|2024-06-14 09:28:33|ord-649d8125-25c5...|{cus-be73089d-202...|\n",
      "|ev-3b6eb3ec-b9e4-...|ORDER_CREATED|2024-06-14 09:28:39|ord-626db9b4-5174...|{cus-2c2bf505-517...|\n",
      "|ev-40ac7235-9ada-...|ORDER_CREATED|2024-06-14 09:28:44|ord-12d0a081-98e7...|{cus-076dd10c-3d3...|\n",
      "|ev-b4114bee-4a12-...|ORDER_CREATED|2024-06-14 09:29:01|ord-9476603c-2d5b...|{cus-7b13f8fe-8c8...|\n",
      "|ev-70997c21-b710-...|ORDER_CREATED|2024-06-14 09:29:07|ord-fe6287fc-ad93...|{cus-547347c1-958...|\n",
      "|ev-14abef0b-2e95-...|ORDER_CREATED|2024-06-14 09:29:12|ord-a3fd7125-577e...|{cus-5055a9c2-3ca...|\n",
      "|ev-1fb924e5-2c06-...|ORDER_CREATED|2024-06-14 09:35:47|ord-8dfa43c5-bedb...|{cus-4b533249-87d...|\n",
      "|ev-f6612e97-2f80-...|ORDER_CREATED|2024-06-14 09:35:52|ord-8cddcefd-8c66...|{cus-5e1167bd-f3d...|\n",
      "+--------------------+-------------+-------------------+--------------------+--------------------+\n",
      "only showing top 20 rows\n"
     ]
    }
   ],
   "source": [
    "df_orders_bronze.show()"
   ]
  },
  {
   "cell_type": "code",
   "execution_count": 24,
   "metadata": {
    "vscode": {
     "languageId": "plaintext"
    }
   },
   "outputs": [
    {
     "name": "stdout",
     "output_type": "stream",
     "text": [
      "+--------------------+-----------+--------------------+--------------------+--------------------+--------------------+------------+--------------------+-------------------+-------------------+--------+-------+------------------+-------------------+\n",
      "|             orderId|totalWeight|          address_id|        neighborhood|         coordinates|                road|house_number|              suburb|      city_district|              state|postcode|country|               lat|                lon|\n",
      "+--------------------+-----------+--------------------+--------------------+--------------------+--------------------+------------+--------------------+-------------------+-------------------+--------+-------+------------------+-------------------+\n",
      "|ord-5ec09f73-c069...|       54.7|cus-d8b58826-c538...|           Salamanca|[40.4315787171295...|Calle del Príncip...|          53|           Salamanca|                   |Comunidad de Madrid|   28006| España| 40.43220901489258|-3.6803221702575684|\n",
      "|ord-09242d35-fdfd...|       54.7|cus-9cbdec4a-4db1...|   Villa de Vallecas|[40.3649622315604...|Camino de la Magd...|            |   Villa de Vallecas|                   |Comunidad de Madrid|   28031| España| 40.36476135253906| -3.627609968185425|\n",
      "|ord-36e562c9-aa74...|       54.7|cus-2ceb2156-f2a2...|  Puente de Vallecas|[40.3853800874390...|                M-40|            |  Puente de Vallecas|                   |Comunidad de Madrid|   28031| España| 40.38629150390625|-3.6323745250701904|\n",
      "|ord-6fe080fa-495e...|       54.7|cus-f17855f1-6c47...|San Blas - Canill...|[40.4206958834028...|Vereda de la Elip...|            |San Blas - Canill...|                   |Comunidad de Madrid|   28022| España| 40.42509460449219|  -3.59130597114563|\n",
      "|ord-015cb998-ad1a...|       54.7|cus-59a00abc-11f5...|              Latina|[40.3832058137012...|Avenida de los Ar...|            |              Latina|                   |Comunidad de Madrid|   28024| España|40.383087158203125|-3.8020739555358887|\n",
      "|ord-1a43bcbb-74f9...|       54.7|cus-2af0caa4-37d4...|              Centro|[40.4178670355650...|    Calle del Arenal|            |                    |             Centro|Comunidad de Madrid|   28013| España| 40.41779327392578|-3.7083044052124023|\n",
      "|ord-b64e3c2c-5860...|       54.7|cus-78d2d658-7e29...|   Moncloa - Aravaca|[40.4784907701997...|                M-40|            |     Moncloa-Aravaca|Fuencarral-El Pardo|Comunidad de Madrid|   28035| España|40.478782653808594|-3.7541191577911377|\n",
      "|ord-b8b7c2b5-6104...|       54.7|cus-242a817a-c4bc...|              Latina|[40.3703363654357...|Carretera del Bar...|            |              Latina|                   |Comunidad de Madrid|   28917| España|40.369361877441406|-3.7835662364959717|\n",
      "|ord-e6aaf976-65fc...|       54.7|cus-74969943-dc71...|              Latina|[40.3778172399711...|Avenida de los Ar...|            |              Latina|                   |Comunidad de Madrid|   28024| España|40.383087158203125|-3.8020739555358887|\n",
      "|ord-8884f550-478d...|       54.7|cus-993813a2-fa0d...|  Puente de Vallecas|[40.4054338836176...|      Calle El Bosco|            |  Puente de Vallecas|                   |Comunidad de Madrid|   28038| España| 40.40531921386719|-3.6573681831359863|\n",
      "|ord-4232fa19-40d7...|       54.7|cus-752babe1-504a...|           Hortaleza|[40.4637774748186...|Calle de Santa Fr...|           2|           Hortaleza|                   |Comunidad de Madrid|   28043| España| 40.46399688720703|-3.6386702060699463|\n",
      "|ord-8101ddf1-2ae7...|       54.7|cus-e7a23973-0b88...|              Latina|[40.3714071686525...|Carretera del Bar...|            |              Latina|                   |Comunidad de Madrid|   28917| España|40.369361877441406|-3.7835662364959717|\n",
      "|ord-649d8125-25c5...|       54.7|cus-1eba54f7-bd62...|            Chamberí|[40.4439095566665...|    Calle de la Viña|            |            Chamberí|                   |Comunidad de Madrid|   28040| España|40.443885803222656| -3.718534469604492|\n",
      "|ord-626db9b4-5174...|       54.7|cus-73f49876-2486...|           Moratalaz|[40.4034882877719...|     Calle de Atenas|         6 A|           Moratalaz|                   |Comunidad de Madrid|   28030| España| 40.40330505371094|-3.6267428398132324|\n",
      "|ord-12d0a081-98e7...|       54.7|cus-5c6e538c-ac43...|San Blas - Canill...|[40.4456345795882...|Doña Juana I de C...|            |San Blas - Canill...|                   |Comunidad de Madrid|   28027| España|  40.4456787109375|-3.6295981407165527|\n",
      "|ord-9476603c-2d5b...|       54.7|cus-0a182a55-b7d4...|San Blas - Canill...|[40.4439582093041...|Calle de Santa Tecla|            |San Blas - Canill...|                   |Comunidad de Madrid|   28022| España| 40.44425964355469| -3.611488103866577|\n",
      "|ord-fe6287fc-ad93...|       54.7|cus-85c1385f-e42d...|       Ciudad Lineal|[40.4502728268011...|Calle Duque de Ta...|           9|       Ciudad Lineal|                   |Comunidad de Madrid|   28043| España|40.450904846191406|-3.6539669036865234|\n",
      "|ord-a3fd7125-577e...|       54.7|cus-08edd72c-c685...|          Villaverde|[40.3572299785048...|Calle de La Taber...|            |          Villaverde|                   |Comunidad de Madrid|   28041| España|40.357940673828125|-3.7048373222351074|\n",
      "|ord-8dfa43c5-bedb...|       54.7|cus-92921ff7-4a09...|   Villa de Vallecas|[40.3654715337255...|                M-45|            |   Villa de Vallecas|                   |Comunidad de Madrid|   28051| España|40.365081787109375| -3.608036756515503|\n",
      "|ord-8cddcefd-8c66...|       54.7|cus-9c73c71e-cf42...|  Puente de Vallecas|[40.3836067922231...|Calle del Campo d...|          30|  Puente de Vallecas|                   |Comunidad de Madrid|   28018| España| 40.38341522216797|-3.6473686695098877|\n",
      "+--------------------+-----------+--------------------+--------------------+--------------------+--------------------+------------+--------------------+-------------------+-------------------+--------+-------+------------------+-------------------+\n",
      "only showing top 20 rows\n"
     ]
    }
   ],
   "source": [
    "(\n",
    "    df_orders_bronze\n",
    "    .select(\n",
    "        f.col(\"orderId\"),\n",
    "        f.col(\"orderDetails.totalWeight\").alias(\"totalWeight\"),\n",
    "        f.col(\"orderDetails.destinationAddress.address_id\").alias(\"address_id\"),\n",
    "        f.col(\"orderDetails.destinationAddress.neighborhood\").alias(\"neighborhood\"),\n",
    "        f.col(\"orderDetails.destinationAddress.coordinates\").alias(\"coordinates\"),\n",
    "        f.col(\"orderDetails.destinationAddress.road\").alias(\"road\"),\n",
    "        f.col(\"orderDetails.destinationAddress.house_number\").alias(\"house_number\"),\n",
    "        f.col(\"orderDetails.destinationAddress.suburb\").alias(\"suburb\"),\n",
    "        f.col(\"orderDetails.destinationAddress.city_district\").alias(\"city_district\"),\n",
    "        f.col(\"orderDetails.destinationAddress.state\").alias(\"state\"),\n",
    "        f.col(\"orderDetails.destinationAddress.postcode\").alias(\"postcode\"),\n",
    "        f.col(\"orderDetails.destinationAddress.country\").alias(\"country\"),\n",
    "        f.col(\"orderDetails.destinationAddress.lat\").alias(\"lat\"),\n",
    "        f.col(\"orderDetails.destinationAddress.lon\").alias(\"lon\"),\n",
    "    )\n",
    "    .show()\n",
    ")"
   ]
  },
  {
   "cell_type": "code",
   "execution_count": 29,
   "metadata": {},
   "outputs": [
    {
     "name": "stdout",
     "output_type": "stream",
     "text": [
      "+--------------------+--------------------+-----------+--------+------+------+\n",
      "|             orderId|              itemId|productName|quantity| price|weight|\n",
      "+--------------------+--------------------+-----------+--------+------+------+\n",
      "|ord-5ec09f73-c069...|111e2222-e33b-44d...|    armario|       1|699.99|  23.5|\n",
      "|ord-5ec09f73-c069...|222e3333-e44b-55d...|      silla|       2| 49.99|  15.6|\n",
      "|ord-09242d35-fdfd...|111e2222-e33b-44d...|    armario|       1|699.99|  23.5|\n",
      "|ord-09242d35-fdfd...|222e3333-e44b-55d...|      silla|       2| 49.99|  15.6|\n",
      "|ord-36e562c9-aa74...|111e2222-e33b-44d...|    armario|       1|699.99|  23.5|\n",
      "|ord-36e562c9-aa74...|222e3333-e44b-55d...|      silla|       2| 49.99|  15.6|\n",
      "|ord-6fe080fa-495e...|111e2222-e33b-44d...|    armario|       1|699.99|  23.5|\n",
      "|ord-6fe080fa-495e...|222e3333-e44b-55d...|      silla|       2| 49.99|  15.6|\n",
      "|ord-015cb998-ad1a...|111e2222-e33b-44d...|    armario|       1|699.99|  23.5|\n",
      "|ord-015cb998-ad1a...|222e3333-e44b-55d...|      silla|       2| 49.99|  15.6|\n",
      "|ord-1a43bcbb-74f9...|111e2222-e33b-44d...|    armario|       1|699.99|  23.5|\n",
      "|ord-1a43bcbb-74f9...|222e3333-e44b-55d...|      silla|       2| 49.99|  15.6|\n",
      "|ord-b64e3c2c-5860...|111e2222-e33b-44d...|    armario|       1|699.99|  23.5|\n",
      "|ord-b64e3c2c-5860...|222e3333-e44b-55d...|      silla|       2| 49.99|  15.6|\n",
      "|ord-b8b7c2b5-6104...|111e2222-e33b-44d...|    armario|       1|699.99|  23.5|\n",
      "|ord-b8b7c2b5-6104...|222e3333-e44b-55d...|      silla|       2| 49.99|  15.6|\n",
      "|ord-e6aaf976-65fc...|111e2222-e33b-44d...|    armario|       1|699.99|  23.5|\n",
      "|ord-e6aaf976-65fc...|222e3333-e44b-55d...|      silla|       2| 49.99|  15.6|\n",
      "|ord-8884f550-478d...|111e2222-e33b-44d...|    armario|       1|699.99|  23.5|\n",
      "|ord-8884f550-478d...|222e3333-e44b-55d...|      silla|       2| 49.99|  15.6|\n",
      "+--------------------+--------------------+-----------+--------+------+------+\n",
      "only showing top 20 rows\n"
     ]
    }
   ],
   "source": [
    "(\n",
    "    df_orders_bronze\n",
    "    .withColumn(\"exploded_order\", f.explode(f.col(\"orderDetails.items\")))\n",
    "    .select(\n",
    "        f.col(\"orderId\"),\n",
    "        f.col(\"exploded_order.itemId\").alias(\"itemId\"),\n",
    "        f.col(\"exploded_order.productName\").alias(\"productName\"),\n",
    "        f.col(\"exploded_order.quantity\").alias(\"quantity\"),\n",
    "        f.col(\"exploded_order.price\").alias(\"price\"),\n",
    "        f.col(\"exploded_order.weight\").alias(\"weight\"),\n",
    "    )\n",
    "    .show()\n",
    ")"
   ]
  },
  {
   "cell_type": "code",
   "execution_count": 42,
   "metadata": {},
   "outputs": [
    {
     "name": "stdout",
     "output_type": "stream",
     "text": [
      "8314.399999999998\n"
     ]
    }
   ],
   "source": [
    "# weight treshold \n",
    "(\n",
    "    df_orders_bronze\n",
    "    .select(\n",
    "        f.sum(f.col(\"orderDetails.totalWeight\")).alias(\"totalWeight\")\n",
    "    ).collect()[0][\"totalWeight\"]\n",
    ")"
   ]
  },
  {
   "cell_type": "code",
   "execution_count": null,
   "metadata": {},
   "outputs": [],
   "source": []
  },
  {
   "cell_type": "markdown",
   "metadata": {},
   "source": [
    "## OLD TESTS "
   ]
  },
  {
   "cell_type": "markdown",
   "metadata": {},
   "source": [
    "### Do not run"
   ]
  },
  {
   "cell_type": "code",
   "execution_count": null,
   "metadata": {
    "vscode": {
     "languageId": "python_glue_session"
    }
   },
   "outputs": [
    {
     "name": "stdout",
     "output_type": "stream",
     "text": [
      "\n"
     ]
    }
   ],
   "source": [
    "kinesis_stream = (\n",
    "    spark\n",
    "    .readStream\n",
    "    .format(\"kinesis\")\n",
    "    .option(\"streamName\", STREAM_NAME)\n",
    "    .option(\"startingPosition\", \"trim_horizon\")\n",
    "    # .option(\"startingPosition\", \"latest\")\n",
    "    .load()\n",
    ")"
   ]
  },
  {
   "cell_type": "code",
   "execution_count": null,
   "metadata": {
    "vscode": {
     "languageId": "python_glue_session"
    }
   },
   "outputs": [
    {
     "name": "stdout",
     "output_type": "stream",
     "text": [
      "root\n",
      " |-- data: binary (nullable = true)\n",
      " |-- streamName: string (nullable = true)\n",
      " |-- partitionKey: string (nullable = true)\n",
      " |-- sequenceNumber: string (nullable = true)\n",
      " |-- approximateArrivalTimestamp: timestamp (nullable = true)\n"
     ]
    }
   ],
   "source": [
    "kinesis_stream.printSchema()"
   ]
  },
  {
   "cell_type": "code",
   "execution_count": null,
   "metadata": {
    "vscode": {
     "languageId": "python_glue_session"
    }
   },
   "outputs": [
    {
     "name": "stdout",
     "output_type": "stream",
     "text": [
      "\n"
     ]
    }
   ],
   "source": [
    "stream = (\n",
    "    kinesis_stream.writeStream\n",
    "    .format(\"memory\")\n",
    "    .queryName(\"kinesis\")\n",
    "    .option(\"checkpointLocation\", f\"s3://{BUCKET_NAME}/orders/checkpoints\")\n",
    "    .start()\n",
    ")"
   ]
  },
  {
   "cell_type": "code",
   "execution_count": null,
   "metadata": {
    "vscode": {
     "languageId": "python_glue_session"
    }
   },
   "outputs": [
    {
     "name": "stdout",
     "output_type": "stream",
     "text": [
      "+--------------------+-------------+--------------------+--------------------+---------------------------+\n",
      "|                data|   streamName|        partitionKey|      sequenceNumber|approximateArrivalTimestamp|\n",
      "+--------------------+-------------+--------------------+--------------------+---------------------------+\n",
      "|[7B 22 65 76 65 6...|orders_stream|ord-26deb37f-37ab...|49652844364975988...|       2024-06-10 16:36:...|\n",
      "|[7B 22 65 76 65 6...|orders_stream|ord-af26e714-634b...|49652844364975988...|       2024-06-10 16:37:...|\n",
      "|[7B 22 65 76 65 6...|orders_stream|ord-af26e714-634b...|49652844364975988...|       2024-06-10 16:42:...|\n",
      "|[7B 22 65 76 65 6...|orders_stream|       ORDER_CREATED|49652844364975988...|       2024-06-10 16:49:...|\n",
      "|[7B 22 65 76 65 6...|orders_stream|       ORDER_CREATED|49652844364975988...|       2024-06-10 16:57:...|\n",
      "|[7B 22 65 76 65 6...|orders_stream|       ORDER_CREATED|49652844364975988...|       2024-06-10 16:58:...|\n",
      "|[7B 22 65 76 65 6...|orders_stream|       ORDER_CREATED|49652844364975988...|       2024-06-10 17:47:...|\n",
      "|[7B 22 65 76 65 6...|orders_stream|       ORDER_CREATED|49652844364975988...|       2024-06-10 17:47:...|\n",
      "|[7B 22 65 76 65 6...|orders_stream|       ORDER_CREATED|49652844364975988...|       2024-06-10 17:47:...|\n",
      "|[7B 22 65 76 65 6...|orders_stream|       ORDER_CREATED|49652844364975988...|       2024-06-10 17:47:...|\n",
      "|[7B 22 65 76 65 6...|orders_stream|       ORDER_CREATED|49652844364975988...|       2024-06-10 17:47:...|\n",
      "|[7B 22 65 76 65 6...|orders_stream|       ORDER_CREATED|49652844364975988...|       2024-06-10 17:47:...|\n",
      "|[7B 22 65 76 65 6...|orders_stream|       ORDER_CREATED|49652844364975988...|       2024-06-10 17:47:...|\n",
      "|[7B 22 65 76 65 6...|orders_stream|       ORDER_CREATED|49652844364975988...|       2024-06-10 17:47:...|\n",
      "|[7B 22 65 76 65 6...|orders_stream|       ORDER_CREATED|49652844364975988...|       2024-06-10 17:47:...|\n",
      "|[7B 22 65 76 65 6...|orders_stream|       ORDER_CREATED|49652844364975988...|       2024-06-10 17:47:...|\n",
      "|[7B 22 65 76 65 6...|orders_stream|       ORDER_CREATED|49652844364975988...|       2024-06-10 17:47:...|\n",
      "|[7B 22 65 76 65 6...|orders_stream|       ORDER_CREATED|49652844364975988...|       2024-06-10 17:47:...|\n",
      "|[7B 22 65 76 65 6...|orders_stream|       ORDER_CREATED|49652844364975988...|       2024-06-10 17:47:...|\n",
      "|[7B 22 65 76 65 6...|orders_stream|       ORDER_CREATED|49652844364975988...|       2024-06-10 17:47:...|\n",
      "+--------------------+-------------+--------------------+--------------------+---------------------------+\n",
      "only showing top 20 rows\n"
     ]
    }
   ],
   "source": [
    "spark.table(\"kinesis\").show()"
   ]
  },
  {
   "cell_type": "code",
   "execution_count": 16,
   "metadata": {
    "vscode": {
     "languageId": "python_glue_session"
    }
   },
   "outputs": [
    {
     "name": "stdout",
     "output_type": "stream",
     "text": [
      "\n"
     ]
    }
   ],
   "source": [
    "df_orders_stream = (\n",
    "    kinesis_stream\n",
    "    .withColumn(\"json_data\", f.col(\"data\").cast(\"string\"))\n",
    "    .withColumn(\"views\", f.from_json(\"json_data\", schema))\n",
    "    .select(\"views.*\")\n",
    ")"
   ]
  },
  {
   "cell_type": "code",
   "execution_count": 17,
   "metadata": {
    "vscode": {
     "languageId": "python_glue_session"
    }
   },
   "outputs": [
    {
     "name": "stdout",
     "output_type": "stream",
     "text": [
      "root\n",
      " |-- eventId: string (nullable = true)\n",
      " |-- eventType: string (nullable = true)\n",
      " |-- eventTimestamp: string (nullable = true)\n",
      " |-- orderId: string (nullable = true)\n",
      " |-- orderDetails: struct (nullable = true)\n",
      " |    |-- customerId: string (nullable = true)\n",
      " |    |-- orderDate: string (nullable = true)\n",
      " |    |-- items: array (nullable = true)\n",
      " |    |    |-- element: struct (containsNull = true)\n",
      " |    |    |    |-- itemId: string (nullable = true)\n",
      " |    |    |    |-- productName: string (nullable = true)\n",
      " |    |    |    |-- quantity: integer (nullable = true)\n",
      " |    |    |    |-- price: double (nullable = true)\n",
      " |    |    |    |-- weight: double (nullable = true)\n",
      " |    |-- totalAmount: double (nullable = true)\n",
      " |    |-- totalWeight: double (nullable = true)\n",
      " |    |-- status: string (nullable = true)\n",
      " |    |-- destinationAddress: struct (nullable = true)\n",
      " |    |    |-- address_id: string (nullable = true)\n",
      " |    |    |-- neighborhood: string (nullable = true)\n",
      " |    |    |-- coordinates: array (nullable = true)\n",
      " |    |    |    |-- element: double (containsNull = true)\n",
      " |    |    |-- road: string (nullable = true)\n",
      " |    |    |-- house_number: string (nullable = true)\n",
      " |    |    |-- suburb: string (nullable = true)\n",
      " |    |    |-- city_district: string (nullable = true)\n",
      " |    |    |-- state: string (nullable = true)\n",
      " |    |    |-- postcode: string (nullable = true)\n",
      " |    |    |-- country: string (nullable = true)\n",
      " |    |    |-- lat: double (nullable = true)\n",
      " |    |    |-- lon: double (nullable = true)\n",
      " |    |-- paymentDetails: struct (nullable = true)\n",
      " |    |    |-- paymentMethod: string (nullable = true)\n",
      " |    |    |-- paymentStatus: string (nullable = true)\n",
      " |    |    |-- transactionId: string (nullable = true)\n"
     ]
    }
   ],
   "source": [
    "df_orders_stream.printSchema()"
   ]
  },
  {
   "cell_type": "code",
   "execution_count": 19,
   "metadata": {
    "vscode": {
     "languageId": "python_glue_session"
    }
   },
   "outputs": [
    {
     "name": "stdout",
     "output_type": "stream",
     "text": [
      "\n"
     ]
    }
   ],
   "source": [
    "check_num = 1"
   ]
  },
  {
   "cell_type": "code",
   "execution_count": 20,
   "metadata": {
    "vscode": {
     "languageId": "python_glue_session"
    }
   },
   "outputs": [
    {
     "name": "stdout",
     "output_type": "stream",
     "text": [
      "\n"
     ]
    }
   ],
   "source": [
    "orders_stream = (\n",
    "    df_orders_stream.writeStream\n",
    "    .format(\"memory\")\n",
    "    .queryName(\"orders_messages\")\n",
    "    .option(\"checkpointLocation\", f\"s3://{BUCKET_NAME}/orders/checkpoints/orders_messages-processed_{str(check_num)}\")\n",
    "    .start()\n",
    ")"
   ]
  },
  {
   "cell_type": "code",
   "execution_count": 23,
   "metadata": {
    "vscode": {
     "languageId": "python_glue_session"
    }
   },
   "outputs": [
    {
     "name": "stdout",
     "output_type": "stream",
     "text": [
      "+--------------------+-------------+-------------------+--------------------+--------------------+\n",
      "|             eventId|    eventType|     eventTimestamp|             orderId|        orderDetails|\n",
      "+--------------------+-------------+-------------------+--------------------+--------------------+\n",
      "|ev-983c9229-39cf-...|ORDER_CREATED|2024-06-10 16:35:38|ord-26deb37f-37ab...|{cus-9a6459ad-ca3...|\n",
      "|ev-b5dbeaa3-5ef8-...|ORDER_CREATED|2024-06-10 16:37:29|ord-af26e714-634b...|{cus-60e5dfe0-02a...|\n",
      "|ev-b5dbeaa3-5ef8-...|ORDER_CREATED|2024-06-10 16:37:29|ord-af26e714-634b...|{cus-60e5dfe0-02a...|\n",
      "|ev-847168d8-c80f-...|ORDER_CREATED|2024-06-10 16:49:03|ord-54e07435-a302...|{cus-ae432b6f-bbf...|\n",
      "|ev-ed47f0b3-c999-...|ORDER_CREATED|2024-06-10 16:57:46|ord-52f43dab-233d...|{cus-fc4ace38-637...|\n",
      "|ev-ed47f0b3-c999-...|ORDER_CREATED|2024-06-10 16:57:46|ord-52f43dab-233d...|{cus-fc4ace38-637...|\n",
      "|ev-4c91e918-8220-...|ORDER_CREATED|2024-06-10 17:47:02|ord-ba23c6fa-1857...|{cus-32814c81-4d1...|\n",
      "|ev-7240bf8f-9545-...|ORDER_CREATED|2024-06-10 17:47:05|ord-54a6f8da-212f...|{cus-da95ef11-cff...|\n",
      "|ev-2e2a91f8-4c59-...|ORDER_CREATED|2024-06-10 17:47:07|ord-6aa84861-fc0e...|{cus-9c6d3cd9-90d...|\n",
      "|ev-e2561c20-07b1-...|ORDER_CREATED|2024-06-10 17:47:09|ord-9409804d-1078...|{cus-6715a39e-4d9...|\n",
      "|ev-53e30cb8-3857-...|ORDER_CREATED|2024-06-10 17:47:11|ord-a3c0a16a-5fa9...|{cus-7b22b9a5-2c9...|\n",
      "|ev-5ef4685c-7cbb-...|ORDER_CREATED|2024-06-10 17:47:14|ord-31463173-2234...|{cus-a9bb5edb-bae...|\n",
      "|ev-24bd8ffd-5952-...|ORDER_CREATED|2024-06-10 17:47:16|ord-9fceb713-f690...|{cus-d2bc362c-7f0...|\n",
      "|ev-6de1809f-13d1-...|ORDER_CREATED|2024-06-10 17:47:18|ord-3ca8135e-991c...|{cus-fb736dfe-150...|\n",
      "|ev-48143211-4e81-...|ORDER_CREATED|2024-06-10 17:47:20|ord-9d2b79bb-cdd7...|{cus-8403bad3-362...|\n",
      "|ev-a6f05c83-bf54-...|ORDER_CREATED|2024-06-10 17:47:22|ord-e649213f-f317...|{cus-1f7e7bab-692...|\n",
      "|ev-143fa9c8-053c-...|ORDER_CREATED|2024-06-10 17:47:25|ord-3877096d-dfde...|{cus-8bcb1b91-114...|\n",
      "|ev-41b2b281-17ca-...|ORDER_CREATED|2024-06-10 17:47:27|ord-f44a4eb3-0f9f...|{cus-ced6c963-d4b...|\n",
      "|ev-fc66f88e-80a9-...|ORDER_CREATED|2024-06-10 17:47:29|ord-07b11b51-29d5...|{cus-4db0aed5-278...|\n",
      "|ev-5aaf0ec7-f93c-...|ORDER_CREATED|2024-06-10 17:47:31|ord-b289a7b6-dbba...|{cus-257a9223-80b...|\n",
      "+--------------------+-------------+-------------------+--------------------+--------------------+\n",
      "only showing top 20 rows\n"
     ]
    }
   ],
   "source": [
    "spark.table(\"orders_messages\")"
   ]
  },
  {
   "cell_type": "code",
   "execution_count": 29,
   "metadata": {
    "vscode": {
     "languageId": "python_glue_session"
    }
   },
   "outputs": [
    {
     "name": "stdout",
     "output_type": "stream",
     "text": [
      "\n"
     ]
    }
   ],
   "source": [
    "spark.streams.active[0].stop()"
   ]
  },
  {
   "cell_type": "code",
   "execution_count": null,
   "metadata": {
    "vscode": {
     "languageId": "python_glue_session"
    }
   },
   "outputs": [],
   "source": [
    "(\n",
    "    kinesis_stream\n",
    "    .withColumn(\"json_data\", f.col(\"data\").cast(\"string\"))\n",
    "    .withColumn(\"views\", f.from_json(\"json_data\", schema))\n",
    "    .select(\"views.*\")\n",
    ")"
   ]
  }
 ],
 "metadata": {
  "kernelspec": {
   "display_name": "Glue PySpark",
   "language": "python",
   "name": "glue_pyspark"
  },
  "language_info": {
   "codemirror_mode": {
    "name": "python",
    "version": 3
   },
   "file_extension": ".py",
   "mimetype": "text/x-python",
   "name": "Python_Glue_Session",
   "pygments_lexer": "python3"
  }
 },
 "nbformat": 4,
 "nbformat_minor": 4
}
