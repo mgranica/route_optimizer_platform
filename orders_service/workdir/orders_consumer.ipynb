{
 "cells": [
  {
   "cell_type": "code",
   "execution_count": 7,
   "metadata": {
    "vscode": {
     "languageId": "python_glue_session"
    }
   },
   "outputs": [
    {
     "name": "stdout",
     "output_type": "stream",
     "text": [
      "Welcome to the Glue Interactive Sessions Kernel\n",
      "For more information on available magic commands, please type %help in any new cell.\n",
      "\n",
      "Please view our Getting Started page to access the most up-to-date information on the Interactive Sessions kernel: https://docs.aws.amazon.com/glue/latest/dg/interactive-sessions.html\n",
      "It looks like there is a newer version of the kernel available. The latest version is 1.0.6 and you have 1.0.4 installed.\n",
      "Please run `pip install --upgrade aws-glue-sessions` to upgrade your kernel\n",
      "Previous session type: etl\n",
      "Setting new session type to Streaming\n",
      "Current iam_role is None\n",
      "iam_role has been set to arn:aws:iam::484183516222:role/LabRole.\n",
      "Previous region: None\n",
      "Setting new region to: us-east-1\n",
      "Region is set to: us-east-1\n",
      "Previous number of workers: None\n",
      "Setting new number of workers to: 2\n",
      "Current idle_timeout is None minutes.\n",
      "idle_timeout has been set to 60 minutes.\n",
      "The following configurations have been updated: {'--conf': 'spark.sql.extensions=io.delta.sql.DeltaSparkSessionExtension --conf spark.sql.catalog.spark_catalog=org.apache.spark.sql.delta.catalog.DeltaCatalog', '--datalake-formats': 'delta'}\n"
     ]
    }
   ],
   "source": [
    "%streaming\n",
    "%iam_role arn:aws:iam::484183516222:role/LabRole\n",
    "%region us-east-1\n",
    "%number_of_workers 2\n",
    "%idle_timeout 60\n",
    "%%configure \n",
    "{\n",
    "  \"--conf\": \"spark.sql.extensions=io.delta.sql.DeltaSparkSessionExtension --conf spark.sql.catalog.spark_catalog=org.apache.spark.sql.delta.catalog.DeltaCatalog\",\n",
    "  \"--datalake-formats\": \"delta\"\n",
    "}"
   ]
  },
  {
   "cell_type": "code",
   "execution_count": 1,
   "metadata": {
    "vscode": {
     "languageId": "python_glue_session"
    }
   },
   "outputs": [
    {
     "name": "stdout",
     "output_type": "stream",
     "text": [
      "Trying to create a Glue session for the kernel.\n",
      "Session Type: streaming\n",
      "Worker Type: G.1X\n",
      "Number of Workers: 2\n",
      "Session ID: c65af7f2-7743-4c2d-9d7d-d0ed144e3680\n",
      "Applying the following default arguments:\n",
      "--glue_kernel_version 1.0.4\n",
      "--enable-glue-datacatalog true\n",
      "--conf spark.sql.extensions=io.delta.sql.DeltaSparkSessionExtension --conf spark.sql.catalog.spark_catalog=org.apache.spark.sql.delta.catalog.DeltaCatalog\n",
      "--datalake-formats delta\n",
      "Waiting for session c65af7f2-7743-4c2d-9d7d-d0ed144e3680 to get into ready status...\n",
      "Session c65af7f2-7743-4c2d-9d7d-d0ed144e3680 has been created.\n",
      "<pyspark.sql.session.SparkSession object at 0x7fc9eb9afb80>\n"
     ]
    }
   ],
   "source": [
    "spark"
   ]
  },
  {
   "cell_type": "markdown",
   "metadata": {},
   "source": [
    "# 1. Environment Configuration"
   ]
  },
  {
   "cell_type": "markdown",
   "metadata": {},
   "source": [
    "## 1.1 Import dependencies"
   ]
  },
  {
   "cell_type": "code",
   "execution_count": 2,
   "metadata": {
    "vscode": {
     "languageId": "python_glue_session"
    }
   },
   "outputs": [
    {
     "name": "stdout",
     "output_type": "stream",
     "text": [
      "\n"
     ]
    }
   ],
   "source": [
    "import boto3\n",
    "import json\n",
    "import os\n",
    "from uuid import uuid4\n",
    "from datetime import datetime\n",
    "from datetime import timedelta\n",
    "import time\n",
    "\n",
    "import pyspark.sql.types as t\n",
    "import pyspark.sql.functions as f"
   ]
  },
  {
   "cell_type": "markdown",
   "metadata": {},
   "source": [
    "## 1.2 Constants Variables"
   ]
  },
  {
   "cell_type": "code",
   "execution_count": 3,
   "metadata": {
    "vscode": {
     "languageId": "python_glue_session"
    }
   },
   "outputs": [
    {
     "name": "stdout",
     "output_type": "stream",
     "text": [
      "\n"
     ]
    }
   ],
   "source": [
    "BUCKET_NAME = \"vrpoptimiserplatform\"\n",
    "ORDERS = \"orders\"\n",
    "STREAM_NAME = \"orders_stream\"\n",
    "\n",
    "BRONZE = \"bronze\"\n",
    "SILVER = \"silver\"\n",
    "GOLD = \"gold\"\n",
    "\n",
    "ORDERS_TABLE = \"orders_table\"\n",
    "\n",
    "CHECKPOINT_LOCATION = f\"s3a://{BUCKET_NAME}/{ORDERS}/checkpoints/orders\"\n",
    "\n",
    "BRONZE_ORDERS_PATH = f\"s3a://{BUCKET_NAME}/{ORDERS}/{BRONZE}/{ORDERS_TABLE}\"\n",
    "\n",
    "SILVER_ORDERS_PATH = f\"s3a://{BUCKET_NAME}/{ORDERS}/{SILVER}/{ORDERS_TABLE}\"\n",
    "\n",
    "GOLD_ORDERS_PATH = f\"s3a://{BUCKET_NAME}/{ORDERS}/{GOLD}/{ORDERS_TABLE}\""
   ]
  },
  {
   "cell_type": "markdown",
   "metadata": {},
   "source": [
    "# 2. Stream Interaction with Kinesis"
   ]
  },
  {
   "cell_type": "markdown",
   "metadata": {},
   "source": [
    "## 2.1 Read Stream"
   ]
  },
  {
   "cell_type": "markdown",
   "metadata": {},
   "source": [
    "> startingPosition indica el punto de incio de lectura del stream, sus opciones son:\n",
    ">  * trim_horizon: primer dato del stream o el primer registro incluido en el checkpoint\n",
    ">  * latest: ignora lo previo al ultimo registro"
   ]
  },
  {
   "cell_type": "code",
   "execution_count": 4,
   "metadata": {
    "vscode": {
     "languageId": "plaintext"
    }
   },
   "outputs": [
    {
     "name": "stdout",
     "output_type": "stream",
     "text": [
      "\n"
     ]
    }
   ],
   "source": [
    "schema = t.StructType([\n",
    "    t.StructField(\"event_id\", t.StringType(), True),\n",
    "    t.StructField(\"event_type\", t.StringType(), True),\n",
    "    t.StructField(\"event_timestamp\", t.StringType(), True),\n",
    "    t.StructField(\"order_id\", t.StringType(), True),\n",
    "    t.StructField(\"order_details\", t.StructType([\n",
    "        t.StructField(\"customer_id\", t.StringType(), True),\n",
    "        t.StructField(\"order_date\", t.StringType(), True),\n",
    "        t.StructField(\"items\", t.ArrayType(t.StructType([\n",
    "            t.StructField(\"product_id\", t.StringType(), True),\n",
    "            t.StructField(\"product_name\", t.StringType(), True),\n",
    "            t.StructField(\"price\", t.DoubleType(), True),\n",
    "            t.StructField(\"weight\", t.DoubleType(), True),\n",
    "            t.StructField(\"quantity\", t.IntegerType(), True),\n",
    "        ])), True),\n",
    "        t.StructField(\"total_amount\", t.DoubleType(), True),\n",
    "        t.StructField(\"total_weight\", t.DoubleType(), True),\n",
    "        t.StructField(\"status\", t.StringType(), True),\n",
    "        t.StructField(\"destination_address\", t.StructType([\n",
    "            t.StructField(\"address_id\", t.StringType(), True),\n",
    "            t.StructField(\"neighborhood\", t.StringType(), True),\n",
    "            t.StructField(\"coordinates\", t.ArrayType(t.DoubleType()), True),\n",
    "            t.StructField(\"road\", t.StringType(), True),\n",
    "            t.StructField(\"house_number\", t.StringType(), True),\n",
    "            t.StructField(\"suburb\", t.StringType(), True),\n",
    "            t.StructField(\"city_district\", t.StringType(), True),\n",
    "            t.StructField(\"state\", t.StringType(), True),\n",
    "            t.StructField(\"postcode\", t.StringType(), True),\n",
    "            t.StructField(\"country\", t.StringType(), True),\n",
    "            t.StructField(\"lat\", t.DoubleType(), True),\n",
    "            t.StructField(\"lon\", t.DoubleType(), True)\n",
    "        ]), True),\n",
    "        t.StructField(\"payment_details\", t.StructType([\n",
    "            t.StructField(\"payment_method\", t.StringType(), True),\n",
    "            t.StructField(\"payment_status\", t.StringType(), True),\n",
    "            t.StructField(\"transaction_id\", t.StringType(), True)\n",
    "        ]), True)\n",
    "    ]), True)\n",
    "])"
   ]
  },
  {
   "cell_type": "code",
   "execution_count": 5,
   "metadata": {
    "vscode": {
     "languageId": "plaintext"
    }
   },
   "outputs": [
    {
     "name": "stdout",
     "output_type": "stream",
     "text": [
      "\n"
     ]
    }
   ],
   "source": [
    "kinesis_order_stream = (\n",
    "    spark\n",
    "    .readStream\n",
    "    .format(\"kinesis\")\n",
    "    .option(\"streamName\", STREAM_NAME)\n",
    "    .option(\"startingPosition\", \"trim_horizon\")\n",
    "    # .option(\"startingPosition\", \"latest\")\n",
    "    .load()\n",
    ")"
   ]
  },
  {
   "cell_type": "code",
   "execution_count": 6,
   "metadata": {},
   "outputs": [
    {
     "name": "stdout",
     "output_type": "stream",
     "text": [
      "root\n",
      " |-- data: binary (nullable = true)\n",
      " |-- streamName: string (nullable = true)\n",
      " |-- partitionKey: string (nullable = true)\n",
      " |-- sequenceNumber: string (nullable = true)\n",
      " |-- approximateArrivalTimestamp: timestamp (nullable = true)\n"
     ]
    }
   ],
   "source": [
    "kinesis_order_stream.printSchema()"
   ]
  },
  {
   "cell_type": "code",
   "execution_count": 7,
   "metadata": {
    "vscode": {
     "languageId": "plaintext"
    }
   },
   "outputs": [
    {
     "name": "stdout",
     "output_type": "stream",
     "text": [
      "\n"
     ]
    }
   ],
   "source": [
    "df_order_stream = (\n",
    "    kinesis_order_stream\n",
    "    .withColumn(\"json_data\", f.col(\"data\").cast(\"string\"))\n",
    "    .withColumn(\"views\", f.from_json(\"json_data\", schema))\n",
    "    .select(\"views.*\")\n",
    ")"
   ]
  },
  {
   "cell_type": "code",
   "execution_count": 8,
   "metadata": {},
   "outputs": [
    {
     "name": "stdout",
     "output_type": "stream",
     "text": [
      "root\n",
      " |-- event_id: string (nullable = true)\n",
      " |-- event_type: string (nullable = true)\n",
      " |-- event_timestamp: string (nullable = true)\n",
      " |-- order_id: string (nullable = true)\n",
      " |-- order_details: struct (nullable = true)\n",
      " |    |-- customer_id: string (nullable = true)\n",
      " |    |-- order_date: string (nullable = true)\n",
      " |    |-- items: array (nullable = true)\n",
      " |    |    |-- element: struct (containsNull = true)\n",
      " |    |    |    |-- product_id: string (nullable = true)\n",
      " |    |    |    |-- product_name: string (nullable = true)\n",
      " |    |    |    |-- price: double (nullable = true)\n",
      " |    |    |    |-- weight: double (nullable = true)\n",
      " |    |    |    |-- quantity: integer (nullable = true)\n",
      " |    |-- total_amount: double (nullable = true)\n",
      " |    |-- total_weight: double (nullable = true)\n",
      " |    |-- status: string (nullable = true)\n",
      " |    |-- destination_address: struct (nullable = true)\n",
      " |    |    |-- address_id: string (nullable = true)\n",
      " |    |    |-- neighborhood: string (nullable = true)\n",
      " |    |    |-- coordinates: array (nullable = true)\n",
      " |    |    |    |-- element: double (containsNull = true)\n",
      " |    |    |-- road: string (nullable = true)\n",
      " |    |    |-- house_number: string (nullable = true)\n",
      " |    |    |-- suburb: string (nullable = true)\n",
      " |    |    |-- city_district: string (nullable = true)\n",
      " |    |    |-- state: string (nullable = true)\n",
      " |    |    |-- postcode: string (nullable = true)\n",
      " |    |    |-- country: string (nullable = true)\n",
      " |    |    |-- lat: double (nullable = true)\n",
      " |    |    |-- lon: double (nullable = true)\n",
      " |    |-- payment_details: struct (nullable = true)\n",
      " |    |    |-- payment_method: string (nullable = true)\n",
      " |    |    |-- payment_status: string (nullable = true)\n",
      " |    |    |-- transaction_id: string (nullable = true)\n"
     ]
    }
   ],
   "source": [
    "df_order_stream.printSchema()"
   ]
  },
  {
   "cell_type": "code",
   "execution_count": 9,
   "metadata": {
    "vscode": {
     "languageId": "plaintext"
    }
   },
   "outputs": [
    {
     "name": "stdout",
     "output_type": "stream",
     "text": [
      "\n"
     ]
    }
   ],
   "source": [
    "order_stream = (\n",
    "    df_order_stream \n",
    "      .writeStream\n",
    "      .format(\"parquet\")\n",
    "      .outputMode(\"append\")\n",
    "      .trigger(processingTime='15 seconds')\n",
    "      # .trigger(availableNow=True)\n",
    "      .option(\"path\", BRONZE_ORDERS_PATH)\n",
    "      .option(\"checkpointLocation\", CHECKPOINT_LOCATION)\n",
    "      .start()\n",
    ")"
   ]
  },
  {
   "cell_type": "code",
   "execution_count": 10,
   "metadata": {
    "vscode": {
     "languageId": "plaintext"
    }
   },
   "outputs": [
    {
     "name": "stdout",
     "output_type": "stream",
     "text": [
      "True\n"
     ]
    }
   ],
   "source": [
    "order_stream.isActive"
   ]
  },
  {
   "cell_type": "code",
   "execution_count": 11,
   "metadata": {
    "vscode": {
     "languageId": "plaintext"
    }
   },
   "outputs": [
    {
     "name": "stdout",
     "output_type": "stream",
     "text": [
      "{'message': 'Processing new data', 'isDataAvailable': True, 'isTriggerActive': True}\n"
     ]
    }
   ],
   "source": [
    "order_stream.status"
   ]
  },
  {
   "cell_type": "code",
   "execution_count": 12,
   "metadata": {
    "vscode": {
     "languageId": "plaintext"
    }
   },
   "outputs": [
    {
     "name": "stdout",
     "output_type": "stream",
     "text": [
      "\n"
     ]
    }
   ],
   "source": [
    "order_stream.lastProgress"
   ]
  },
  {
   "cell_type": "code",
   "execution_count": null,
   "metadata": {
    "vscode": {
     "languageId": "python_glue_session"
    }
   },
   "outputs": [],
   "source": [
    "order_stream.stop()"
   ]
  },
  {
   "cell_type": "code",
   "execution_count": 13,
   "metadata": {
    "vscode": {
     "languageId": "plaintext"
    }
   },
   "outputs": [
    {
     "name": "stdout",
     "output_type": "stream",
     "text": [
      "288\n"
     ]
    }
   ],
   "source": [
    "(\n",
    "    spark.read\n",
    "    .format(\"parquet\")\n",
    "    .load(BRONZE_ORDERS_PATH)\n",
    "    .count()\n",
    ")"
   ]
  },
  {
   "cell_type": "code",
   "execution_count": 14,
   "metadata": {
    "vscode": {
     "languageId": "plaintext"
    }
   },
   "outputs": [
    {
     "name": "stdout",
     "output_type": "stream",
     "text": [
      "\n"
     ]
    }
   ],
   "source": [
    "df_orders_bronze = (\n",
    "    spark.read\n",
    "    .format(\"parquet\")\n",
    "    .load(BRONZE_ORDERS_PATH)\n",
    ")"
   ]
  },
  {
   "cell_type": "code",
   "execution_count": 15,
   "metadata": {
    "vscode": {
     "languageId": "plaintext"
    }
   },
   "outputs": [
    {
     "name": "stdout",
     "output_type": "stream",
     "text": [
      "+--------------------+-------------+-------------------+--------------------+--------------------+\n",
      "|            event_id|   event_type|    event_timestamp|            order_id|       order_details|\n",
      "+--------------------+-------------+-------------------+--------------------+--------------------+\n",
      "|ev-6b7587c1-1cb7-...|ORDER_CREATED|2024-06-23 16:19:19|ord-5e8b03c5-f916...|{cus-fa1e4bf5-0d0...|\n",
      "|ev-673ef19f-8c5c-...|ORDER_CREATED|2024-06-23 16:19:26|ord-f26ad03a-4e19...|{cus-40fae667-b78...|\n",
      "|ev-abb492e3-dc0e-...|ORDER_CREATED|2024-06-23 16:19:32|ord-a595c12c-e73d...|{cus-ad7098ff-de1...|\n",
      "|ev-308a173e-c3ac-...|ORDER_CREATED|2024-06-23 16:19:39|ord-b37a714b-aaa6...|{cus-311a7951-574...|\n",
      "|ev-337be020-46bf-...|ORDER_CREATED|2024-06-23 16:19:46|ord-5edb868e-5481...|{cus-b5ff74ca-cb3...|\n",
      "|ev-57068625-1eb9-...|ORDER_CREATED|2024-06-23 16:19:52|ord-7dc2e7c5-13ad...|{cus-aa39738d-7ee...|\n",
      "|ev-86ff429a-64d3-...|ORDER_CREATED|2024-06-23 16:19:59|ord-75be955b-7659...|{cus-e45d02fb-662...|\n",
      "|ev-a06c8ac7-165b-...|ORDER_CREATED|2024-06-23 16:20:07|ord-18b3d774-a37c...|{cus-83c5df46-afb...|\n",
      "|ev-ae138c37-20a7-...|ORDER_CREATED|2024-06-23 16:20:13|ord-75fb0ae6-8be9...|{cus-b2fa325c-586...|\n",
      "|ev-358a3607-db80-...|ORDER_CREATED|2024-06-23 16:20:20|ord-aa3cee40-9a3c...|{cus-251f7b75-b79...|\n",
      "|ev-4eac65b4-fe26-...|ORDER_CREATED|2024-06-23 16:20:28|ord-75ea8db0-a2f3...|{cus-f93678b7-961...|\n",
      "|ev-87dd6390-10ee-...|ORDER_CREATED|2024-06-23 16:20:34|ord-eb097cd7-6d50...|{cus-008fc6da-ada...|\n",
      "|ev-ffa9d7f9-712a-...|ORDER_CREATED|2024-06-23 16:20:41|ord-fa8468c9-6a39...|{cus-0caaf7d5-340...|\n",
      "|ev-6b27ae60-6361-...|ORDER_CREATED|2024-06-23 16:20:49|ord-f268efc9-1d0f...|{cus-80843c66-e9c...|\n",
      "|ev-598d6a93-44d3-...|ORDER_CREATED|2024-06-23 16:20:55|ord-c516feb1-a4ce...|{cus-7c300be9-82d...|\n",
      "|ev-8392ead7-fd9f-...|ORDER_CREATED|2024-06-23 16:21:01|ord-ed48c937-b7b7...|{cus-e2e8e975-503...|\n",
      "|ev-76bd026f-1624-...|ORDER_CREATED|2024-06-23 16:21:08|ord-adec481c-3de4...|{cus-80665271-6a9...|\n",
      "|ev-4838d350-21cb-...|ORDER_CREATED|2024-06-23 16:21:15|ord-c2aef83b-b90c...|{cus-f0de11c8-911...|\n",
      "|ev-df7b9ad4-16e0-...|ORDER_CREATED|2024-06-23 16:21:21|ord-cda3d9d1-c310...|{cus-8597842a-b0b...|\n",
      "|ev-cec06a2c-fd98-...|ORDER_CREATED|2024-06-23 16:21:28|ord-bb1f8b07-7153...|{cus-b7864b8f-289...|\n",
      "+--------------------+-------------+-------------------+--------------------+--------------------+\n",
      "only showing top 20 rows\n"
     ]
    }
   ],
   "source": [
    "df_orders_bronze.show()"
   ]
  },
  {
   "cell_type": "code",
   "execution_count": 16,
   "metadata": {
    "vscode": {
     "languageId": "plaintext"
    }
   },
   "outputs": [
    {
     "name": "stdout",
     "output_type": "stream",
     "text": [
      "+--------------------+-------------------+--------------------+--------------------+--------------------+--------------------+------------+--------------------+-------------------+-------------------+--------+-------+------------------+-------------------+\n",
      "|            order_id|       total_weight|          address_id|        neighborhood|         coordinates|                road|house_number|              suburb|      city_district|              state|postcode|country|               lat|                lon|\n",
      "+--------------------+-------------------+--------------------+--------------------+--------------------+--------------------+------------+--------------------+-------------------+-------------------+--------+-------+------------------+-------------------+\n",
      "|ord-5e8b03c5-f916...|  4.140000090003014|cus-f936d114-7b08...|              Tetuán|[40.4636955817725...|  Calle de Villaamil|            |              Tetuán|                   |Comunidad de Madrid|   28039| España| 40.46369171142578|-3.7091658115386963|\n",
      "|ord-f26ad03a-4e19...| 0.7399999871850014|cus-5edc4aba-b03b...|              Tetuán|[40.4680563321011...|Travesía de Santi...|            |              Tetuán|                   |Comunidad de Madrid|   28029| España| 40.46803665161133| -3.701277494430542|\n",
      "|ord-a595c12c-e73d...|0.10999999940395355|cus-2b0f7959-adc3...|         Carabanchel|[40.3824172709286...|    Calle del Chimbo|            |         Carabanchel|                   |Comunidad de Madrid|   28025| España|40.382450103759766| -3.728860378265381|\n",
      "|ord-b37a714b-aaa6...| 0.5199999809265137|cus-01b50cfc-f7f9...|  Puente de Vallecas|[40.3946412986724...|    Autovía del Este|            |           Moratalaz|                   |Comunidad de Madrid|   28030| España|40.394718170166016|-3.6392252445220947|\n",
      "|ord-5edb868e-5481...|  5.410000000149012|cus-84c9d039-f6e7...|            Chamberí|[40.4423821429120...|Calle de Julián R...|            |            Chamberí|                   |Comunidad de Madrid|   28003| España|40.442054748535156| -3.717773199081421|\n",
      "|ord-7dc2e7c5-13ad...|0.33000001311302185|cus-05810772-bb46...|  Puente de Vallecas|[40.3878253672544...|Anillo Verde Cicl...|            |  Puente de Vallecas|                   |Comunidad de Madrid|   28038| España| 40.38789367675781|  -3.63498592376709|\n",
      "|ord-75be955b-7659...| 0.6900000125169754|cus-79cc163b-24da...|          Villaverde|[40.3537431800841...|Paseo de Plata y ...|            |          Villaverde|                   |Comunidad de Madrid|   28919| España|40.352806091308594| -3.719221830368042|\n",
      "|ord-18b3d774-a37c...| 1.4600000102072954|cus-3518098a-1521...|               Usera|[40.3676366331576...|    Calle del Segura|            |               Usera|                   |Comunidad de Madrid|   28041| España| 40.36784744262695| -3.720001697540283|\n",
      "|ord-75fb0ae6-8be9...| 1.3499999642372131|cus-7dfeb449-24b5...|          Arganzuela|[40.4015067900447...|Plaza de Luca de ...|            |          Arganzuela|                   |Comunidad de Madrid|   28045| España|40.401878356933594| -3.693852424621582|\n",
      "|ord-aa3cee40-9a3c...| 1.2000000178813934|cus-421d8eb6-5310...|              Retiro|[40.4196999427461...|Avenida de Menénd...|            |              Retiro|                   |Comunidad de Madrid|   28009| España| 40.41971969604492|-3.6791579723358154|\n",
      "|ord-75ea8db0-a2f3...| 1.6399999931454659|cus-d54ff169-f516...|              Retiro|[40.4210525686413...|Calle del Doctor ...|          44|              Retiro|                   |Comunidad de Madrid|   28007| España| 40.42096710205078|-3.6694514751434326|\n",
      "|ord-eb097cd7-6d50...| 0.2800000011920929|cus-a7b86420-22b0...|Fuencarral - El P...|[40.4947553504111...|Pista del Arroyo ...|            |                    |Fuencarral-El Pardo|Comunidad de Madrid|   28048| España|  40.5004768371582|-3.8107833862304688|\n",
      "|ord-fa8468c9-6a39...|0.28999999165534973|cus-44065298-3ceb...|  Puente de Vallecas|[40.3810942421593...|Calle de La Reina...|           2|  Puente de Vallecas|                   |Comunidad de Madrid|   28018| España| 40.38106155395508| -3.664472818374634|\n",
      "|ord-f268efc9-1d0f...|  7.679999798536301|cus-b8343bee-3721...|              Latina|[40.3940224308075...|  Calle Montehermoso|            |              Latina|                   |Comunidad de Madrid|   28024| España|40.394004821777344| -3.772719144821167|\n",
      "|ord-c516feb1-a4ce...|0.20000000298023224|cus-62c44480-59f0...|   Villa de Vallecas|[40.3622887339668...|Camino de la Magd...|            |   Villa de Vallecas|                   |Comunidad de Madrid|   28031| España| 40.36231231689453|-3.6376845836639404|\n",
      "|ord-ed48c937-b7b7...|0.23000000417232513|cus-0165ec32-ae53...|              Latina|[40.3694265764257...|Carretera a la Ve...|            |              Latina|                   |Comunidad de Madrid|   28925| España|40.369083404541016| -3.805380344390869|\n",
      "|ord-adec481c-3de4...| 10.520000219345093|cus-5621f3f1-3a8a...|San Blas - Canill...|[40.4336437392525...|Calle de María Se...|            |San Blas - Canill...|                   |Comunidad de Madrid|   28022| España| 40.43362808227539|-3.6046195030212402|\n",
      "|ord-c2aef83b-b90c...|  5.350000023841858|cus-ba5324db-5055...|         Carabanchel|[40.3798059363048...| Avenida de Abrantes|          79|         Carabanchel|                   |Comunidad de Madrid|   28025| España| 40.38042449951172|-3.7277610301971436|\n",
      "|ord-cda3d9d1-c310...|  4.110000042244792|cus-4b2e5dac-10b9...|            Chamberí|[40.4418369070601...|Calle del General...|            |            Chamberí|                   |Comunidad de Madrid|   28003| España|40.441749572753906|-3.7144722938537598|\n",
      "|ord-bb1f8b07-7153...|  1.840000033378601|cus-e160b2ef-84ea...|         Carabanchel|[40.3620171582246...|Avenida de la Peseta|         112|         Carabanchel|                   |Comunidad de Madrid|   28054| España| 40.36265182495117|-3.7462267875671387|\n",
      "+--------------------+-------------------+--------------------+--------------------+--------------------+--------------------+------------+--------------------+-------------------+-------------------+--------+-------+------------------+-------------------+\n",
      "only showing top 20 rows\n"
     ]
    }
   ],
   "source": [
    "(\n",
    "    df_orders_bronze\n",
    "    .select(\n",
    "        f.col(\"order_id\"),\n",
    "        f.col(\"order_details.total_weight\").alias(\"total_weight\"),\n",
    "        f.col(\"order_details.destination_address.address_id\").alias(\"address_id\"),\n",
    "        f.col(\"order_details.destination_address.neighborhood\").alias(\"neighborhood\"),\n",
    "        f.col(\"order_details.destination_address.coordinates\").alias(\"coordinates\"),\n",
    "        f.col(\"order_details.destination_address.road\").alias(\"road\"),\n",
    "        f.col(\"order_details.destination_address.house_number\").alias(\"house_number\"),\n",
    "        f.col(\"order_details.destination_address.suburb\").alias(\"suburb\"),\n",
    "        f.col(\"order_details.destination_address.city_district\").alias(\"city_district\"),\n",
    "        f.col(\"order_details.destination_address.state\").alias(\"state\"),\n",
    "        f.col(\"order_details.destination_address.postcode\").alias(\"postcode\"),\n",
    "        f.col(\"order_details.destination_address.country\").alias(\"country\"),\n",
    "        f.col(\"order_details.destination_address.lat\").alias(\"lat\"),\n",
    "        f.col(\"order_details.destination_address.lon\").alias(\"lon\"),\n",
    "    )\n",
    "    .show()\n",
    ")"
   ]
  },
  {
   "cell_type": "code",
   "execution_count": 18,
   "metadata": {
    "vscode": {
     "languageId": "python_glue_session"
    }
   },
   "outputs": [
    {
     "name": "stdout",
     "output_type": "stream",
     "text": [
      "+--------------------+--------------------+--------------------+--------+------+--------------------+\n",
      "|            order_id|              itemId|         productName|quantity| price|              weight|\n",
      "+--------------------+--------------------+--------------------+--------+------+--------------------+\n",
      "|ord-5e8b03c5-f916...|pro-0febdb7595e97...|Rubie's Costume F...|       1|  7.98| 0.10999999940395355|\n",
      "|ord-5e8b03c5-f916...|pro-c2b2335e3a5b1...|Tamiya 78024 IJN ...|       2|133.45|  1.3200000524520874|\n",
      "|ord-5e8b03c5-f916...|pro-32bf000c61137...|Bestway 43187E Ca...|       1|  10.5|  1.3899999856948853|\n",
      "|ord-f26ad03a-4e19...|pro-935926f754951...|Dart Gun - Avenge...|       2|   7.2|  0.3199999928474426|\n",
      "|ord-f26ad03a-4e19...|pro-5915fb6ac04be...|Mattel Enchantima...|       1| 13.97| 0.10000000149011612|\n",
      "|ord-a595c12c-e73d...|pro-460313f815d26...|BePuzzled Origina...|       1| 10.74| 0.10999999940395355|\n",
      "|ord-b37a714b-aaa6...|pro-28509105510aa...|Rubies Monster Hi...|       2| 16.66| 0.25999999046325684|\n",
      "|ord-5edb868e-5481...|pro-ed23eac8181bc...|GUND Pusheen Snac...|       3|  15.3|                0.25|\n",
      "|ord-5edb868e-5481...|pro-ee07d53cb4d8c...|Amscan 156590 Cle...|       3|  4.37|0.019999999552965164|\n",
      "|ord-5edb868e-5481...|pro-8e26b96e6270e...|Gorilla Playsets ...|       2| 43.91|                2.25|\n",
      "|ord-5edb868e-5481...|pro-bd11e83088a9f...|Ginger Ray LO-507...|       2| 18.88| 0.05000000074505806|\n",
      "|ord-7dc2e7c5-13ad...|pro-96e41ad271ebf...|Barbie Inspiring ...|       1| 22.99| 0.33000001311302185|\n",
      "|ord-75be955b-7659...|pro-38ed1d00add96...|Fisher-Price Imag...|       3|  6.99| 0.14000000059604645|\n",
      "|ord-75be955b-7659...|pro-2593975c2d300...|Creativity Street...|       3| 23.99| 0.09000000357627869|\n",
      "|ord-18b3d774-a37c...|pro-2b82ad11edbd1...|Forum Novelties W...|       1| 18.99| 0.28999999165534973|\n",
      "|ord-18b3d774-a37c...|pro-7750592304cc5...|Mudpuppy Under th...|       2|  8.47|                0.25|\n",
      "|ord-18b3d774-a37c...|pro-27d41eb7a2392...|Anagram 28290 Num...|       3|  6.57| 0.03999999910593033|\n",
      "|ord-18b3d774-a37c...|pro-fa339ab517cdb...|Redcat Racing Ste...|       1| 10.43|0.009999999776482582|\n",
      "|ord-18b3d774-a37c...|pro-6971f7cfe374b...|John Deere Tracto...|       1| 16.68|  0.5400000214576721|\n",
      "|ord-75fb0ae6-8be9...|pro-fbae3667b8753...|Rubie's Costume S...|       3|  53.0| 0.44999998807907104|\n",
      "+--------------------+--------------------+--------------------+--------+------+--------------------+\n",
      "only showing top 20 rows\n"
     ]
    }
   ],
   "source": [
    "(\n",
    "    df_orders_bronze\n",
    "    .withColumn(\"exploded_order\", f.explode(f.col(\"order_details.items\")))\n",
    "    .select(\n",
    "        f.col(\"order_id\"),\n",
    "        f.col(\"exploded_order.product_id\").alias(\"itemId\"),\n",
    "        f.col(\"exploded_order.product_name\").alias(\"productName\"),\n",
    "        f.col(\"exploded_order.quantity\").alias(\"quantity\"),\n",
    "        f.col(\"exploded_order.price\").alias(\"price\"),\n",
    "        f.col(\"exploded_order.weight\").alias(\"weight\"),\n",
    "    )\n",
    "    .show()\n",
    ")"
   ]
  },
  {
   "cell_type": "code",
   "execution_count": 19,
   "metadata": {
    "vscode": {
     "languageId": "python_glue_session"
    }
   },
   "outputs": [
    {
     "name": "stdout",
     "output_type": "stream",
     "text": [
      "2139.0200025383383\n"
     ]
    }
   ],
   "source": [
    "# weight treshold \n",
    "(\n",
    "    df_orders_bronze\n",
    "    .select(\n",
    "        f.sum(f.col(\"order_details.total_weight\")).alias(\"total_weight\")\n",
    "    ).collect()[0][\"total_weight\"]\n",
    ")"
   ]
  },
  {
   "cell_type": "code",
   "execution_count": null,
   "metadata": {
    "vscode": {
     "languageId": "python_glue_session"
    }
   },
   "outputs": [],
   "source": []
  },
  {
   "cell_type": "markdown",
   "metadata": {},
   "source": [
    "## OLD TESTS "
   ]
  },
  {
   "cell_type": "markdown",
   "metadata": {},
   "source": [
    "### Do not run"
   ]
  },
  {
   "cell_type": "code",
   "execution_count": null,
   "metadata": {
    "vscode": {
     "languageId": "python_glue_session"
    }
   },
   "outputs": [],
   "source": [
    "kinesis_stream = (\n",
    "    spark\n",
    "    .readStream\n",
    "    .format(\"kinesis\")\n",
    "    .option(\"streamName\", STREAM_NAME)\n",
    "    .option(\"startingPosition\", \"trim_horizon\")\n",
    "    # .option(\"startingPosition\", \"latest\")\n",
    "    .load()\n",
    ")"
   ]
  },
  {
   "cell_type": "code",
   "execution_count": null,
   "metadata": {
    "vscode": {
     "languageId": "python_glue_session"
    }
   },
   "outputs": [],
   "source": [
    "kinesis_stream.printSchema()"
   ]
  },
  {
   "cell_type": "code",
   "execution_count": null,
   "metadata": {
    "vscode": {
     "languageId": "python_glue_session"
    }
   },
   "outputs": [],
   "source": [
    "stream = (\n",
    "    kinesis_stream.writeStream\n",
    "    .format(\"memory\")\n",
    "    .queryName(\"kinesis\")\n",
    "    .option(\"checkpointLocation\", f\"s3://{BUCKET_NAME}/orders/checkpoints\")\n",
    "    .start()\n",
    ")"
   ]
  },
  {
   "cell_type": "code",
   "execution_count": null,
   "metadata": {
    "vscode": {
     "languageId": "python_glue_session"
    }
   },
   "outputs": [],
   "source": [
    "spark.table(\"kinesis\").show()"
   ]
  },
  {
   "cell_type": "code",
   "execution_count": null,
   "metadata": {
    "vscode": {
     "languageId": "python_glue_session"
    }
   },
   "outputs": [],
   "source": [
    "df_orders_stream = (\n",
    "    kinesis_stream\n",
    "    .withColumn(\"json_data\", f.col(\"data\").cast(\"string\"))\n",
    "    .withColumn(\"views\", f.from_json(\"json_data\", schema))\n",
    "    .select(\"views.*\")\n",
    ")"
   ]
  },
  {
   "cell_type": "code",
   "execution_count": null,
   "metadata": {
    "vscode": {
     "languageId": "python_glue_session"
    }
   },
   "outputs": [],
   "source": [
    "df_orders_stream.printSchema()"
   ]
  },
  {
   "cell_type": "code",
   "execution_count": null,
   "metadata": {
    "vscode": {
     "languageId": "python_glue_session"
    }
   },
   "outputs": [],
   "source": [
    "check_num = 1"
   ]
  },
  {
   "cell_type": "code",
   "execution_count": null,
   "metadata": {
    "vscode": {
     "languageId": "python_glue_session"
    }
   },
   "outputs": [],
   "source": [
    "orders_stream = (\n",
    "    df_orders_stream.writeStream\n",
    "    .format(\"memory\")\n",
    "    .queryName(\"orders_messages\")\n",
    "    .option(\"checkpointLocation\", f\"s3://{BUCKET_NAME}/orders/checkpoints/orders_messages-processed_{str(check_num)}\")\n",
    "    .start()\n",
    ")"
   ]
  },
  {
   "cell_type": "code",
   "execution_count": null,
   "metadata": {
    "vscode": {
     "languageId": "python_glue_session"
    }
   },
   "outputs": [],
   "source": [
    "spark.table(\"orders_messages\")"
   ]
  },
  {
   "cell_type": "code",
   "execution_count": null,
   "metadata": {
    "vscode": {
     "languageId": "python_glue_session"
    }
   },
   "outputs": [],
   "source": [
    "spark.streams.active[0].stop()"
   ]
  },
  {
   "cell_type": "code",
   "execution_count": null,
   "metadata": {
    "vscode": {
     "languageId": "python_glue_session"
    }
   },
   "outputs": [],
   "source": [
    "(\n",
    "    kinesis_stream\n",
    "    .withColumn(\"json_data\", f.col(\"data\").cast(\"string\"))\n",
    "    .withColumn(\"views\", f.from_json(\"json_data\", schema))\n",
    "    .select(\"views.*\")\n",
    ")"
   ]
  }
 ],
 "metadata": {
  "kernelspec": {
   "display_name": "Glue PySpark",
   "language": "python",
   "name": "glue_pyspark"
  },
  "language_info": {
   "codemirror_mode": {
    "name": "python",
    "version": 3
   },
   "file_extension": ".py",
   "mimetype": "text/x-python",
   "name": "Python_Glue_Session",
   "pygments_lexer": "python3"
  }
 },
 "nbformat": 4,
 "nbformat_minor": 4
}
