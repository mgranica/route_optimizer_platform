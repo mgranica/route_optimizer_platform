{
 "cells": [
  {
   "cell_type": "markdown",
   "id": "e8b99ed4-e24e-4c9d-8d15-d41d673a997f",
   "metadata": {},
   "source": [
    "# 1. Order producer"
   ]
  },
  {
   "cell_type": "markdown",
   "id": "47939d15-ceb6-4fb0-913a-e60701d4ac62",
   "metadata": {},
   "source": [
    "> N.B. para ejecutar el notebook es necesaro modificar el magic_command de iam_role. Cada cuenta tiene uno asociado, navegar a la pestaña IAM/Roles/LabRole dentro de AWs y copiar ARN como se indica en la imagen adjuntada.\n",
    ">  "
   ]
  },
  {
   "cell_type": "code",
   "execution_count": 5,
   "id": "5a428911-8751-4478-8295-9d744f77b577",
   "metadata": {},
   "outputs": [
    {
     "name": "stdout",
     "output_type": "stream",
     "text": [
      "Welcome to the Glue Interactive Sessions Kernel\n",
      "For more information on available magic commands, please type %help in any new cell.\n",
      "\n",
      "Please view our Getting Started page to access the most up-to-date information on the Interactive Sessions kernel: https://docs.aws.amazon.com/glue/latest/dg/interactive-sessions.html\n",
      "It looks like there is a newer version of the kernel available. The latest version is 1.0.6 and you have 1.0.4 installed.\n",
      "Please run `pip install --upgrade aws-glue-sessions` to upgrade your kernel\n",
      "Current iam_role is None\n",
      "iam_role has been set to arn:aws:iam::484183516222:role/LabRole.\n",
      "Previous region: None\n",
      "Setting new region to: us-east-1\n",
      "Region is set to: us-east-1\n",
      "Previous number of workers: None\n",
      "Setting new number of workers to: 2\n",
      "Current idle_timeout is None minutes.\n",
      "idle_timeout has been set to 120 minutes.\n"
     ]
    }
   ],
   "source": [
    "%iam_role arn:aws:iam::484183516222:role/LabRole\n",
    "%region us-east-1\n",
    "%number_of_workers 2\n",
    "%idle_timeout 120"
   ]
  },
  {
   "cell_type": "code",
   "execution_count": 1,
   "id": "01cbc1f9-d795-490f-b7e8-91b0f0bdf8b4",
   "metadata": {},
   "outputs": [
    {
     "name": "stdout",
     "output_type": "stream",
     "text": [
      "Trying to create a Glue session for the kernel.\n",
      "Session Type: etl\n",
      "Worker Type: G.1X\n",
      "Number of Workers: 2\n",
      "Session ID: 25ec7e5a-f821-4778-8321-e6451546ffa8\n",
      "Applying the following default arguments:\n",
      "--glue_kernel_version 1.0.4\n",
      "--enable-glue-datacatalog true\n",
      "Waiting for session 25ec7e5a-f821-4778-8321-e6451546ffa8 to get into ready status...\n",
      "Session 25ec7e5a-f821-4778-8321-e6451546ffa8 has been created.\n",
      "<pyspark.sql.session.SparkSession object at 0x7fd949b1dd80>\n"
     ]
    }
   ],
   "source": [
    "spark"
   ]
  },
  {
   "cell_type": "code",
   "execution_count": 2,
   "id": "33a62dc5-8261-4449-a6b9-ecfc29bf308f",
   "metadata": {},
   "outputs": [
    {
     "name": "stdout",
     "output_type": "stream",
     "text": [
      "\n"
     ]
    }
   ],
   "source": [
    "BUCKET_NAME = \"vrpoptimiserplatform\""
   ]
  },
  {
   "cell_type": "code",
   "execution_count": null,
   "id": "c8f3f6cd-b610-4acf-adcd-34a4e81cac3e",
   "metadata": {},
   "outputs": [],
   "source": []
  }
 ],
 "metadata": {
  "kernelspec": {
   "display_name": "Glue PySpark",
   "language": "python",
   "name": "glue_pyspark"
  },
  "language_info": {
   "codemirror_mode": {
    "name": "python",
    "version": 3
   },
   "file_extension": ".py",
   "mimetype": "text/x-python",
   "name": "Python_Glue_Session",
   "pygments_lexer": "python3"
  }
 },
 "nbformat": 4,
 "nbformat_minor": 5
}
