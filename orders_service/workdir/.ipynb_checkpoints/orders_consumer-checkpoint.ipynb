{
 "cells": [
  {
   "cell_type": "code",
   "execution_count": null,
   "id": "dd91a5cc",
   "metadata": {},
   "outputs": [],
   "source": [
    "%iam_role arn:aws:iam::484183516222:role/LabRole\n",
    "%region us-east-1\n",
    "%number_of_workers 2\n",
    "%idle_timeout 60"
   ]
  },
  {
   "cell_type": "code",
   "execution_count": null,
   "id": "9bc745f8",
   "metadata": {},
   "outputs": [],
   "source": [
    "spark"
   ]
  },
  {
   "cell_type": "markdown",
   "id": "2c5ef301",
   "metadata": {},
   "source": [
    "# 1. Configuracion del Entorno"
   ]
  },
  {
   "cell_type": "code",
   "execution_count": null,
   "id": "421541f7",
   "metadata": {},
   "outputs": [],
   "source": [
    "import boto3\n",
    "import json\n",
    "import os\n",
    "from uuid import uuid4\n",
    "from datetime import datetime\n",
    "from datetime import timedelta\n",
    "import time"
   ]
  },
  {
   "cell_type": "code",
   "execution_count": null,
   "id": "3c926b17",
   "metadata": {},
   "outputs": [],
   "source": [
    "aws_access_key_id=os.environ.get(\"AWS_ACCESS_KEY_ID\")\n",
    "aws_secret_access_key=os.environ.get(\"AWS_SECRET_ACCESS_KEY\")\n",
    "aws_session_token=os.environ.get(\"AWS_SESSION_TOKEN\")\n"
   ]
  },
  {
   "cell_type": "markdown",
   "id": "7f5f2fe8",
   "metadata": {},
   "source": []
  }
 ],
 "metadata": {
  "language_info": {
   "name": "python"
  }
 },
 "nbformat": 4,
 "nbformat_minor": 2
}
