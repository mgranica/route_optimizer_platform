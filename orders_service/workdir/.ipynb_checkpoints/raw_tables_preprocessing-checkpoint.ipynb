{
 "cells": [
  {
   "cell_type": "markdown",
   "id": "e8b99ed4-e24e-4c9d-8d15-d41d673a997f",
   "metadata": {},
   "source": [
    "# 1. Order producer"
   ]
  },
  {
   "cell_type": "markdown",
   "id": "47939d15-ceb6-4fb0-913a-e60701d4ac62",
   "metadata": {},
   "source": [
    "> N.B. para ejecutar el notebook es necesaro modificar el magic_command de iam_role. Cada cuenta tiene uno asociado, navegar a la pestaña IAM/Roles/LabRole dentro de AWs y copiar ARN como se indica en la imagen adjuntada.\n",
    ">  "
   ]
  },
  {
   "cell_type": "code",
   "execution_count": 5,
   "id": "5a428911-8751-4478-8295-9d744f77b577",
   "metadata": {},
   "outputs": [
    {
     "name": "stdout",
     "output_type": "stream",
     "text": [
      "Welcome to the Glue Interactive Sessions Kernel\n",
      "For more information on available magic commands, please type %help in any new cell.\n",
      "\n",
      "Please view our Getting Started page to access the most up-to-date information on the Interactive Sessions kernel: https://docs.aws.amazon.com/glue/latest/dg/interactive-sessions.html\n",
      "It looks like there is a newer version of the kernel available. The latest version is 1.0.6 and you have 1.0.4 installed.\n",
      "Please run `pip install --upgrade aws-glue-sessions` to upgrade your kernel\n",
      "Current iam_role is None\n",
      "iam_role has been set to arn:aws:iam::484183516222:role/LabRole.\n",
      "Previous region: None\n",
      "Setting new region to: us-east-1\n",
      "Region is set to: us-east-1\n",
      "Previous number of workers: None\n",
      "Setting new number of workers to: 2\n",
      "Current idle_timeout is None minutes.\n",
      "idle_timeout has been set to 60 minutes.\n"
     ]
    }
   ],
   "source": [
    "%iam_role arn:aws:iam::484183516222:role/LabRole\n",
    "%region us-east-1\n",
    "%number_of_workers 2\n",
    "%idle_timeout 60"
   ]
  },
  {
   "cell_type": "code",
   "execution_count": 1,
   "id": "01cbc1f9-d795-490f-b7e8-91b0f0bdf8b4",
   "metadata": {},
   "outputs": [
    {
     "name": "stdout",
     "output_type": "stream",
     "text": [
      "Trying to create a Glue session for the kernel.\n",
      "Session Type: etl\n",
      "Worker Type: G.1X\n",
      "Number of Workers: 2\n",
      "Session ID: 340fd606-57aa-4f26-98d1-70898bfc2aba\n",
      "Applying the following default arguments:\n",
      "--glue_kernel_version 1.0.4\n",
      "--enable-glue-datacatalog true\n",
      "Waiting for session 340fd606-57aa-4f26-98d1-70898bfc2aba to get into ready status...\n",
      "Session 340fd606-57aa-4f26-98d1-70898bfc2aba has been created.\n",
      "<pyspark.sql.session.SparkSession object at 0x7fce02d35d80>\n"
     ]
    }
   ],
   "source": [
    "spark"
   ]
  },
  {
   "cell_type": "markdown",
   "id": "98e2299c-87a5-4202-9c5e-54b232d5466f",
   "metadata": {},
   "source": [
    "# 1. imports & Constants"
   ]
  },
  {
   "cell_type": "code",
   "execution_count": 14,
   "id": "6d55e9a2-6888-49f8-8ee5-93b681496a98",
   "metadata": {},
   "outputs": [
    {
     "name": "stdout",
     "output_type": "stream",
     "text": [
      "\n"
     ]
    }
   ],
   "source": [
    "import os\n",
    "import pyspark.sql.types as t\n",
    "import pyspark.sql.functions as f"
   ]
  },
  {
   "cell_type": "code",
   "execution_count": 15,
   "id": "33a62dc5-8261-4449-a6b9-ecfc29bf308f",
   "metadata": {},
   "outputs": [
    {
     "name": "stdout",
     "output_type": "stream",
     "text": [
      "\n"
     ]
    }
   ],
   "source": [
    "BUCKET_NAME = \"s3://vrpoptimiserplatform\"\n",
    "RAW = \"raw\"\n",
    "ORDERS = \"orders\"\n",
    "\n",
    "BRONZE = \"bronze\"\n",
    "SILVER = \"silver\"\n",
    "GOLD = \"gold\"\n",
    "\n",
    "ADDRESS_DATA = \"address_data.json\"\n",
    "CLIENTS_DATA = \"client_data.json\"\n",
    "\n",
    "RAW_ADDRESS_PATH = os.path.join(BUCKET_NAME, RAW, ADDRESS_DATA)\n",
    "RAW_CIENTS_PATH = os.path.join(BUCKET_NAME, RAW, CLIENTS_DATA)"
   ]
  },
  {
   "cell_type": "code",
   "execution_count": 20,
   "id": "75c2172f-7308-44f8-9be4-2fbbaae05650",
   "metadata": {},
   "outputs": [
    {
     "name": "stdout",
     "output_type": "stream",
     "text": [
      "'s3://vrpoptimiserplatform/raw/address_data.json'\n"
     ]
    }
   ],
   "source": [
    "\"s3://vrpoptimiserplatform/raw/address_data.json\"\n",
    "RAW_ADDRESS_PATH"
   ]
  },
  {
   "cell_type": "code",
   "execution_count": 5,
   "id": "c8f3f6cd-b610-4acf-adcd-34a4e81cac3e",
   "metadata": {
    "scrolled": true
   },
   "outputs": [
    {
     "name": "stdout",
     "output_type": "stream",
     "text": [
      "\n"
     ]
    }
   ],
   "source": [
    "def read_json_to_df(file_path, schema=None):\n",
    "    \"\"\"\n",
    "    Read JSON file into DataFrame.\n",
    "    \n",
    "    :param file_path: Path to the JSON file.\n",
    "    :param schema: Optional schema to enforce while reading.\n",
    "    :return: DataFrame\n",
    "    \"\"\"\n",
    "    if schema:\n",
    "        return spark.read.schema(schema).json(file_path)\n",
    "    else:\n",
    "        return spark.read.json(file_path)\n",
    "\n",
    "def write_df_to_parquet(df, file_path, partition_by=None, mode=\"overwrite\"):\n",
    "    \"\"\"\n",
    "    Write DataFrame to Parquet file.\n",
    "    \n",
    "    :param df: DataFrame to be written.\n",
    "    :param file_path: Path where the Parquet file will be saved.\n",
    "    :param partition_by: Column(s) to partition by.\n",
    "    :param mode: Write mode, default is 'overwrite'.\n",
    "    \"\"\"\n",
    "    if partition_by:\n",
    "        df.write.mode(mode).partitionBy(partition_by).parquet(file_path)\n",
    "    else:\n",
    "        df.write.mode(mode).parquet(file_path)\n",
    "\n",
    "def transform_clients_bronze_to_silver(clients_df):\n",
    "    \"\"\"\n",
    "    Transform Bronze (raw) Clients DataFrame to Silver (cleaned) DataFrame.\n",
    "    \n",
    "    :param clients_df: Clients DataFrame.\n",
    "    :return: Cleaned Clients DataFrame.\n",
    "    \"\"\"\n",
    "    # Example transformations: Filtering active clients, renaming columns, etc.\n",
    "    clients_silver_df = clients_df.filter(col(\"status\") == \"active\")\n",
    "    return clients_silver_df\n",
    "\n",
    "def transform_addresses_bronze_to_silver(addresses_df):\n",
    "    \"\"\"\n",
    "    Transform Bronze (raw) Addresses DataFrame to Silver (cleaned) DataFrame.\n",
    "    \n",
    "    :param addresses_df: Addresses DataFrame.\n",
    "    :return: Cleaned Addresses DataFrame.\n",
    "    \"\"\"\n",
    "    # Assuming some transformations on addresses, e.g., removing empty house numbers\n",
    "    addresses_silver_df = addresses_df.filter(col(\"house_number\") != \"\")\n",
    "    return addresses_silver_df\n",
    "\n",
    "def transform_clients_addresses_silver_to_gold(clients_silver_df, addresses_silver_df):\n",
    "    \"\"\"\n",
    "    Transform Silver (cleaned) Clients and Addresses DataFrames to Gold (aggregated/enriched) DataFrame.\n",
    "    \n",
    "    :param clients_silver_df: Cleaned Clients DataFrame.\n",
    "    :param addresses_silver_df: Cleaned Addresses DataFrame.\n",
    "    :return: Enriched DataFrame combining both clients and addresses.\n",
    "    \"\"\"\n",
    "    # Example aggregation: Joining clients with their addresses\n",
    "    gold_df = clients_silver_df.join(addresses_silver_df, on=\"client_id\", how=\"inner\")\n",
    "    return gold_df\n",
    "\n"
   ]
  },
  {
   "cell_type": "markdown",
   "id": "f3966786-7aa7-4a8b-8901-76938b8888d7",
   "metadata": {},
   "source": [
    "# 2. Medallion Architecture"
   ]
  },
  {
   "cell_type": "markdown",
   "id": "b54b71d1-756f-4823-964d-b0d2431aef03",
   "metadata": {},
   "source": [
    "## 2.1 Bronze Layer"
   ]
  },
  {
   "cell_type": "code",
   "execution_count": 22,
   "id": "fc7a55b6-d181-4646-98c6-a6764c218bed",
   "metadata": {},
   "outputs": [
    {
     "name": "stdout",
     "output_type": "stream",
     "text": [
      "\n"
     ]
    }
   ],
   "source": [
    "# Define the schema for the clients JSON structure\n",
    "clients_schema = t.StructType([\n",
    "    t.StructField(\"client_id\", t.StringType(), True),\n",
    "    t.StructField(\"first_name\", t.StringType(), True),\n",
    "    t.StructField(\"last_name\", t.StringType(), True),\n",
    "    t.StructField(\"email\", t.StringType(), True),\n",
    "    t.StructField(\"phone_number\", t.StringType(), True),\n",
    "    t.StructField(\"date_of_birth\", t.StringType(), True),\n",
    "    t.StructField(\"gender\", t.StringType(), True),\n",
    "    t.StructField(\"occupation\", t.StringType(), True),\n",
    "    t.StructField(\"created_at\", t.StringType(), True),\n",
    "    t.StructField(\"updated_at\", t.StringType(), True),\n",
    "    t.StructField(\"status\", t.StringType(), True)\n",
    "])\n",
    "\n",
    "# Define the schema for the addresses JSON structure\n",
    "addresses_schema = t.StructType([\n",
    "    t.StructField(\"client_id\", t.StringType(), True),\n",
    "    t.StructField(\"address_id\", t.StringType(), True),\n",
    "    t.StructField(\"neighborhood\", t.StringType(), True),\n",
    "    t.StructField(\"coordinates\", t.ArrayType(t.DoubleType()), True),\n",
    "    t.StructField(\"road\", t.StringType(), True),\n",
    "    t.StructField(\"house_number\", t.StringType(), True),\n",
    "    t.StructField(\"suburb\", t.StringType(), True),\n",
    "    t.StructField(\"city_district\", t.StringType(), True),\n",
    "    t.StructField(\"state\", t.StringType(), True),\n",
    "    t.StructField(\"postcode\", t.StringType(), True),\n",
    "    t.StructField(\"country\", t.StringType(), True),\n",
    "    t.StructField(\"lat\", t.StringType(), True),\n",
    "    t.StructField(\"lon\", t.StringType(), True)\n",
    "])"
   ]
  },
  {
   "cell_type": "code",
   "execution_count": 23,
   "id": "42300c19-3aba-4e6f-840b-904dd75f8d91",
   "metadata": {},
   "outputs": [
    {
     "name": "stdout",
     "output_type": "stream",
     "text": [
      "\n"
     ]
    }
   ],
   "source": [
    "df_address_bronze = read_json_to_df(RAW_ADDRESS_PATH, addresses_schema)"
   ]
  },
  {
   "cell_type": "code",
   "execution_count": 24,
   "id": "ccc7a764-746e-4d97-ab87-f51d5a89f611",
   "metadata": {},
   "outputs": [
    {
     "name": "stdout",
     "output_type": "stream",
     "text": [
      "+---------+----------+------------+-----------+----+------------+------+-------------+-----+--------+-------+----+----+\n",
      "|client_id|address_id|neighborhood|coordinates|road|house_number|suburb|city_district|state|postcode|country| lat| lon|\n",
      "+---------+----------+------------+-----------+----+------------+------+-------------+-----+--------+-------+----+----+\n",
      "|     null|      null|        null|       null|null|        null|  null|         null| null|    null|   null|null|null|\n",
      "|     null|      null|        null|       null|null|        null|  null|         null| null|    null|   null|null|null|\n",
      "|     null|      null|        null|       null|null|        null|  null|         null| null|    null|   null|null|null|\n",
      "|     null|      null|        null|       null|null|        null|  null|         null| null|    null|   null|null|null|\n",
      "|     null|      null|        null|       null|null|        null|  null|         null| null|    null|   null|null|null|\n",
      "|     null|      null|        null|       null|null|        null|  null|         null| null|    null|   null|null|null|\n",
      "|     null|      null|        null|       null|null|        null|  null|         null| null|    null|   null|null|null|\n",
      "|     null|      null|        null|       null|null|        null|  null|         null| null|    null|   null|null|null|\n",
      "|     null|      null|        null|       null|null|        null|  null|         null| null|    null|   null|null|null|\n",
      "|     null|      null|        null|       null|null|        null|  null|         null| null|    null|   null|null|null|\n",
      "|     null|      null|        null|       null|null|        null|  null|         null| null|    null|   null|null|null|\n",
      "|     null|      null|        null|       null|null|        null|  null|         null| null|    null|   null|null|null|\n",
      "|     null|      null|        null|       null|null|        null|  null|         null| null|    null|   null|null|null|\n",
      "|     null|      null|        null|       null|null|        null|  null|         null| null|    null|   null|null|null|\n",
      "|     null|      null|        null|       null|null|        null|  null|         null| null|    null|   null|null|null|\n",
      "|     null|      null|        null|       null|null|        null|  null|         null| null|    null|   null|null|null|\n",
      "|     null|      null|        null|       null|null|        null|  null|         null| null|    null|   null|null|null|\n",
      "|     null|      null|        null|       null|null|        null|  null|         null| null|    null|   null|null|null|\n",
      "|     null|      null|        null|       null|null|        null|  null|         null| null|    null|   null|null|null|\n",
      "|     null|      null|        null|       null|null|        null|  null|         null| null|    null|   null|null|null|\n",
      "+---------+----------+------------+-----------+----+------------+------+-------------+-----+--------+-------+----+----+\n",
      "only showing top 20 rows\n"
     ]
    }
   ],
   "source": [
    "df_address_bronze.show()"
   ]
  },
  {
   "cell_type": "code",
   "execution_count": 27,
   "id": "a9954b69-9497-4cee-a275-8e1e48f57e9b",
   "metadata": {},
   "outputs": [
    {
     "name": "stdout",
     "output_type": "stream",
     "text": [
      "root\n",
      " |-- address_id: string (nullable = true)\n",
      " |-- city_district: string (nullable = true)\n",
      " |-- client_id: string (nullable = true)\n",
      " |-- coordinates: array (nullable = true)\n",
      " |    |-- element: double (containsNull = true)\n",
      " |-- country: string (nullable = true)\n",
      " |-- house_number: string (nullable = true)\n",
      " |-- lat: string (nullable = true)\n",
      " |-- lon: string (nullable = true)\n",
      " |-- neighborhood: string (nullable = true)\n",
      " |-- postcode: string (nullable = true)\n",
      " |-- road: string (nullable = true)\n",
      " |-- state: string (nullable = true)\n",
      " |-- suburb: string (nullable = true)\n"
     ]
    }
   ],
   "source": [
    "(\n",
    "    spark.read\n",
    "    .format(\"json\")\n",
    "    .option(\"multiLine\", \"True\")\n",
    "    .option(\"mode\", \"PERMISSIVE\")\n",
    "    .load(RAW_ADDRESS_PATH)\n",
    ").printSchema()"
   ]
  },
  {
   "cell_type": "code",
   "execution_count": null,
   "id": "b2a0c49b-cac4-40cd-8139-9eaec5ab0576",
   "metadata": {},
   "outputs": [],
   "source": []
  }
 ],
 "metadata": {
  "kernelspec": {
   "display_name": "Glue PySpark",
   "language": "python",
   "name": "glue_pyspark"
  },
  "language_info": {
   "codemirror_mode": {
    "name": "python",
    "version": 3
   },
   "file_extension": ".py",
   "mimetype": "text/x-python",
   "name": "Python_Glue_Session",
   "pygments_lexer": "python3"
  }
 },
 "nbformat": 4,
 "nbformat_minor": 5
}
